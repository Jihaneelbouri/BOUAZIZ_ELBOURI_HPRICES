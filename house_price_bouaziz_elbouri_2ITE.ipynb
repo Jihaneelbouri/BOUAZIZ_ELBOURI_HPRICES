{
 "cells": [
  {
   "cell_type": "markdown",
   "metadata": {},
   "source": [
    "<h1><center>House predict price</center></h1>\n",
    "<p style=\"font-family: Arial; font-size:1.75em;color:#2462C0; font-style:bold\"><br>\n",
    "\n",
    "On importe les Libraries\n",
    "</p>"
   ]
  },
  {
   "cell_type": "code",
   "execution_count": 1,
   "metadata": {
    "collapsed": true
   },
   "outputs": [],
   "source": [
    "import pandas as pd\n",
    "import matplotlib.pyplot as plt\n",
    "import numpy as np\n",
    "from sklearn.model_selection import train_test_split\n",
    "from sklearn.svm import SVR\n",
    "from sklearn import linear_model\n",
    "from sklearn.metrics import mean_squared_error\n",
    "from sklearn.neighbors import KNeighborsRegressor\n",
    "from sklearn.linear_model import LogisticRegression\n",
    "from sklearn import preprocessing\n",
    "from sklearn import linear_model\n",
    "from sklearn.tree import DecisionTreeRegressor\n",
    "from sklearn.model_selection import KFold\n",
    "from sklearn.model_selection import cross_val_score\n",
    "from sklearn.linear_model import Ridge\n",
    "import xgboost as xgb\n"
   ]
  },
  {
   "cell_type": "markdown",
   "metadata": {},
   "source": [
    "<p style=\"font-family: Arial; font-size:1.75em;color:#2462C0; font-style:bold\"><br>\n",
    "\n",
    "1-Exploration et préparation des donées\n",
    "</p>"
   ]
  },
  {
   "cell_type": "code",
   "execution_count": 2,
   "metadata": {},
   "outputs": [
    {
     "data": {
      "text/html": [
       "<div>\n",
       "<style scoped>\n",
       "    .dataframe tbody tr th:only-of-type {\n",
       "        vertical-align: middle;\n",
       "    }\n",
       "\n",
       "    .dataframe tbody tr th {\n",
       "        vertical-align: top;\n",
       "    }\n",
       "\n",
       "    .dataframe thead th {\n",
       "        text-align: right;\n",
       "    }\n",
       "</style>\n",
       "<table border=\"1\" class=\"dataframe\">\n",
       "  <thead>\n",
       "    <tr style=\"text-align: right;\">\n",
       "      <th></th>\n",
       "      <th>Id</th>\n",
       "      <th>MSSubClass</th>\n",
       "      <th>MSZoning</th>\n",
       "      <th>LotFrontage</th>\n",
       "      <th>LotArea</th>\n",
       "      <th>Street</th>\n",
       "      <th>Alley</th>\n",
       "      <th>LotShape</th>\n",
       "      <th>LandContour</th>\n",
       "      <th>Utilities</th>\n",
       "      <th>...</th>\n",
       "      <th>PoolArea</th>\n",
       "      <th>PoolQC</th>\n",
       "      <th>Fence</th>\n",
       "      <th>MiscFeature</th>\n",
       "      <th>MiscVal</th>\n",
       "      <th>MoSold</th>\n",
       "      <th>YrSold</th>\n",
       "      <th>SaleType</th>\n",
       "      <th>SaleCondition</th>\n",
       "      <th>SalePrice</th>\n",
       "    </tr>\n",
       "  </thead>\n",
       "  <tbody>\n",
       "    <tr>\n",
       "      <th>0</th>\n",
       "      <td>1</td>\n",
       "      <td>60</td>\n",
       "      <td>RL</td>\n",
       "      <td>65.0</td>\n",
       "      <td>8450</td>\n",
       "      <td>Pave</td>\n",
       "      <td>NaN</td>\n",
       "      <td>Reg</td>\n",
       "      <td>Lvl</td>\n",
       "      <td>AllPub</td>\n",
       "      <td>...</td>\n",
       "      <td>0</td>\n",
       "      <td>NaN</td>\n",
       "      <td>NaN</td>\n",
       "      <td>NaN</td>\n",
       "      <td>0</td>\n",
       "      <td>2</td>\n",
       "      <td>2008</td>\n",
       "      <td>WD</td>\n",
       "      <td>Normal</td>\n",
       "      <td>208500</td>\n",
       "    </tr>\n",
       "    <tr>\n",
       "      <th>1</th>\n",
       "      <td>2</td>\n",
       "      <td>20</td>\n",
       "      <td>RL</td>\n",
       "      <td>80.0</td>\n",
       "      <td>9600</td>\n",
       "      <td>Pave</td>\n",
       "      <td>NaN</td>\n",
       "      <td>Reg</td>\n",
       "      <td>Lvl</td>\n",
       "      <td>AllPub</td>\n",
       "      <td>...</td>\n",
       "      <td>0</td>\n",
       "      <td>NaN</td>\n",
       "      <td>NaN</td>\n",
       "      <td>NaN</td>\n",
       "      <td>0</td>\n",
       "      <td>5</td>\n",
       "      <td>2007</td>\n",
       "      <td>WD</td>\n",
       "      <td>Normal</td>\n",
       "      <td>181500</td>\n",
       "    </tr>\n",
       "    <tr>\n",
       "      <th>2</th>\n",
       "      <td>3</td>\n",
       "      <td>60</td>\n",
       "      <td>RL</td>\n",
       "      <td>68.0</td>\n",
       "      <td>11250</td>\n",
       "      <td>Pave</td>\n",
       "      <td>NaN</td>\n",
       "      <td>IR1</td>\n",
       "      <td>Lvl</td>\n",
       "      <td>AllPub</td>\n",
       "      <td>...</td>\n",
       "      <td>0</td>\n",
       "      <td>NaN</td>\n",
       "      <td>NaN</td>\n",
       "      <td>NaN</td>\n",
       "      <td>0</td>\n",
       "      <td>9</td>\n",
       "      <td>2008</td>\n",
       "      <td>WD</td>\n",
       "      <td>Normal</td>\n",
       "      <td>223500</td>\n",
       "    </tr>\n",
       "    <tr>\n",
       "      <th>3</th>\n",
       "      <td>4</td>\n",
       "      <td>70</td>\n",
       "      <td>RL</td>\n",
       "      <td>60.0</td>\n",
       "      <td>9550</td>\n",
       "      <td>Pave</td>\n",
       "      <td>NaN</td>\n",
       "      <td>IR1</td>\n",
       "      <td>Lvl</td>\n",
       "      <td>AllPub</td>\n",
       "      <td>...</td>\n",
       "      <td>0</td>\n",
       "      <td>NaN</td>\n",
       "      <td>NaN</td>\n",
       "      <td>NaN</td>\n",
       "      <td>0</td>\n",
       "      <td>2</td>\n",
       "      <td>2006</td>\n",
       "      <td>WD</td>\n",
       "      <td>Abnorml</td>\n",
       "      <td>140000</td>\n",
       "    </tr>\n",
       "    <tr>\n",
       "      <th>4</th>\n",
       "      <td>5</td>\n",
       "      <td>60</td>\n",
       "      <td>RL</td>\n",
       "      <td>84.0</td>\n",
       "      <td>14260</td>\n",
       "      <td>Pave</td>\n",
       "      <td>NaN</td>\n",
       "      <td>IR1</td>\n",
       "      <td>Lvl</td>\n",
       "      <td>AllPub</td>\n",
       "      <td>...</td>\n",
       "      <td>0</td>\n",
       "      <td>NaN</td>\n",
       "      <td>NaN</td>\n",
       "      <td>NaN</td>\n",
       "      <td>0</td>\n",
       "      <td>12</td>\n",
       "      <td>2008</td>\n",
       "      <td>WD</td>\n",
       "      <td>Normal</td>\n",
       "      <td>250000</td>\n",
       "    </tr>\n",
       "  </tbody>\n",
       "</table>\n",
       "<p>5 rows × 81 columns</p>\n",
       "</div>"
      ],
      "text/plain": [
       "   Id  MSSubClass MSZoning  LotFrontage  LotArea Street Alley LotShape  \\\n",
       "0   1          60       RL         65.0     8450   Pave   NaN      Reg   \n",
       "1   2          20       RL         80.0     9600   Pave   NaN      Reg   \n",
       "2   3          60       RL         68.0    11250   Pave   NaN      IR1   \n",
       "3   4          70       RL         60.0     9550   Pave   NaN      IR1   \n",
       "4   5          60       RL         84.0    14260   Pave   NaN      IR1   \n",
       "\n",
       "  LandContour Utilities    ...     PoolArea PoolQC Fence MiscFeature MiscVal  \\\n",
       "0         Lvl    AllPub    ...            0    NaN   NaN         NaN       0   \n",
       "1         Lvl    AllPub    ...            0    NaN   NaN         NaN       0   \n",
       "2         Lvl    AllPub    ...            0    NaN   NaN         NaN       0   \n",
       "3         Lvl    AllPub    ...            0    NaN   NaN         NaN       0   \n",
       "4         Lvl    AllPub    ...            0    NaN   NaN         NaN       0   \n",
       "\n",
       "  MoSold YrSold  SaleType  SaleCondition  SalePrice  \n",
       "0      2   2008        WD         Normal     208500  \n",
       "1      5   2007        WD         Normal     181500  \n",
       "2      9   2008        WD         Normal     223500  \n",
       "3      2   2006        WD        Abnorml     140000  \n",
       "4     12   2008        WD         Normal     250000  \n",
       "\n",
       "[5 rows x 81 columns]"
      ]
     },
     "execution_count": 2,
     "metadata": {},
     "output_type": "execute_result"
    }
   ],
   "source": [
    "train = pd.read_csv('./train.csv',sep=',')\n",
    "test = pd.read_csv('./test.csv',sep=',')\n",
    "train.head()"
   ]
  },
  {
   "cell_type": "code",
   "execution_count": 3,
   "metadata": {},
   "outputs": [
    {
     "name": "stdout",
     "output_type": "stream",
     "text": [
      "Le nombre de ligne et de colonnes de train sont: (1460, 81)\n",
      "Le nombre de ligne et de colonnes de test sont: (1459, 80)\n"
     ]
    }
   ],
   "source": [
    "print(\"Le nombre de ligne et de colonnes de train sont:\",train.shape)\n",
    "print(\"Le nombre de ligne et de colonnes de test sont:\",test.shape)"
   ]
  },
  {
   "cell_type": "markdown",
   "metadata": {},
   "source": [
    "On enregistre ID "
   ]
  },
  {
   "cell_type": "code",
   "execution_count": 4,
   "metadata": {
    "collapsed": true
   },
   "outputs": [],
   "source": [
    "train_ID = train['Id']\n",
    "test_ID = test['Id']"
   ]
  },
  {
   "cell_type": "markdown",
   "metadata": {},
   "source": [
    "On supprime la colonne 'Id' car elle n'est pas nécessaire pour le processus de prédiction"
   ]
  },
  {
   "cell_type": "code",
   "execution_count": 5,
   "metadata": {
    "collapsed": true
   },
   "outputs": [],
   "source": [
    "train.drop(\"Id\", axis = 1, inplace = True)\n"
   ]
  },
  {
   "cell_type": "code",
   "execution_count": 6,
   "metadata": {},
   "outputs": [
    {
     "name": "stdout",
     "output_type": "stream",
     "text": [
      "Le nombre de ligne et de colonnes de train sont: (1460, 80)\n",
      "Le nombre de ligne et de colonnes de test sont: (1459, 80)\n"
     ]
    }
   ],
   "source": [
    "print(\"Le nombre de ligne et de colonnes de train sont:\",train.shape)\n",
    "print(\"Le nombre de ligne et de colonnes de test sont:\",test.shape)"
   ]
  },
  {
   "cell_type": "markdown",
   "metadata": {},
   "source": [
    "## Plotting \n",
    "Plottign nous permet de visualiser la distribution des données, de vérifier les valeurs aberrantes et de voir d’autres schémas qui pourraient nous échapper"
   ]
  },
  {
   "cell_type": "code",
   "execution_count": 7,
   "metadata": {
    "collapsed": true
   },
   "outputs": [],
   "source": [
    "plt.style.use('ggplot')"
   ]
  },
  {
   "cell_type": "code",
   "execution_count": 8,
   "metadata": {
    "collapsed": true
   },
   "outputs": [],
   "source": [
    "plt.rcParams['figure.figsize'] = (10,6)"
   ]
  },
  {
   "cell_type": "code",
   "execution_count": 9,
   "metadata": {},
   "outputs": [
    {
     "data": {
      "text/plain": [
       "count      1460.000000\n",
       "mean     180921.195890\n",
       "std       79442.502883\n",
       "min       34900.000000\n",
       "25%      129975.000000\n",
       "50%      163000.000000\n",
       "75%      214000.000000\n",
       "max      755000.000000\n",
       "Name: SalePrice, dtype: float64"
      ]
     },
     "execution_count": 9,
     "metadata": {},
     "output_type": "execute_result"
    }
   ],
   "source": [
    "\n",
    "train['SalePrice'].describe()"
   ]
  },
  {
   "cell_type": "markdown",
   "metadata": {},
   "source": [
    "## Skewness\n",
    " nous vérifions dans cette étape l'assymetrie des prix de vente car si  si les données était asymétrique, le modèle ML ne pourrait pas faire un bon travail de prédiction."
   ]
  },
  {
   "cell_type": "code",
   "execution_count": 10,
   "metadata": {},
   "outputs": [
    {
     "name": "stdout",
     "output_type": "stream",
     "text": [
      "1.8828757597682129\n"
     ]
    }
   ],
   "source": [
    "print(train.SalePrice.skew())"
   ]
  },
  {
   "cell_type": "code",
   "execution_count": 11,
   "metadata": {},
   "outputs": [
    {
     "data": {
      "image/png": "[encoded data removed]",
      "text/plain": [
       "<Figure size 720x432 with 1 Axes>"
      ]
     },
     "metadata": {},
     "output_type": "display_data"
    }
   ],
   "source": [
    "plt.hist(train.SalePrice,color='blue')\n",
    "plt.show()"
   ]
  },
  {
   "cell_type": "markdown",
   "metadata": {},
   "source": [
    "## la Fonction log\n",
    "La distribution des donées est asymétrique. \n",
    ".log pour améliorer la linéarité des données"
   ]
  },
  {
   "cell_type": "code",
   "execution_count": 12,
   "metadata": {
    "collapsed": true
   },
   "outputs": [],
   "source": [
    "target=np.log(train.SalePrice)"
   ]
  },
  {
   "cell_type": "code",
   "execution_count": 13,
   "metadata": {},
   "outputs": [
    {
     "name": "stdout",
     "output_type": "stream",
     "text": [
      "0.12133506220520406\n"
     ]
    }
   ],
   "source": [
    "print(target.skew())"
   ]
  },
  {
   "cell_type": "code",
   "execution_count": 14,
   "metadata": {},
   "outputs": [
    {
     "data": {
      "image/png": "[encoded data removed]",
      "text/plain": [
       "<Figure size 720x432 with 1 Axes>"
      ]
     },
     "metadata": {},
     "output_type": "display_data"
    }
   ],
   "source": [
    "plt.hist(target,color='blue')\n",
    "plt.show()"
   ]
  },
  {
   "cell_type": "markdown",
   "metadata": {},
   "source": [
    "## La methode fillna \n"
   ]
  },
  {
   "cell_type": "code",
   "execution_count": 15,
   "metadata": {
    "collapsed": true
   },
   "outputs": [],
   "source": [
    "train=train.fillna(0)\n"
   ]
  },
  {
   "cell_type": "code",
   "execution_count": 16,
   "metadata": {
    "collapsed": true
   },
   "outputs": [],
   "source": [
    "test=test.fillna(0)"
   ]
  },
  {
   "cell_type": "markdown",
   "metadata": {},
   "source": [
    "<h2>Transformation des variables </h2>"
   ]
  },
  {
   "cell_type": "markdown",
   "metadata": {},
   "source": [
    "On transforme les variables catégoriales on variables numérique"
   ]
  },
  {
   "cell_type": "code",
   "execution_count": 17,
   "metadata": {},
   "outputs": [
    {
     "name": "stdout",
     "output_type": "stream",
     "text": [
      "Index(['MSZoning', 'Street', 'Alley', 'LotShape', 'LandContour', 'Utilities',\n",
      "       'LotConfig', 'LandSlope', 'Neighborhood', 'Condition1', 'Condition2',\n",
      "       'BldgType', 'HouseStyle', 'RoofStyle', 'RoofMatl', 'Exterior1st',\n",
      "       'Exterior2nd', 'MasVnrType', 'ExterQual', 'ExterCond', 'Foundation',\n",
      "       'BsmtQual', 'BsmtCond', 'BsmtExposure', 'BsmtFinType1', 'BsmtFinType2',\n",
      "       'Heating', 'HeatingQC', 'CentralAir', 'Electrical', 'KitchenQual',\n",
      "       'Functional', 'FireplaceQu', 'GarageType', 'GarageFinish', 'GarageQual',\n",
      "       'GarageCond', 'PavedDrive', 'PoolQC', 'Fence', 'MiscFeature',\n",
      "       'SaleType', 'SaleCondition'],\n",
      "      dtype='object')\n"
     ]
    }
   ],
   "source": [
    "categoricals = train.select_dtypes(exclude=[np.number])\n",
    "a=categoricals.columns\n",
    "print(a)"
   ]
  },
  {
   "cell_type": "code",
   "execution_count": 18,
   "metadata": {
    "scrolled": true
   },
   "outputs": [
    {
     "name": "stdout",
     "output_type": "stream",
     "text": [
      "Index(['MSZoning', 'Street', 'Alley', 'LotShape', 'LandContour', 'Utilities',\n",
      "       'LotConfig', 'LandSlope', 'Neighborhood', 'Condition1', 'Condition2',\n",
      "       'BldgType', 'HouseStyle', 'RoofStyle', 'RoofMatl', 'Exterior1st',\n",
      "       'Exterior2nd', 'MasVnrType', 'ExterQual', 'ExterCond', 'Foundation',\n",
      "       'BsmtQual', 'BsmtCond', 'BsmtExposure', 'BsmtFinType1', 'BsmtFinType2',\n",
      "       'Heating', 'HeatingQC', 'CentralAir', 'Electrical', 'KitchenQual',\n",
      "       'Functional', 'FireplaceQu', 'GarageType', 'GarageFinish', 'GarageQual',\n",
      "       'GarageCond', 'PavedDrive', 'PoolQC', 'Fence', 'MiscFeature',\n",
      "       'SaleType', 'SaleCondition'],\n",
      "      dtype='object')\n"
     ]
    }
   ],
   "source": [
    "cat = test.select_dtypes(exclude=[np.number])\n",
    "b=cat.columns\n",
    "print(b)"
   ]
  },
  {
   "cell_type": "markdown",
   "metadata": {},
   "source": [
    "<h2>Transformation test </h2>"
   ]
  },
  {
   "cell_type": "code",
   "execution_count": 19,
   "metadata": {
    "collapsed": true
   },
   "outputs": [],
   "source": [
    "test['Street'].replace(to_replace=[\"Pave\"],value=1,inplace=True)\n",
    "test['Street'].replace(to_replace=['Grvl'],value=2,inplace=True)\n",
    "\n",
    "test['Alley'].replace(to_replace=[\"Grvl\"],value=1,inplace=True)\n",
    "test['Alley'].replace(to_replace=['Pave'],value=2,inplace=True)\n",
    "\n",
    "test['LotShape'].replace(to_replace=[\"Reg\"],value=1,inplace=True)\n",
    "test['LotShape'].replace(to_replace=['IR1'],value=2,inplace=True)\n",
    "test['LotShape'].replace(to_replace=['IR2'],value=3,inplace=True)\n",
    "test['LotShape'].replace(to_replace=['IR3'],value=4,inplace=True)\n",
    "\n",
    "test['LandContour'].replace(to_replace=[\"Lvl\"],value=1,inplace=True)\n",
    "test['LandContour'].replace(to_replace=['Bnk'],value=2,inplace=True)\n",
    "test['LandContour'].replace(to_replace=['HLS'],value=3,inplace=True)\n",
    "test['LandContour'].replace(to_replace=['Low'],value=4,inplace=True)\n",
    "\n",
    "test['Utilities'].replace(to_replace=[\"AllPub\"],value=1,inplace=True)\n",
    "test['Utilities'].replace(to_replace=['NoSeWa'],value=2,inplace=True)\n",
    "\n",
    "test['MSZoning'].replace(to_replace=[\"RL\"],value=1,inplace=True)\n",
    "test['MSZoning'].replace(to_replace=['RM'],value=2,inplace=True)\n",
    "test['MSZoning'].replace(to_replace=['FV'],value=3,inplace=True)\n",
    "test['MSZoning'].replace(to_replace=['RH'],value=4,inplace=True)\n",
    "test['MSZoning'].replace(to_replace=['C (all)'],value=5,inplace=True)\n",
    "\n",
    "test['LotConfig'].replace(to_replace=[\"Inside\"],value=1,inplace=True)\n",
    "test['LotConfig'].replace(to_replace=['Corner'],value=2,inplace=True)\n",
    "test['LotConfig'].replace(to_replace=['CulDSac'],value=3,inplace=True)\n",
    "test['LotConfig'].replace(to_replace=['FR2'],value=4,inplace=True)\n",
    "test['LotConfig'].replace(to_replace=['FR3'],value=5,inplace=True)\n",
    "\n",
    "test['SaleCondition'].replace(to_replace=[\"Normal\"],value=1,inplace=True)\n",
    "test['SaleCondition'].replace(to_replace=['Abnorml'],value=2,inplace=True)\n",
    "test['SaleCondition'].replace(to_replace=['Partial'],value=3,inplace=True)\n",
    "test['SaleCondition'].replace(to_replace=['AdjLand'],value=4,inplace=True)\n",
    "test['SaleCondition'].replace(to_replace=['Alloca'],value=5,inplace=True)\n",
    "test['SaleCondition'].replace(to_replace=['Family'],value=6,inplace=True)\n",
    "\n",
    "\n",
    "test['LandSlope'].replace(to_replace=[\"Gtl\"],value=1,inplace=True)\n",
    "test['LandSlope'].replace(to_replace=['Mod'],value=2,inplace=True)\n",
    "test['LandSlope'].replace(to_replace=['Sev'],value=3,inplace=True)\n",
    "\n",
    "test['Neighborhood'].replace(to_replace=[\"NAmes\"],value=1,inplace=True)\n",
    "test['Neighborhood'].replace(to_replace=['CollgCr'],value=2,inplace=True)\n",
    "test['Neighborhood'].replace(to_replace=['OldTown'],value=3,inplace=True)\n",
    "test['Neighborhood'].replace(to_replace=['AdjLand'],value=4,inplace=True)\n",
    "test['Neighborhood'].replace(to_replace=[\"Edwards\"],value=5,inplace=True)\n",
    "test['Neighborhood'].replace(to_replace=['Somerst'],value=6,inplace=True)\n",
    "test['Neighborhood'].replace(to_replace=['Gilbert'],value=7,inplace=True)\n",
    "test['Neighborhood'].replace(to_replace=['NridgHt'],value=8,inplace=True)\n",
    "test['Neighborhood'].replace(to_replace=[\"Sawyer\"],value=9,inplace=True)\n",
    "test['Neighborhood'].replace(to_replace=['NWAmes'],value=10,inplace=True)\n",
    "test['Neighborhood'].replace(to_replace=['SawyerW'],value=11,inplace=True)\n",
    "test['Neighborhood'].replace(to_replace=['BrkSide'],value=12,inplace=True)\n",
    "test['Neighborhood'].replace(to_replace=[\"Crawfor\"],value=13,inplace=True)\n",
    "test['Neighborhood'].replace(to_replace=['Mitchel'],value=14,inplace=True)\n",
    "test['Neighborhood'].replace(to_replace=['NoRidge'],value=15,inplace=True)\n",
    "test['Neighborhood'].replace(to_replace=['Timber'],value=16,inplace=True)\n",
    "test['Neighborhood'].replace(to_replace=[\"IDOTRR\"],value=17,inplace=True)\n",
    "test['Neighborhood'].replace(to_replace=['ClearCr'],value=18,inplace=True)\n",
    "test['Neighborhood'].replace(to_replace=['SWISU'],value=19,inplace=True)\n",
    "test['Neighborhood'].replace(to_replace=['StoneBr'],value=20,inplace=True)\n",
    "test['Neighborhood'].replace(to_replace=[\"Blmngtn\"],value=21,inplace=True)\n",
    "test['Neighborhood'].replace(to_replace=['MeadowV'],value=22,inplace=True)\n",
    "test['Neighborhood'].replace(to_replace=['BrDale'],value=23,inplace=True)\n",
    "test['Neighborhood'].replace(to_replace=['Veenker'],value=24,inplace=True)\n",
    "test['Neighborhood'].replace(to_replace=['NPkVill'],value=25,inplace=True)\n",
    "test['Neighborhood'].replace(to_replace=['Blueste'],value=26,inplace=True)\n",
    "\n",
    "test['Condition1'].replace(to_replace=[\"Norm\"],value=1,inplace=True)\n",
    "test['Condition1'].replace(to_replace=['Feedr'],value=2,inplace=True)\n",
    "test['Condition1'].replace(to_replace=['Artery'],value=3,inplace=True)\n",
    "test['Condition1'].replace(to_replace=['RRAn'],value=4,inplace=True)\n",
    "test['Condition1'].replace(to_replace=[\"PosN\"],value=5,inplace=True)\n",
    "test['Condition1'].replace(to_replace=['RRAe'],value=6,inplace=True)\n",
    "test['Condition1'].replace(to_replace=['PosA'],value=7,inplace=True)\n",
    "test['Condition1'].replace(to_replace=['RRNn'],value=8,inplace=True)\n",
    "test['Condition1'].replace(to_replace=['RRNe'],value=9,inplace=True)\n",
    "\n",
    "test['Condition2'].replace(to_replace=[\"Norm\"],value=1,inplace=True)\n",
    "test['Condition2'].replace(to_replace=['Feedr'],value=2,inplace=True)\n",
    "test['Condition2'].replace(to_replace=['Artery'],value=3,inplace=True)\n",
    "test['Condition2'].replace(to_replace=['RRNn'],value=4,inplace=True)\n",
    "test['Condition2'].replace(to_replace=[\"PosN\"],value=5,inplace=True)\n",
    "test['Condition2'].replace(to_replace=['RRAe'],value=6,inplace=True)\n",
    "test['Condition2'].replace(to_replace=['PosA'],value=7,inplace=True)\n",
    "test['Condition2'].replace(to_replace=['RRAn'],value=8,inplace=True)\n",
    "\n",
    "test['BldgType'].replace(to_replace=[\"1Fam\"],value=1,inplace=True)\n",
    "test['BldgType'].replace(to_replace=['TwnhsE'],value=2,inplace=True)\n",
    "test['BldgType'].replace(to_replace=['Duplex'],value=3,inplace=True)\n",
    "test['BldgType'].replace(to_replace=['Twnhs'],value=4,inplace=True)\n",
    "test['BldgType'].replace(to_replace=['2fmCon'],value=5,inplace=True)\n",
    "\n",
    "test['HouseStyle'].replace(to_replace=[\"1Story\"],value=1,inplace=True)\n",
    "test['HouseStyle'].replace(to_replace=['2Story'],value=2,inplace=True)\n",
    "test['HouseStyle'].replace(to_replace=['1.5Fin'],value=3,inplace=True)\n",
    "test['HouseStyle'].replace(to_replace=['SLvl'],value=4,inplace=True)\n",
    "test['HouseStyle'].replace(to_replace=['SFoyer'],value=5,inplace=True)\n",
    "test['HouseStyle'].replace(to_replace=[\"1.5Unf\"],value=6,inplace=True)\n",
    "test['HouseStyle'].replace(to_replace=['2.5Unf'],value=7,inplace=True)\n",
    "test['HouseStyle'].replace(to_replace=['2.5Fin'],value=8,inplace=True)\n",
    "\n",
    "test['RoofStyle'].replace(to_replace=[\"Gable\"],value=1,inplace=True)\n",
    "test['RoofStyle'].replace(to_replace=['Hip'],value=2,inplace=True)\n",
    "test['RoofStyle'].replace(to_replace=['Flat'],value=3,inplace=True)\n",
    "test['RoofStyle'].replace(to_replace=['Gambrel'],value=4,inplace=True)\n",
    "test['RoofStyle'].replace(to_replace=['Mansard'],value=5,inplace=True)\n",
    "test['RoofStyle'].replace(to_replace=['Shed'],value=6,inplace=True)\n",
    "\n",
    "test['RoofMatl'].replace(to_replace=[\"CompShg\"],value=1,inplace=True)\n",
    "test['RoofMatl'].replace(to_replace=['Tar&Grv'],value=2,inplace=True)\n",
    "test['RoofMatl'].replace(to_replace=['WdShngl'],value=3,inplace=True)\n",
    "test['RoofMatl'].replace(to_replace=['WdShake'],value=4,inplace=True)\n",
    "test['RoofMatl'].replace(to_replace=[\"Roll\"],value=5,inplace=True)\n",
    "test['RoofMatl'].replace(to_replace=['ClyTile'],value=6,inplace=True)\n",
    "test['RoofMatl'].replace(to_replace=['Membran'],value=7,inplace=True)\n",
    "test['RoofMatl'].replace(to_replace=['Metal'],value=8,inplace=True)\n",
    "\n",
    "test['Exterior1st'].replace(to_replace=[\"VinylSd\"],value=1,inplace=True)\n",
    "test['Exterior1st'].replace(to_replace=['HdBoard'],value=2,inplace=True)\n",
    "test['Exterior1st'].replace(to_replace=['MetalSd'],value=3,inplace=True)\n",
    "test['Exterior1st'].replace(to_replace=['Wd Sdng'],value=4,inplace=True)\n",
    "test['Exterior1st'].replace(to_replace=[\"Plywood\"],value=5,inplace=True)\n",
    "test['Exterior1st'].replace(to_replace=['CemntBd'],value=6,inplace=True)\n",
    "test['Exterior1st'].replace(to_replace=['BrkFace'],value=7,inplace=True)\n",
    "test['Exterior1st'].replace(to_replace=['WdShing'],value=8,inplace=True)\n",
    "test['Exterior1st'].replace(to_replace=[\"Stucco\"],value=9,inplace=True)\n",
    "test['Exterior1st'].replace(to_replace=['AsbShng'],value=10,inplace=True)\n",
    "test['Exterior1st'].replace(to_replace=['Stone'],value=11,inplace=True)\n",
    "test['Exterior1st'].replace(to_replace=['BrkComm'],value=12,inplace=True)\n",
    "test['Exterior1st'].replace(to_replace=['ImStucc'],value=13,inplace=True)\n",
    "test['Exterior1st'].replace(to_replace=['AsphShn'],value=14,inplace=True)\n",
    "test['Exterior1st'].replace(to_replace=['CBlock'],value=15,inplace=True)\n",
    "\n",
    "test['Exterior2nd'].replace(to_replace=[\"VinylSd\"],value=1,inplace=True)\n",
    "test['Exterior2nd'].replace(to_replace=['MetalSd'],value=2,inplace=True)\n",
    "test['Exterior2nd'].replace(to_replace=['HdBoard'],value=3,inplace=True)\n",
    "test['Exterior2nd'].replace(to_replace=['Wd Sdng'],value=4,inplace=True)\n",
    "test['Exterior2nd'].replace(to_replace=[\"Plywood\"],value=5,inplace=True)\n",
    "test['Exterior2nd'].replace(to_replace=['CmentBd'],value=6,inplace=True)\n",
    "test['Exterior2nd'].replace(to_replace=['Wd Shng'],value=7,inplace=True)\n",
    "test['Exterior2nd'].replace(to_replace=['Stucco'],value=8,inplace=True)\n",
    "test['Exterior2nd'].replace(to_replace=[\"BrkFace\"],value=9,inplace=True)\n",
    "test['Exterior2nd'].replace(to_replace=['AsbShng'],value=10,inplace=True)\n",
    "test['Exterior2nd'].replace(to_replace=['ImStucc'],value=11,inplace=True)\n",
    "test['Exterior2nd'].replace(to_replace=['Brk Cmn'],value=12,inplace=True)\n",
    "test['Exterior2nd'].replace(to_replace=[\"Stone\"],value=13,inplace=True)\n",
    "test['Exterior2nd'].replace(to_replace=['AsphShn'],value=14,inplace=True)\n",
    "test['Exterior2nd'].replace(to_replace=['Other'],value=15,inplace=True)\n",
    "test['Exterior2nd'].replace(to_replace=['CBlock'],value=16,inplace=True)\n",
    "\n",
    "test['MasVnrType'].replace(to_replace=[\"None\"],value=1,inplace=True)\n",
    "test['MasVnrType'].replace(to_replace=['BrkFace'],value=2,inplace=True)\n",
    "test['MasVnrType'].replace(to_replace=['Stone'],value=3,inplace=True)\n",
    "test['MasVnrType'].replace(to_replace=['BrkCmn'],value=4,inplace=True)\n",
    "\n",
    "test['MasVnrType'].replace(to_replace=[\"None\"],value=1,inplace=True)\n",
    "test['MasVnrType'].replace(to_replace=['BrkFace'],value=2,inplace=True)\n",
    "test['MasVnrType'].replace(to_replace=['Stone'],value=3,inplace=True)\n",
    "test['MasVnrType'].replace(to_replace=['BrkCmn'],value=4,inplace=True)\n",
    "\n",
    "test['ExterQual'].replace(to_replace=[\"TA\"],value=1,inplace=True)\n",
    "test['ExterQual'].replace(to_replace=['Gd'],value=2,inplace=True)\n",
    "test['ExterQual'].replace(to_replace=['Ex'],value=3,inplace=True)\n",
    "test['ExterQual'].replace(to_replace=['Fa'],value=4,inplace=True)\n",
    "\n",
    "test['ExterCond'].replace(to_replace=[\"TA\"],value=1,inplace=True)\n",
    "test['ExterCond'].replace(to_replace=['Gd'],value=2,inplace=True)\n",
    "test['ExterCond'].replace(to_replace=['Fa'],value=3,inplace=True)\n",
    "test['ExterCond'].replace(to_replace=['Ex'],value=4,inplace=True)\n",
    "test['ExterCond'].replace(to_replace=[\"Po\"],value=5,inplace=True)\n",
    "\n",
    "test['Foundation'].replace(to_replace=[\"PConc\"],value=1,inplace=True)\n",
    "test['Foundation'].replace(to_replace=['CBlock'],value=2,inplace=True)\n",
    "test['Foundation'].replace(to_replace=['BrkTil'],value=3,inplace=True)\n",
    "test['Foundation'].replace(to_replace=['Slab'],value=4,inplace=True)\n",
    "test['Foundation'].replace(to_replace=['Stone'],value=5,inplace=True)\n",
    "test['Foundation'].replace(to_replace=['Wood'],value=6,inplace=True)\n",
    "\n",
    "test['SaleType'].replace(to_replace=[\"WD\"],value=1,inplace=True)\n",
    "test['SaleType'].replace(to_replace=['New'],value=2,inplace=True)\n",
    "test['SaleType'].replace(to_replace=['COD'],value=3,inplace=True)\n",
    "test['SaleType'].replace(to_replace=['ConLD'],value=4,inplace=True)\n",
    "test['SaleType'].replace(to_replace=['ConLI'],value=5,inplace=True)\n",
    "test['SaleType'].replace(to_replace=['CWD'],value=6,inplace=True)\n",
    "test['SaleType'].replace(to_replace=['ConLw'],value=7,inplace=True)\n",
    "test['SaleType'].replace(to_replace=['Con'],value=8,inplace=True)\n",
    "test['SaleType'].replace(to_replace=[ 'Oth'],value=9,inplace=True)\n",
    "\n",
    "\n",
    "\n",
    "test['MiscFeature'].replace(to_replace=['Shed'],value=1,inplace=True)\n",
    "test['MiscFeature'].replace(to_replace=['Gar2' ],value=2,inplace=True)\n",
    "test['MiscFeature'].replace(to_replace=['Othr'],value=3,inplace=True)\n",
    "test['MiscFeature'].replace(to_replace=['TenC'],value=4,inplace=True)\n",
    "\n",
    "test['Fence'].replace(to_replace=['MnPrv'],value=1,inplace=True)\n",
    "test['Fence'].replace(to_replace=['GdWo' ],value=2,inplace=True)\n",
    "test['Fence'].replace(to_replace=['GdPrv'],value=3,inplace=True)\n",
    "test['Fence'].replace(to_replace=['MnWw'],value=4,inplace=True)\n",
    "\n",
    "test['PoolQC'].replace(to_replace=['Ex'],value=1,inplace=True)\n",
    "test['PoolQC'].replace(to_replace=['Fa'],value=2,inplace=True)\n",
    "test['PoolQC'].replace(to_replace=['Gd'],value=3,inplace=True)\n",
    "\n",
    "\n",
    "test['PavedDrive'].replace(to_replace=['Y'],value=1,inplace=True)\n",
    "test['PavedDrive'].replace(to_replace=['N'],value=2,inplace=True)\n",
    "test['PavedDrive'].replace(to_replace=['P'],value=3,inplace=True)\n",
    "\n",
    "test['Functional'].replace(to_replace=['Typ' ],value=1,inplace=True)\n",
    "test['Functional'].replace(to_replace=['Min1'],value=2,inplace=True)\n",
    "test['Functional'].replace(to_replace=['Maj1'],value=3,inplace=True)\n",
    "test['Functional'].replace(to_replace=['Min2' ],value=4,inplace=True)\n",
    "test['Functional'].replace(to_replace=['Mod'],value=5,inplace=True)\n",
    "test['Functional'].replace(to_replace=['Maj2'],value=6,inplace=True)\n",
    "test['Functional'].replace(to_replace=['Sev'],value=7,inplace=True)\n",
    "\n",
    "\n",
    "test['FireplaceQu'].replace(to_replace=['TA'],value=1,inplace=True)\n",
    "test['FireplaceQu'].replace(to_replace=['Gd' ],value=2,inplace=True)\n",
    "test['FireplaceQu'].replace(to_replace=['Fa'],value=3,inplace=True)\n",
    "test['FireplaceQu'].replace(to_replace=['Ex'],value=4,inplace=True)\n",
    "test['FireplaceQu'].replace(to_replace=['Po'],value=5,inplace=True)\n",
    "\n",
    "test['GarageFinish'].replace(to_replace=['RFn'],value=1,inplace=True)\n",
    "test['GarageFinish'].replace(to_replace=['Unf' ],value=2,inplace=True)\n",
    "test['GarageFinish'].replace(to_replace=['Fin'],value=3,inplace=True)\n",
    "\n",
    "test['GarageQual'].replace(to_replace=['TA'],value=1,inplace=True)\n",
    "test['GarageQual'].replace(to_replace=['Fa' ],value=2,inplace=True)\n",
    "test['GarageQual'].replace(to_replace=['Gd'],value=3,inplace=True)\n",
    "test['GarageQual'].replace(to_replace=['Ex'],value=4,inplace=True)\n",
    "test['GarageQual'].replace(to_replace=['Po'],value=5,inplace=True)\n",
    "\n",
    "\n",
    "test['GarageCond'].replace(to_replace=['TA'],value=1,inplace=True)\n",
    "test['GarageCond'].replace(to_replace=['Fa' ],value=2,inplace=True)\n",
    "test['GarageCond'].replace(to_replace=['Gd'],value=3,inplace=True)\n",
    "test['GarageCond'].replace(to_replace=['Po'],value=4,inplace=True)\n",
    "test['GarageCond'].replace(to_replace=['Ex'],value=5,inplace=True)\n",
    "\n",
    "test['GarageType'].replace(to_replace=['Attchd'],value=1,inplace=True)\n",
    "test['GarageType'].replace(to_replace=['BuiltIn'],value=3,inplace=True)\n",
    "test['GarageType'].replace(to_replace=['CarPort'],value=4,inplace=True)\n",
    "test['GarageType'].replace(to_replace=['Basment'],value=5,inplace=True)\n",
    "test['GarageType'].replace(to_replace=['2Types'],value=6,inplace=True)\n",
    "\n",
    "test['KitchenQual'].replace(to_replace=['Gd'],value=1,inplace=True)\n",
    "test['KitchenQual'].replace(to_replace=['TA'],value=2,inplace=True)\n",
    "test['KitchenQual'].replace(to_replace=['Ex'],value=3,inplace=True)\n",
    "test['KitchenQual'].replace(to_replace=['Fa'],value=4,inplace=True)\n",
    "\n",
    "test['Electrical'].replace(to_replace=['SBrkr' ],value=1,inplace=True)\n",
    "test['Electrical'].replace(to_replace=['FuseF'],value=2,inplace=True)\n",
    "test['Electrical'].replace(to_replace=['FuseA'],value=3,inplace=True)\n",
    "test['Electrical'].replace(to_replace=['FuseP'],value=4,inplace=True)\n",
    "test['Electrical'].replace(to_replace=['Mix'],value=5,inplace=True)\n",
    "\n",
    "\n",
    "test['CentralAir'].replace(to_replace=['Y'],value=1,inplace=True)\n",
    "test['CentralAir'].replace(to_replace=['N'],value=2,inplace=True)\n",
    "\n",
    "test['HeatingQC'].replace(to_replace=['Ex'],value=1,inplace=True)\n",
    "test['HeatingQC'].replace(to_replace=['Gd'],value=2,inplace=True)\n",
    "test['HeatingQC'].replace(to_replace=['TA'],value=3,inplace=True)\n",
    "test['HeatingQC'].replace(to_replace=['Fa'],value=4,inplace=True)\n",
    "test['HeatingQC'].replace(to_replace=['Po'],value=5,inplace=True)\n",
    "\n",
    "test['BsmtFinType2'].replace(to_replace=['Unf'],value=1,inplace=True)\n",
    "test['BsmtFinType2'].replace(to_replace=['BLQ'],value=2,inplace=True)\n",
    "test['BsmtFinType2'].replace(to_replace=['ALQ' ],value=3,inplace=True)\n",
    "test['BsmtFinType2'].replace(to_replace=['Rec'],value=4,inplace=True)\n",
    "test['BsmtFinType2'].replace(to_replace=['LwQ'],value=5,inplace=True)\n",
    "test['BsmtFinType2'].replace(to_replace=[ 'GLQ'],value=6,inplace=True)\n",
    "\n",
    "test['BsmtFinType1'].replace(to_replace=['GLQ'],value=1,inplace=True)\n",
    "test['BsmtFinType1'].replace(to_replace=['ALQ'],value=2,inplace=True)\n",
    "test['BsmtFinType1'].replace(to_replace=['Unf'],value=3,inplace=True)\n",
    "test['BsmtFinType1'].replace(to_replace=['Rec'],value=4,inplace=True)\n",
    "test['BsmtFinType1'].replace(to_replace=['BLQ'],value=5,inplace=True)\n",
    "test['BsmtFinType1'].replace(to_replace=['LwQ'],value=6,inplace=True)\n",
    "\n",
    "test['BsmtExposure'].replace(to_replace=['No'],value=1,inplace=True)\n",
    "test['BsmtExposure'].replace(to_replace=['Gd'],value=2,inplace=True)\n",
    "test['BsmtExposure'].replace(to_replace=['Mn'],value=3,inplace=True)\n",
    "test['BsmtExposure'].replace(to_replace=['Av'],value=4,inplace=True)\n",
    "test['GarageType'].replace(to_replace=['Detchd'],value=2,inplace=True)\n",
    "\n",
    "test['BsmtCond'].replace(to_replace=['TA'],value=1,inplace=True)\n",
    "test['BsmtCond'].replace(to_replace=['Gd'],value=2,inplace=True)\n",
    "test['BsmtCond'].replace(to_replace=['Fa'],value=3,inplace=True)\n",
    "test['BsmtCond'].replace(to_replace=['Po'],value=4,inplace=True)\n",
    "\n",
    "test['Heating'].replace(to_replace=['GasA'],value=1,inplace=True)\n",
    "test['Heating'].replace(to_replace=['GasW'],value=2,inplace=True)\n",
    "test['Heating'].replace(to_replace=['Grav'],value=3,inplace=True)\n",
    "test['Heating'].replace(to_replace=['Wall'],value=4,inplace=True)\n",
    "test['Heating'].replace(to_replace=['OthW'],value=5,inplace=True)\n",
    "test['Heating'].replace(to_replace=['Floor'],value=6,inplace=True)\n",
    "\n",
    "test['BsmtQual'].replace(to_replace=['Gd'],value=1,inplace=True)\n",
    "test['BsmtQual'].replace(to_replace=['TA' ],value=2,inplace=True)\n",
    "test['BsmtQual'].replace(to_replace=['Ex'],value=3,inplace=True)\n",
    "test['BsmtQual'].replace(to_replace=['Fa'],value=4,inplace=True)\n"
   ]
  },
  {
   "cell_type": "markdown",
   "metadata": {},
   "source": [
    "<h2>Transformation train </h2>"
   ]
  },
  {
   "cell_type": "code",
   "execution_count": 20,
   "metadata": {
    "collapsed": true
   },
   "outputs": [],
   "source": [
    "train['Street'].replace(to_replace=[\"Pave\"],value=1,inplace=True)\n",
    "train['Street'].replace(to_replace=['Grvl'],value=2,inplace=True)"
   ]
  },
  {
   "cell_type": "code",
   "execution_count": 21,
   "metadata": {
    "collapsed": true
   },
   "outputs": [],
   "source": [
    "train['Alley'].replace(to_replace=[\"Grvl\"],value=1,inplace=True)\n",
    "train['Alley'].replace(to_replace=['Pave'],value=2,inplace=True)"
   ]
  },
  {
   "cell_type": "code",
   "execution_count": 22,
   "metadata": {
    "collapsed": true
   },
   "outputs": [],
   "source": [
    "train['LotShape'].replace(to_replace=[\"Reg\"],value=1,inplace=True)\n",
    "train['LotShape'].replace(to_replace=['IR1'],value=2,inplace=True)\n",
    "train['LotShape'].replace(to_replace=['IR2'],value=3,inplace=True)\n",
    "train['LotShape'].replace(to_replace=['IR3'],value=4,inplace=True)"
   ]
  },
  {
   "cell_type": "code",
   "execution_count": 23,
   "metadata": {
    "collapsed": true
   },
   "outputs": [],
   "source": [
    "train['LandContour'].replace(to_replace=[\"Lvl\"],value=1,inplace=True)\n",
    "train['LandContour'].replace(to_replace=['Bnk'],value=2,inplace=True)\n",
    "train['LandContour'].replace(to_replace=['HLS'],value=3,inplace=True)\n",
    "train['LandContour'].replace(to_replace=['Low'],value=4,inplace=True)"
   ]
  },
  {
   "cell_type": "code",
   "execution_count": 24,
   "metadata": {
    "collapsed": true
   },
   "outputs": [],
   "source": [
    "train['Utilities'].replace(to_replace=[\"AllPub\"],value=1,inplace=True)\n",
    "train['Utilities'].replace(to_replace=['NoSeWa'],value=2,inplace=True)"
   ]
  },
  {
   "cell_type": "code",
   "execution_count": 25,
   "metadata": {
    "collapsed": true
   },
   "outputs": [],
   "source": [
    "train['MSZoning'].replace(to_replace=[\"RL\"],value=1,inplace=True)\n",
    "train['MSZoning'].replace(to_replace=['RM'],value=2,inplace=True)\n",
    "train['MSZoning'].replace(to_replace=['FV'],value=3,inplace=True)\n",
    "train['MSZoning'].replace(to_replace=['RH'],value=4,inplace=True)\n",
    "train['MSZoning'].replace(to_replace=['C (all)'],value=5,inplace=True)"
   ]
  },
  {
   "cell_type": "code",
   "execution_count": 26,
   "metadata": {
    "collapsed": true
   },
   "outputs": [],
   "source": [
    "train['LotConfig'].replace(to_replace=[\"Inside\"],value=1,inplace=True)\n",
    "train['LotConfig'].replace(to_replace=['Corner'],value=2,inplace=True)\n",
    "train['LotConfig'].replace(to_replace=['CulDSac'],value=3,inplace=True)\n",
    "train['LotConfig'].replace(to_replace=['FR2'],value=4,inplace=True)\n",
    "train['LotConfig'].replace(to_replace=['FR3'],value=5,inplace=True)"
   ]
  },
  {
   "cell_type": "code",
   "execution_count": 27,
   "metadata": {
    "collapsed": true
   },
   "outputs": [],
   "source": [
    "train['SaleCondition'].replace(to_replace=[\"Normal\"],value=1,inplace=True)\n",
    "train['SaleCondition'].replace(to_replace=['Abnorml'],value=2,inplace=True)\n",
    "train['SaleCondition'].replace(to_replace=['Partial'],value=3,inplace=True)\n",
    "train['SaleCondition'].replace(to_replace=['AdjLand'],value=4,inplace=True)\n",
    "train['SaleCondition'].replace(to_replace=['Alloca'],value=5,inplace=True)\n",
    "train['SaleCondition'].replace(to_replace=['Family'],value=6,inplace=True)\n"
   ]
  },
  {
   "cell_type": "code",
   "execution_count": 28,
   "metadata": {
    "collapsed": true
   },
   "outputs": [],
   "source": [
    "train['LandSlope'].replace(to_replace=[\"Gtl\"],value=1,inplace=True)\n",
    "train['LandSlope'].replace(to_replace=['Mod'],value=2,inplace=True)\n",
    "train['LandSlope'].replace(to_replace=['Sev'],value=3,inplace=True)"
   ]
  },
  {
   "cell_type": "code",
   "execution_count": 29,
   "metadata": {
    "collapsed": true
   },
   "outputs": [],
   "source": [
    "train['Neighborhood'].replace(to_replace=[\"NAmes\"],value=1,inplace=True)\n",
    "train['Neighborhood'].replace(to_replace=['CollgCr'],value=2,inplace=True)\n",
    "train['Neighborhood'].replace(to_replace=['OldTown'],value=3,inplace=True)\n",
    "train['Neighborhood'].replace(to_replace=['AdjLand'],value=4,inplace=True)\n",
    "train['Neighborhood'].replace(to_replace=[\"Edwards\"],value=5,inplace=True)\n",
    "train['Neighborhood'].replace(to_replace=['Somerst'],value=6,inplace=True)\n",
    "train['Neighborhood'].replace(to_replace=['Gilbert'],value=7,inplace=True)\n",
    "train['Neighborhood'].replace(to_replace=['NridgHt'],value=8,inplace=True)\n",
    "train['Neighborhood'].replace(to_replace=[\"Sawyer\"],value=9,inplace=True)\n",
    "train['Neighborhood'].replace(to_replace=['NWAmes'],value=10,inplace=True)\n",
    "train['Neighborhood'].replace(to_replace=['SawyerW'],value=11,inplace=True)\n",
    "train['Neighborhood'].replace(to_replace=['BrkSide'],value=12,inplace=True)\n",
    "train['Neighborhood'].replace(to_replace=[\"Crawfor\"],value=13,inplace=True)\n",
    "train['Neighborhood'].replace(to_replace=['Mitchel'],value=14,inplace=True)\n",
    "train['Neighborhood'].replace(to_replace=['NoRidge'],value=15,inplace=True)\n",
    "train['Neighborhood'].replace(to_replace=['Timber'],value=16,inplace=True)\n",
    "train['Neighborhood'].replace(to_replace=[\"IDOTRR\"],value=17,inplace=True)\n",
    "train['Neighborhood'].replace(to_replace=['ClearCr'],value=18,inplace=True)\n",
    "train['Neighborhood'].replace(to_replace=['SWISU'],value=19,inplace=True)\n",
    "train['Neighborhood'].replace(to_replace=['StoneBr'],value=20,inplace=True)\n",
    "train['Neighborhood'].replace(to_replace=[\"Blmngtn\"],value=21,inplace=True)\n",
    "train['Neighborhood'].replace(to_replace=['MeadowV'],value=22,inplace=True)\n",
    "train['Neighborhood'].replace(to_replace=['BrDale'],value=23,inplace=True)\n",
    "train['Neighborhood'].replace(to_replace=['Veenker'],value=24,inplace=True)\n",
    "train['Neighborhood'].replace(to_replace=['NPkVill'],value=25,inplace=True)\n",
    "train['Neighborhood'].replace(to_replace=['Blueste'],value=26,inplace=True)"
   ]
  },
  {
   "cell_type": "code",
   "execution_count": 30,
   "metadata": {
    "collapsed": true
   },
   "outputs": [],
   "source": [
    "train['Condition1'].replace(to_replace=[\"Norm\"],value=1,inplace=True)\n",
    "train['Condition1'].replace(to_replace=['Feedr'],value=2,inplace=True)\n",
    "train['Condition1'].replace(to_replace=['Artery'],value=3,inplace=True)\n",
    "train['Condition1'].replace(to_replace=['RRAn'],value=4,inplace=True)\n",
    "train['Condition1'].replace(to_replace=[\"PosN\"],value=5,inplace=True)\n",
    "train['Condition1'].replace(to_replace=['RRAe'],value=6,inplace=True)\n",
    "train['Condition1'].replace(to_replace=['PosA'],value=7,inplace=True)\n",
    "train['Condition1'].replace(to_replace=['RRNn'],value=8,inplace=True)\n",
    "train['Condition1'].replace(to_replace=['RRNe'],value=9,inplace=True)"
   ]
  },
  {
   "cell_type": "code",
   "execution_count": 31,
   "metadata": {
    "collapsed": true
   },
   "outputs": [],
   "source": [
    "train['Condition2'].replace(to_replace=[\"Norm\"],value=1,inplace=True)\n",
    "train['Condition2'].replace(to_replace=['Feedr'],value=2,inplace=True)\n",
    "train['Condition2'].replace(to_replace=['Artery'],value=3,inplace=True)\n",
    "train['Condition2'].replace(to_replace=['RRNn'],value=4,inplace=True)\n",
    "train['Condition2'].replace(to_replace=[\"PosN\"],value=5,inplace=True)\n",
    "train['Condition2'].replace(to_replace=['RRAe'],value=6,inplace=True)\n",
    "train['Condition2'].replace(to_replace=['PosA'],value=7,inplace=True)\n",
    "train['Condition2'].replace(to_replace=['RRAn'],value=8,inplace=True)"
   ]
  },
  {
   "cell_type": "code",
   "execution_count": 32,
   "metadata": {
    "collapsed": true
   },
   "outputs": [],
   "source": [
    "train['BldgType'].replace(to_replace=[\"1Fam\"],value=1,inplace=True)\n",
    "train['BldgType'].replace(to_replace=['TwnhsE'],value=2,inplace=True)\n",
    "train['BldgType'].replace(to_replace=['Duplex'],value=3,inplace=True)\n",
    "train['BldgType'].replace(to_replace=['Twnhs'],value=4,inplace=True)\n",
    "train['BldgType'].replace(to_replace=['2fmCon'],value=5,inplace=True)"
   ]
  },
  {
   "cell_type": "code",
   "execution_count": 33,
   "metadata": {
    "collapsed": true
   },
   "outputs": [],
   "source": [
    "train['HouseStyle'].replace(to_replace=[\"1Story\"],value=1,inplace=True)\n",
    "train['HouseStyle'].replace(to_replace=['2Story'],value=2,inplace=True)\n",
    "train['HouseStyle'].replace(to_replace=['1.5Fin'],value=3,inplace=True)\n",
    "train['HouseStyle'].replace(to_replace=['SLvl'],value=4,inplace=True)\n",
    "train['HouseStyle'].replace(to_replace=['SFoyer'],value=5,inplace=True)\n",
    "train['HouseStyle'].replace(to_replace=[\"1.5Unf\"],value=6,inplace=True)\n",
    "train['HouseStyle'].replace(to_replace=['2.5Unf'],value=7,inplace=True)\n",
    "train['HouseStyle'].replace(to_replace=['2.5Fin'],value=8,inplace=True)"
   ]
  },
  {
   "cell_type": "code",
   "execution_count": 34,
   "metadata": {
    "collapsed": true
   },
   "outputs": [],
   "source": [
    "train['RoofStyle'].replace(to_replace=[\"Gable\"],value=1,inplace=True)\n",
    "train['RoofStyle'].replace(to_replace=['Hip'],value=2,inplace=True)\n",
    "train['RoofStyle'].replace(to_replace=['Flat'],value=3,inplace=True)\n",
    "train['RoofStyle'].replace(to_replace=['Gambrel'],value=4,inplace=True)\n",
    "train['RoofStyle'].replace(to_replace=['Mansard'],value=5,inplace=True)\n",
    "train['RoofStyle'].replace(to_replace=['Shed'],value=6,inplace=True)"
   ]
  },
  {
   "cell_type": "code",
   "execution_count": 35,
   "metadata": {
    "collapsed": true
   },
   "outputs": [],
   "source": [
    "train['RoofMatl'].replace(to_replace=[\"CompShg\"],value=1,inplace=True)\n",
    "train['RoofMatl'].replace(to_replace=['Tar&Grv'],value=2,inplace=True)\n",
    "train['RoofMatl'].replace(to_replace=['WdShngl'],value=3,inplace=True)\n",
    "train['RoofMatl'].replace(to_replace=['WdShake'],value=4,inplace=True)\n",
    "train['RoofMatl'].replace(to_replace=[\"Roll\"],value=5,inplace=True)\n",
    "train['RoofMatl'].replace(to_replace=['ClyTile'],value=6,inplace=True)\n",
    "train['RoofMatl'].replace(to_replace=['Membran'],value=7,inplace=True)\n",
    "train['RoofMatl'].replace(to_replace=['Metal'],value=8,inplace=True)"
   ]
  },
  {
   "cell_type": "code",
   "execution_count": 36,
   "metadata": {
    "collapsed": true
   },
   "outputs": [],
   "source": [
    "train['Exterior1st'].replace(to_replace=[\"VinylSd\"],value=1,inplace=True)\n",
    "train['Exterior1st'].replace(to_replace=['HdBoard'],value=2,inplace=True)\n",
    "train['Exterior1st'].replace(to_replace=['MetalSd'],value=3,inplace=True)\n",
    "train['Exterior1st'].replace(to_replace=['Wd Sdng'],value=4,inplace=True)\n",
    "train['Exterior1st'].replace(to_replace=[\"Plywood\"],value=5,inplace=True)\n",
    "train['Exterior1st'].replace(to_replace=['CemntBd'],value=6,inplace=True)\n",
    "train['Exterior1st'].replace(to_replace=['BrkFace'],value=7,inplace=True)\n",
    "train['Exterior1st'].replace(to_replace=['WdShing'],value=8,inplace=True)\n",
    "train['Exterior1st'].replace(to_replace=[\"Stucco\"],value=9,inplace=True)\n",
    "train['Exterior1st'].replace(to_replace=['AsbShng'],value=10,inplace=True)\n",
    "train['Exterior1st'].replace(to_replace=['Stone'],value=11,inplace=True)\n",
    "train['Exterior1st'].replace(to_replace=['BrkComm'],value=12,inplace=True)\n",
    "train['Exterior1st'].replace(to_replace=['ImStucc'],value=13,inplace=True)\n",
    "train['Exterior1st'].replace(to_replace=['AsphShn'],value=14,inplace=True)\n",
    "train['Exterior1st'].replace(to_replace=['CBlock'],value=15,inplace=True)"
   ]
  },
  {
   "cell_type": "code",
   "execution_count": 37,
   "metadata": {
    "collapsed": true
   },
   "outputs": [],
   "source": [
    "train['Exterior2nd'].replace(to_replace=[\"VinylSd\"],value=1,inplace=True)\n",
    "train['Exterior2nd'].replace(to_replace=['MetalSd'],value=2,inplace=True)\n",
    "train['Exterior2nd'].replace(to_replace=['HdBoard'],value=3,inplace=True)\n",
    "train['Exterior2nd'].replace(to_replace=['Wd Sdng'],value=4,inplace=True)\n",
    "train['Exterior2nd'].replace(to_replace=[\"Plywood\"],value=5,inplace=True)\n",
    "train['Exterior2nd'].replace(to_replace=['CmentBd'],value=6,inplace=True)\n",
    "train['Exterior2nd'].replace(to_replace=['Wd Shng'],value=7,inplace=True)\n",
    "train['Exterior2nd'].replace(to_replace=['Stucco'],value=8,inplace=True)\n",
    "train['Exterior2nd'].replace(to_replace=[\"BrkFace\"],value=9,inplace=True)\n",
    "train['Exterior2nd'].replace(to_replace=['AsbShng'],value=10,inplace=True)\n",
    "train['Exterior2nd'].replace(to_replace=['ImStucc'],value=11,inplace=True)\n",
    "train['Exterior2nd'].replace(to_replace=['Brk Cmn'],value=12,inplace=True)\n",
    "train['Exterior2nd'].replace(to_replace=[\"Stone\"],value=13,inplace=True)\n",
    "train['Exterior2nd'].replace(to_replace=['AsphShn'],value=14,inplace=True)\n",
    "train['Exterior2nd'].replace(to_replace=['Other'],value=15,inplace=True)\n",
    "train['Exterior2nd'].replace(to_replace=['CBlock'],value=16,inplace=True)"
   ]
  },
  {
   "cell_type": "code",
   "execution_count": 38,
   "metadata": {
    "collapsed": true
   },
   "outputs": [],
   "source": [
    "train['MasVnrType'].replace(to_replace=[\"None\"],value=1,inplace=True)\n",
    "train['MasVnrType'].replace(to_replace=['BrkFace'],value=2,inplace=True)\n",
    "train['MasVnrType'].replace(to_replace=['Stone'],value=3,inplace=True)\n",
    "train['MasVnrType'].replace(to_replace=['BrkCmn'],value=4,inplace=True)"
   ]
  },
  {
   "cell_type": "code",
   "execution_count": 39,
   "metadata": {
    "collapsed": true
   },
   "outputs": [],
   "source": [
    "train['MasVnrType'].replace(to_replace=[\"None\"],value=1,inplace=True)\n",
    "train['MasVnrType'].replace(to_replace=['BrkFace'],value=2,inplace=True)\n",
    "train['MasVnrType'].replace(to_replace=['Stone'],value=3,inplace=True)\n",
    "train['MasVnrType'].replace(to_replace=['BrkCmn'],value=4,inplace=True)"
   ]
  },
  {
   "cell_type": "code",
   "execution_count": 40,
   "metadata": {
    "collapsed": true
   },
   "outputs": [],
   "source": [
    "train['ExterQual'].replace(to_replace=[\"TA\"],value=1,inplace=True)\n",
    "train['ExterQual'].replace(to_replace=['Gd'],value=2,inplace=True)\n",
    "train['ExterQual'].replace(to_replace=['Ex'],value=3,inplace=True)\n",
    "train['ExterQual'].replace(to_replace=['Fa'],value=4,inplace=True)"
   ]
  },
  {
   "cell_type": "code",
   "execution_count": 41,
   "metadata": {
    "collapsed": true
   },
   "outputs": [],
   "source": [
    "train['ExterCond'].replace(to_replace=[\"TA\"],value=1,inplace=True)\n",
    "train['ExterCond'].replace(to_replace=['Gd'],value=2,inplace=True)\n",
    "train['ExterCond'].replace(to_replace=['Fa'],value=3,inplace=True)\n",
    "train['ExterCond'].replace(to_replace=['Ex'],value=4,inplace=True)\n",
    "train['ExterCond'].replace(to_replace=[\"Po\"],value=5,inplace=True)"
   ]
  },
  {
   "cell_type": "code",
   "execution_count": 42,
   "metadata": {
    "collapsed": true
   },
   "outputs": [],
   "source": [
    "train['Foundation'].replace(to_replace=[\"PConc\"],value=1,inplace=True)\n",
    "train['Foundation'].replace(to_replace=['CBlock'],value=2,inplace=True)\n",
    "train['Foundation'].replace(to_replace=['BrkTil'],value=3,inplace=True)\n",
    "train['Foundation'].replace(to_replace=['Slab'],value=4,inplace=True)\n",
    "train['Foundation'].replace(to_replace=['Stone'],value=5,inplace=True)\n",
    "train['Foundation'].replace(to_replace=['Wood'],value=6,inplace=True)"
   ]
  },
  {
   "cell_type": "code",
   "execution_count": 43,
   "metadata": {
    "collapsed": true
   },
   "outputs": [],
   "source": [
    "train['SaleType'].replace(to_replace=[\"WD\"],value=1,inplace=True)\n",
    "train['SaleType'].replace(to_replace=['New'],value=2,inplace=True)\n",
    "train['SaleType'].replace(to_replace=['COD'],value=3,inplace=True)\n",
    "train['SaleType'].replace(to_replace=['ConLD'],value=4,inplace=True)\n",
    "train['SaleType'].replace(to_replace=['ConLI'],value=5,inplace=True)\n",
    "train['SaleType'].replace(to_replace=['CWD'],value=6,inplace=True)\n",
    "train['SaleType'].replace(to_replace=['ConLw'],value=7,inplace=True)\n",
    "train['SaleType'].replace(to_replace=['Con'],value=8,inplace=True)\n",
    "train['SaleType'].replace(to_replace=[ 'Oth'],value=9,inplace=True)\n",
    "\n"
   ]
  },
  {
   "cell_type": "code",
   "execution_count": 44,
   "metadata": {
    "collapsed": true
   },
   "outputs": [],
   "source": [
    "train['MiscFeature'].replace(to_replace=['Shed'],value=1,inplace=True)\n",
    "train['MiscFeature'].replace(to_replace=['Gar2' ],value=2,inplace=True)\n",
    "train['MiscFeature'].replace(to_replace=['Othr'],value=3,inplace=True)\n",
    "train['MiscFeature'].replace(to_replace=['TenC'],value=4,inplace=True)"
   ]
  },
  {
   "cell_type": "code",
   "execution_count": 45,
   "metadata": {
    "collapsed": true
   },
   "outputs": [],
   "source": [
    "train['Fence'].replace(to_replace=['MnPrv'],value=1,inplace=True)\n",
    "train['Fence'].replace(to_replace=['GdWo' ],value=2,inplace=True)\n",
    "train['Fence'].replace(to_replace=['GdPrv'],value=3,inplace=True)\n",
    "train['Fence'].replace(to_replace=['MnWw'],value=4,inplace=True)"
   ]
  },
  {
   "cell_type": "code",
   "execution_count": 46,
   "metadata": {
    "collapsed": true
   },
   "outputs": [],
   "source": [
    "train['PoolQC'].replace(to_replace=['Ex'],value=1,inplace=True)\n",
    "train['PoolQC'].replace(to_replace=['Fa'],value=2,inplace=True)\n",
    "train['PoolQC'].replace(to_replace=['Gd'],value=3,inplace=True)\n"
   ]
  },
  {
   "cell_type": "code",
   "execution_count": 47,
   "metadata": {
    "collapsed": true
   },
   "outputs": [],
   "source": [
    "train['PavedDrive'].replace(to_replace=['Y'],value=1,inplace=True)\n",
    "train['PavedDrive'].replace(to_replace=['N'],value=2,inplace=True)\n",
    "train['PavedDrive'].replace(to_replace=['P'],value=3,inplace=True)"
   ]
  },
  {
   "cell_type": "code",
   "execution_count": 48,
   "metadata": {
    "collapsed": true
   },
   "outputs": [],
   "source": [
    "train['Functional'].replace(to_replace=['Typ' ],value=1,inplace=True)\n",
    "train['Functional'].replace(to_replace=['Min1'],value=2,inplace=True)\n",
    "train['Functional'].replace(to_replace=['Maj1'],value=3,inplace=True)\n",
    "train['Functional'].replace(to_replace=['Min2' ],value=4,inplace=True)\n",
    "train['Functional'].replace(to_replace=['Mod'],value=5,inplace=True)\n",
    "train['Functional'].replace(to_replace=['Maj2'],value=6,inplace=True)\n",
    "train['Functional'].replace(to_replace=['Sev'],value=7,inplace=True)"
   ]
  },
  {
   "cell_type": "code",
   "execution_count": 49,
   "metadata": {},
   "outputs": [
    {
     "name": "stdout",
     "output_type": "stream",
     "text": [
      "[0 'TA' 'Gd' 'Fa' 'Ex' 'Po']\n"
     ]
    }
   ],
   "source": [
    "print(train.FireplaceQu.unique())"
   ]
  },
  {
   "cell_type": "code",
   "execution_count": 50,
   "metadata": {
    "collapsed": true
   },
   "outputs": [],
   "source": [
    "train['FireplaceQu'].replace(to_replace=['TA'],value=1,inplace=True)\n",
    "train['FireplaceQu'].replace(to_replace=['Gd' ],value=2,inplace=True)\n",
    "train['FireplaceQu'].replace(to_replace=['Fa'],value=3,inplace=True)\n",
    "train['FireplaceQu'].replace(to_replace=['Ex'],value=4,inplace=True)\n",
    "train['FireplaceQu'].replace(to_replace=['Po'],value=5,inplace=True)"
   ]
  },
  {
   "cell_type": "code",
   "execution_count": 51,
   "metadata": {
    "collapsed": true
   },
   "outputs": [],
   "source": [
    "train['GarageFinish'].replace(to_replace=['RFn'],value=1,inplace=True)\n",
    "train['GarageFinish'].replace(to_replace=['Unf' ],value=2,inplace=True)\n",
    "train['GarageFinish'].replace(to_replace=['Fin'],value=3,inplace=True)"
   ]
  },
  {
   "cell_type": "code",
   "execution_count": 52,
   "metadata": {
    "collapsed": true
   },
   "outputs": [],
   "source": [
    "train['GarageQual'].replace(to_replace=['TA'],value=1,inplace=True)\n",
    "train['GarageQual'].replace(to_replace=['Fa' ],value=2,inplace=True)\n",
    "train['GarageQual'].replace(to_replace=['Gd'],value=3,inplace=True)\n",
    "train['GarageQual'].replace(to_replace=['Ex'],value=4,inplace=True)\n",
    "train['GarageQual'].replace(to_replace=['Po'],value=5,inplace=True)"
   ]
  },
  {
   "cell_type": "code",
   "execution_count": 53,
   "metadata": {},
   "outputs": [
    {
     "name": "stdout",
     "output_type": "stream",
     "text": [
      "['TA' 'Fa' 0 'Gd' 'Po' 'Ex']\n"
     ]
    }
   ],
   "source": [
    "print(train.GarageCond.unique())\n"
   ]
  },
  {
   "cell_type": "code",
   "execution_count": 54,
   "metadata": {
    "collapsed": true
   },
   "outputs": [],
   "source": [
    "train['GarageCond'].replace(to_replace=['TA'],value=1,inplace=True)\n",
    "train['GarageCond'].replace(to_replace=['Fa' ],value=2,inplace=True)\n",
    "train['GarageCond'].replace(to_replace=['Gd'],value=3,inplace=True)\n",
    "train['GarageCond'].replace(to_replace=['Po'],value=4,inplace=True)\n",
    "train['GarageCond'].replace(to_replace=['Ex'],value=5,inplace=True)"
   ]
  },
  {
   "cell_type": "code",
   "execution_count": 55,
   "metadata": {},
   "outputs": [
    {
     "name": "stdout",
     "output_type": "stream",
     "text": [
      "['Attchd' 'Detchd' 'BuiltIn' 'CarPort' 0 'Basment' '2Types']\n"
     ]
    }
   ],
   "source": [
    "print(train.GarageType.unique())"
   ]
  },
  {
   "cell_type": "code",
   "execution_count": 56,
   "metadata": {
    "collapsed": true
   },
   "outputs": [],
   "source": [
    "train['GarageType'].replace(to_replace=['Attchd'],value=1,inplace=True)\n",
    "train['GarageType'].replace(to_replace=['Detchd'],value=2,inplace=True)\n",
    "train['GarageType'].replace(to_replace=['BuiltIn'],value=3,inplace=True)\n",
    "train['GarageType'].replace(to_replace=['CarPort'],value=4,inplace=True)\n",
    "train['GarageType'].replace(to_replace=['Basment'],value=5,inplace=True)\n",
    "train['GarageType'].replace(to_replace=['2Types'],value=6,inplace=True)"
   ]
  },
  {
   "cell_type": "code",
   "execution_count": 57,
   "metadata": {},
   "outputs": [
    {
     "name": "stdout",
     "output_type": "stream",
     "text": [
      "['Gd' 'TA' 'Ex' 'Fa']\n"
     ]
    }
   ],
   "source": [
    "print(train.KitchenQual.unique())"
   ]
  },
  {
   "cell_type": "code",
   "execution_count": 58,
   "metadata": {
    "collapsed": true
   },
   "outputs": [],
   "source": [
    "train['KitchenQual'].replace(to_replace=['Gd'],value=1,inplace=True)\n",
    "train['KitchenQual'].replace(to_replace=['TA'],value=2,inplace=True)\n",
    "train['KitchenQual'].replace(to_replace=['Ex'],value=3,inplace=True)\n",
    "train['KitchenQual'].replace(to_replace=['Fa'],value=4,inplace=True)"
   ]
  },
  {
   "cell_type": "code",
   "execution_count": 59,
   "metadata": {},
   "outputs": [
    {
     "name": "stdout",
     "output_type": "stream",
     "text": [
      "['SBrkr' 'FuseF' 'FuseA' 'FuseP' 'Mix' 0]\n"
     ]
    }
   ],
   "source": [
    "print(train.Electrical.unique())"
   ]
  },
  {
   "cell_type": "code",
   "execution_count": 60,
   "metadata": {
    "collapsed": true
   },
   "outputs": [],
   "source": [
    "train['Electrical'].replace(to_replace=['SBrkr' ],value=1,inplace=True)\n",
    "train['Electrical'].replace(to_replace=['FuseF'],value=2,inplace=True)\n",
    "train['Electrical'].replace(to_replace=['FuseA'],value=3,inplace=True)\n",
    "train['Electrical'].replace(to_replace=['FuseP'],value=4,inplace=True)\n",
    "train['Electrical'].replace(to_replace=['Mix'],value=5,inplace=True)"
   ]
  },
  {
   "cell_type": "code",
   "execution_count": 61,
   "metadata": {},
   "outputs": [
    {
     "name": "stdout",
     "output_type": "stream",
     "text": [
      "['Y' 'N']\n"
     ]
    }
   ],
   "source": [
    "print(train.CentralAir.unique())"
   ]
  },
  {
   "cell_type": "code",
   "execution_count": 62,
   "metadata": {
    "collapsed": true
   },
   "outputs": [],
   "source": [
    "train['CentralAir'].replace(to_replace=['Y'],value=1,inplace=True)\n",
    "train['CentralAir'].replace(to_replace=['N'],value=2,inplace=True)"
   ]
  },
  {
   "cell_type": "code",
   "execution_count": 63,
   "metadata": {},
   "outputs": [
    {
     "name": "stdout",
     "output_type": "stream",
     "text": [
      "['Ex' 'Gd' 'TA' 'Fa' 'Po']\n"
     ]
    }
   ],
   "source": [
    "print(train.HeatingQC.unique())"
   ]
  },
  {
   "cell_type": "code",
   "execution_count": 64,
   "metadata": {
    "collapsed": true
   },
   "outputs": [],
   "source": [
    "train['HeatingQC'].replace(to_replace=['Ex'],value=1,inplace=True)\n",
    "train['HeatingQC'].replace(to_replace=['Gd'],value=2,inplace=True)\n",
    "train['HeatingQC'].replace(to_replace=['TA'],value=3,inplace=True)\n",
    "train['HeatingQC'].replace(to_replace=['Fa'],value=4,inplace=True)\n",
    "train['HeatingQC'].replace(to_replace=['Po'],value=5,inplace=True)"
   ]
  },
  {
   "cell_type": "code",
   "execution_count": 65,
   "metadata": {},
   "outputs": [
    {
     "name": "stdout",
     "output_type": "stream",
     "text": [
      "['Unf' 'BLQ' 0 'ALQ' 'Rec' 'LwQ' 'GLQ']\n"
     ]
    }
   ],
   "source": [
    "print(train.BsmtFinType2.unique())"
   ]
  },
  {
   "cell_type": "code",
   "execution_count": 66,
   "metadata": {
    "collapsed": true
   },
   "outputs": [],
   "source": [
    "train['BsmtFinType2'].replace(to_replace=['Unf'],value=1,inplace=True)\n",
    "train['BsmtFinType2'].replace(to_replace=['BLQ'],value=2,inplace=True)\n",
    "train['BsmtFinType2'].replace(to_replace=['ALQ' ],value=3,inplace=True)\n",
    "train['BsmtFinType2'].replace(to_replace=['Rec'],value=4,inplace=True)\n",
    "train['BsmtFinType2'].replace(to_replace=['LwQ'],value=5,inplace=True)\n",
    "train['BsmtFinType2'].replace(to_replace=[ 'GLQ'],value=6,inplace=True)"
   ]
  },
  {
   "cell_type": "code",
   "execution_count": 67,
   "metadata": {},
   "outputs": [
    {
     "name": "stdout",
     "output_type": "stream",
     "text": [
      "['GLQ' 'ALQ' 'Unf' 'Rec' 'BLQ' 0 'LwQ']\n"
     ]
    }
   ],
   "source": [
    "print(train.BsmtFinType1.unique())"
   ]
  },
  {
   "cell_type": "code",
   "execution_count": 68,
   "metadata": {
    "collapsed": true
   },
   "outputs": [],
   "source": [
    "train['BsmtFinType1'].replace(to_replace=['GLQ'],value=1,inplace=True)\n",
    "train['BsmtFinType1'].replace(to_replace=['ALQ'],value=2,inplace=True)\n",
    "train['BsmtFinType1'].replace(to_replace=['Unf'],value=3,inplace=True)\n",
    "train['BsmtFinType1'].replace(to_replace=['Rec'],value=4,inplace=True)\n",
    "train['BsmtFinType1'].replace(to_replace=['BLQ'],value=5,inplace=True)\n",
    "train['BsmtFinType1'].replace(to_replace=['LwQ'],value=6,inplace=True)"
   ]
  },
  {
   "cell_type": "code",
   "execution_count": 69,
   "metadata": {},
   "outputs": [
    {
     "name": "stdout",
     "output_type": "stream",
     "text": [
      "['No' 'Gd' 'Mn' 'Av' 0]\n"
     ]
    }
   ],
   "source": [
    "\n",
    "\n",
    "print(train.BsmtExposure.unique())"
   ]
  },
  {
   "cell_type": "code",
   "execution_count": 70,
   "metadata": {
    "collapsed": true
   },
   "outputs": [],
   "source": [
    "train['BsmtExposure'].replace(to_replace=['No'],value=1,inplace=True)\n",
    "train['BsmtExposure'].replace(to_replace=['Gd'],value=2,inplace=True)\n",
    "train['BsmtExposure'].replace(to_replace=['Mn'],value=3,inplace=True)\n",
    "train['BsmtExposure'].replace(to_replace=['Av'],value=4,inplace=True)"
   ]
  },
  {
   "cell_type": "code",
   "execution_count": 71,
   "metadata": {},
   "outputs": [
    {
     "name": "stdout",
     "output_type": "stream",
     "text": [
      "['TA' 'Gd' 0 'Fa' 'Po']\n"
     ]
    }
   ],
   "source": [
    "print(train.BsmtCond.unique())"
   ]
  },
  {
   "cell_type": "code",
   "execution_count": 72,
   "metadata": {
    "collapsed": true
   },
   "outputs": [],
   "source": [
    "train['BsmtCond'].replace(to_replace=['TA'],value=1,inplace=True)\n",
    "train['BsmtCond'].replace(to_replace=['Gd'],value=2,inplace=True)\n",
    "train['BsmtCond'].replace(to_replace=['Fa'],value=3,inplace=True)\n",
    "train['BsmtCond'].replace(to_replace=['Po'],value=4,inplace=True)"
   ]
  },
  {
   "cell_type": "code",
   "execution_count": 73,
   "metadata": {},
   "outputs": [
    {
     "name": "stdout",
     "output_type": "stream",
     "text": [
      "['GasA' 'GasW' 'Grav' 'Wall' 'OthW' 'Floor']\n"
     ]
    }
   ],
   "source": [
    "print(train.Heating.unique())"
   ]
  },
  {
   "cell_type": "code",
   "execution_count": 74,
   "metadata": {
    "collapsed": true
   },
   "outputs": [],
   "source": [
    "train['Heating'].replace(to_replace=['GasA'],value=1,inplace=True)\n",
    "train['Heating'].replace(to_replace=['GasW'],value=2,inplace=True)\n",
    "train['Heating'].replace(to_replace=['Grav'],value=3,inplace=True)\n",
    "train['Heating'].replace(to_replace=['Wall'],value=4,inplace=True)\n",
    "train['Heating'].replace(to_replace=['OthW'],value=5,inplace=True)\n",
    "train['Heating'].replace(to_replace=['Floor'],value=6,inplace=True)"
   ]
  },
  {
   "cell_type": "code",
   "execution_count": 75,
   "metadata": {},
   "outputs": [
    {
     "name": "stdout",
     "output_type": "stream",
     "text": [
      "['Gd' 'TA' 'Ex' 0 'Fa']\n"
     ]
    }
   ],
   "source": [
    "print(train.BsmtQual.unique())"
   ]
  },
  {
   "cell_type": "code",
   "execution_count": 76,
   "metadata": {
    "collapsed": true
   },
   "outputs": [],
   "source": [
    "train['BsmtQual'].replace(to_replace=['Gd'],value=1,inplace=True)\n",
    "train['BsmtQual'].replace(to_replace=['TA' ],value=2,inplace=True)\n",
    "train['BsmtQual'].replace(to_replace=['Ex'],value=3,inplace=True)\n",
    "train['BsmtQual'].replace(to_replace=['Fa'],value=4,inplace=True)\n"
   ]
  },
  {
   "cell_type": "code",
   "execution_count": 77,
   "metadata": {},
   "outputs": [
    {
     "name": "stdout",
     "output_type": "stream",
     "text": [
      "Index([], dtype='object')\n"
     ]
    }
   ],
   "source": [
    "categoricals = train.select_dtypes(exclude=[np.number])\n",
    "a=categoricals.columns\n",
    "print(a)"
   ]
  },
  {
   "cell_type": "markdown",
   "metadata": {
    "collapsed": true
   },
   "source": [
    "## Corrélation entre les variables"
   ]
  },
  {
   "cell_type": "code",
   "execution_count": 78,
   "metadata": {},
   "outputs": [
    {
     "name": "stdout",
     "output_type": "stream",
     "text": [
      "SalePrice        1.000000\n",
      "OverallQual      0.790982\n",
      "GrLivArea        0.708624\n",
      "GarageCars       0.640409\n",
      "GarageArea       0.623431\n",
      "TotalBsmtSF      0.613581\n",
      "1stFlrSF         0.605852\n",
      "ExterQual        0.567079\n",
      "FullBath         0.560664\n",
      "TotRmsAbvGrd     0.533723\n",
      "YearBuilt        0.522897\n",
      "YearRemodAdd     0.507101\n",
      "MasVnrArea       0.472614\n",
      "Fireplaces       0.466929\n",
      "FireplaceQu      0.402854\n",
      "BsmtFinSF1       0.386420\n",
      "MasVnrType       0.369734\n",
      "WoodDeckSF       0.324413\n",
      "2ndFlrSF         0.319334\n",
      "OpenPorchSF      0.315856\n",
      "HalfBath         0.284108\n",
      "LotShape         0.267759\n",
      "LotArea          0.263843\n",
      "GarageYrBlt      0.261366\n",
      "GarageFinish     0.247470\n",
      "BsmtExposure     0.244946\n",
      "BsmtFullBath     0.227122\n",
      "BsmtUnfSF        0.214479\n",
      "LotFrontage      0.209624\n",
      "BedroomAbvGr     0.168213\n",
      "                   ...   \n",
      "MiscVal         -0.021190\n",
      "BsmtCond        -0.021549\n",
      "BsmtFinType2    -0.023492\n",
      "LowQualFinSF    -0.025606\n",
      "YrSold          -0.028923\n",
      "Condition1      -0.029464\n",
      "GarageType      -0.031803\n",
      "Street          -0.041036\n",
      "MiscFeature     -0.061128\n",
      "OverallCond     -0.077856\n",
      "MSSubClass      -0.084284\n",
      "HouseStyle      -0.087456\n",
      "Alley           -0.092607\n",
      "Heating         -0.106673\n",
      "Functional      -0.108367\n",
      "KitchenQual     -0.114746\n",
      "ExterCond       -0.128026\n",
      "EnclosedPorch   -0.128578\n",
      "Fence           -0.128700\n",
      "KitchenAbvGr    -0.135907\n",
      "Exterior2nd     -0.143313\n",
      "Exterior1st     -0.167726\n",
      "BldgType        -0.173900\n",
      "MSZoning        -0.183642\n",
      "PavedDrive      -0.208954\n",
      "Electrical      -0.230830\n",
      "CentralAir      -0.251328\n",
      "BsmtFinType1    -0.299343\n",
      "HeatingQC       -0.427649\n",
      "Foundation      -0.441842\n",
      "Name: SalePrice, Length: 80, dtype: float64\n"
     ]
    }
   ],
   "source": [
    "corr=train.corr()\n",
    "print (corr['SalePrice'].sort_values(ascending=False))"
   ]
  },
  {
   "cell_type": "markdown",
   "metadata": {},
   "source": [
    "Les 5 premiers caratéristiques sont corréles positivement tandis que les 5 dernièrs sont ceux qui sont negativement corrélés"
   ]
  },
  {
   "cell_type": "code",
   "execution_count": 79,
   "metadata": {},
   "outputs": [
    {
     "name": "stdout",
     "output_type": "stream",
     "text": [
      "[ 7  6  8  5  9  4 10  3  1  2]\n"
     ]
    }
   ],
   "source": [
    "print(train.OverallQual.unique())"
   ]
  },
  {
   "cell_type": "markdown",
   "metadata": {},
   "source": [
    "On va étudier la relation entre OverallQual et SalePrice"
   ]
  },
  {
   "cell_type": "markdown",
   "metadata": {},
   "source": [
    "<h2>Détection des outliers </h2>"
   ]
  },
  {
   "cell_type": "code",
   "execution_count": 80,
   "metadata": {},
   "outputs": [
    {
     "name": "stdout",
     "output_type": "stream",
     "text": [
      "             SalePrice\n",
      "OverallQual           \n",
      "1                50150\n",
      "2                60000\n",
      "3                86250\n",
      "4               108000\n",
      "5               133000\n",
      "6               160000\n",
      "7               200141\n",
      "8               269750\n",
      "9               345000\n",
      "10              432390\n"
     ]
    }
   ],
   "source": [
    "diagramme_qualité = train.pivot_table(index='OverallQual', values='SalePrice', aggfunc=np.median)\n",
    "print(diagramme_qualité)"
   ]
  },
  {
   "cell_type": "markdown",
   "metadata": {
    "collapsed": true
   },
   "source": [
    "On crée un graphique a barre on note que le prix de vente médian augmente strictement avec la qualité globale."
   ]
  },
  {
   "cell_type": "code",
   "execution_count": 81,
   "metadata": {},
   "outputs": [
    {
     "data": {
      "image/png": "[encoded data removed]",
      "text/plain": [
       "<Figure size 720x432 with 1 Axes>"
      ]
     },
     "metadata": {},
     "output_type": "display_data"
    }
   ],
   "source": [
    "diagramme_qualité.plot(kind='bar', color='blue')\n",
    "plt.xlabel('Qualité général')\n",
    "plt.ylabel('Prix de vente median')\n",
    "plt.xticks(rotation=0)\n",
    "plt.show()"
   ]
  },
  {
   "cell_type": "markdown",
   "metadata": {},
   "source": [
    "On va visualiser la relation entre la surface habitable (GrLivArea) et SalePrice"
   ]
  },
  {
   "cell_type": "code",
   "execution_count": 82,
   "metadata": {},
   "outputs": [
    {
     "data": {
      "image/png": "[encoded data removed]",
      "text/plain": [
       "<Figure size 720x432 with 1 Axes>"
      ]
     },
     "metadata": {},
     "output_type": "display_data"
    }
   ],
   "source": [
    "fig, ax = plt.subplots()\n",
    "ax.scatter(x = train['GrLivArea'], y = train['SalePrice'])\n",
    "plt.ylabel('SalePrice', fontsize=13)\n",
    "plt.xlabel('GrLivArea', fontsize=13)\n",
    "plt.show()"
   ]
  },
  {
   "cell_type": "markdown",
   "metadata": {},
   "source": [
    "On remarque qu'on a des valeurs enomes a droite alors nous pouvons les supprimer .\n",
    "On supprime les outliers et on reverifie le graphe pour une autre fois "
   ]
  },
  {
   "cell_type": "code",
   "execution_count": 83,
   "metadata": {},
   "outputs": [
    {
     "data": {
      "image/png": "[encoded data removed]",
      "text/plain": [
       "<Figure size 720x432 with 1 Axes>"
      ]
     },
     "metadata": {},
     "output_type": "display_data"
    }
   ],
   "source": [
    "train = train.drop(train[(train['GrLivArea']>4000) & (train['SalePrice']<300000)].index)\n",
    "fig, ax = plt.subplots()\n",
    "ax.scatter(train['GrLivArea'], train['SalePrice'])\n",
    "plt.ylabel('SalePrice', fontsize=13)\n",
    "plt.xlabel('GrLivArea', fontsize=13)\n",
    "plt.show()"
   ]
  },
  {
   "cell_type": "markdown",
   "metadata": {},
   "source": [
    "On voit la relation entre GarageArea et Sale price cette fois ci on va travailler avec target qu'on a deja definis avec la fonction log\n"
   ]
  },
  {
   "cell_type": "code",
   "execution_count": 84,
   "metadata": {},
   "outputs": [
    {
     "data": {
      "image/png": "[encoded data removed]",
      "text/plain": [
       "<Figure size 720x432 with 1 Axes>"
      ]
     },
     "metadata": {},
     "output_type": "display_data"
    }
   ],
   "source": [
    "plt.scatter(x=train['GarageArea'], y=np.log(train.SalePrice))\n",
    "plt.ylabel('Sale Price')\n",
    "plt.xlabel('Garage Area')\n",
    "plt.show()"
   ]
  },
  {
   "cell_type": "code",
   "execution_count": 85,
   "metadata": {},
   "outputs": [
    {
     "data": {
      "image/png": "[encoded data removed]",
      "text/plain": [
       "<Figure size 720x432 with 1 Axes>"
      ]
     },
     "metadata": {},
     "output_type": "display_data"
    }
   ],
   "source": [
    "train = train[train['GarageArea'] < 1200]\n",
    "# On affiche à nouveau le graphique précédent sans les valeurs aberrantes\n",
    "plt.scatter(x=train['GarageArea'], y=np.log(train.SalePrice))\n",
    "plt.xlim(-200,1600)     \n",
    "plt.ylabel('Sale Price')\n",
    "plt.xlabel('Garage Area')\n",
    "plt.show()"
   ]
  },
  {
   "cell_type": "code",
   "execution_count": 86,
   "metadata": {},
   "outputs": [
    {
     "data": {
      "image/png": "[encoded data removed]",
      "text/plain": [
       "<Figure size 720x432 with 1 Axes>"
      ]
     },
     "metadata": {},
     "output_type": "display_data"
    }
   ],
   "source": [
    "fig, ax = plt.subplots()\n",
    "ax.scatter(x = train['LotArea'],  y=np.log(train.SalePrice))\n",
    "plt.ylabel('SalePrice', fontsize=13)\n",
    "plt.xlabel('Lotarea', fontsize=13)\n",
    "plt.show()"
   ]
  },
  {
   "cell_type": "code",
   "execution_count": 87,
   "metadata": {},
   "outputs": [
    {
     "data": {
      "image/png": "[encoded data removed]",
      "text/plain": [
       "<Figure size 720x432 with 1 Axes>"
      ]
     },
     "metadata": {},
     "output_type": "display_data"
    }
   ],
   "source": [
    "train = train.drop(train[(train['LotArea']>150000)].index)\n",
    "fig, ax = plt.subplots()\n",
    "ax.scatter(train['LotArea'], train['SalePrice'])\n",
    "plt.ylabel('SalePrice', fontsize=13)\n",
    "plt.xlabel('LotArea', fontsize=13)\n",
    "plt.show()"
   ]
  },
  {
   "cell_type": "markdown",
   "metadata": {},
   "source": [
    "Il y a probablement d'autres valeurs aberrantes dans les données. Cependant, leur suppression peut affecter gravement nos modèles si les données de test contenaient également des valeurs aberrantes. C'est pourquoi, on va pas les supprimer tous."
   ]
  },
  {
   "cell_type": "markdown",
   "metadata": {},
   "source": [
    "On vérifie SaleCondition en construisant et en traçant un tableau croisé dynamique, comme nous l’avons fait précédemment pour OverallQual"
   ]
  },
  {
   "cell_type": "code",
   "execution_count": 88,
   "metadata": {},
   "outputs": [
    {
     "data": {
      "image/png": "[encoded data removed]",
      "text/plain": [
       "<Figure size 720x432 with 1 Axes>"
      ]
     },
     "metadata": {},
     "output_type": "display_data"
    }
   ],
   "source": [
    "condition_pivot = train.pivot_table(index='SaleCondition', values='SalePrice', aggfunc=np.median)\n",
    "condition_pivot.plot(kind='bar', color='blue')\n",
    "plt.xlabel('Sale Condition')\n",
    "plt.ylabel('Median Sale Price')\n",
    "plt.xticks(rotation=0)\n",
    "plt.show()"
   ]
  },
  {
   "cell_type": "code",
   "execution_count": 89,
   "metadata": {
    "collapsed": true
   },
   "outputs": [],
   "source": [
    "data = train.select_dtypes(include=[np.number]).interpolate().dropna()"
   ]
  },
  {
   "cell_type": "code",
   "execution_count": 90,
   "metadata": {
    "collapsed": true
   },
   "outputs": [],
   "source": [
    "y = np.log(train.SalePrice)\n",
    "X = data.drop(['SalePrice'], axis=1)"
   ]
  },
  {
   "cell_type": "code",
   "execution_count": 91,
   "metadata": {
    "collapsed": true
   },
   "outputs": [],
   "source": [
    "X_train, X_test, y_train, y_test = train_test_split(X, y, random_state=42, test_size=.33)\n"
   ]
  },
  {
   "cell_type": "code",
   "execution_count": 1,
   "metadata": {
    "collapsed": true
   },
   "outputs": [],
   "source": [
    "import numpy as np\n",
    "import pandas as pd\n",
    "import datetime\n",
    "\n",
    "import random\n",
    "import matplotlib.pyplot as plt\n",
    "\n",
    "from sklearn.model_selection import GridSearchCV\n",
    "from sklearn.model_selection import KFold\n",
    "from sklearn.preprocessing import OneHotEncoder\n",
    "from sklearn.preprocessing import LabelEncoder\n",
    "from sklearn.ensemble import RandomForestRegressor\n",
    "from sklearn.ensemble import GradientBoostingRegressor\n",
    "\n",
    "from sklearn.kernel_ridge import KernelRidge\n",
    "\n",
    "from sklearn.linear_model import Ridge\n",
    "from sklearn.linear_model import Lasso\n",
    "from sklearn.linear_model import ElasticNet \n",
    "\n",
    "from sklearn.svm import SVR\n",
    "\n",
    "from sklearn.pipeline import make_pipeline\n",
    "from sklearn.preprocessing import RobustScaler\n",
    "import lightgbm as lgb\n",
    "\n",
    "from sklearn.decomposition import PCA\n",
    "from sklearn.preprocessing import scale\n",
    "\n",
    "pd.set_option('display.max_columns', None)"
   ]
  },
  {
   "cell_type": "code",
   "execution_count": 2,
   "metadata": {
    "collapsed": true
   },
   "outputs": [],
   "source": [
    "mydata = pd.read_csv('train.csv')\n",
    "\n",
    "# As suggested by many participants, we remove several outliers\n",
    "mydata.drop(mydata[(mydata['OverallQual']<5) & (mydata['SalePrice']>200000)].index, inplace=True)\n",
    "mydata.drop(mydata[(mydata['GrLivArea']>4000) & (mydata['SalePrice']<300000)].index, inplace=True)\n",
    "mydata.reset_index(drop=True, inplace=True)\n",
    "\n",
    "# Some of the non-numeric predictors are stored as numbers; we convert them into strings \n",
    "mydata['MSSubClass'] = mydata['MSSubClass'].apply(str)\n",
    "mydata['YrSold'] = mydata['YrSold'].astype(str)\n",
    "mydata['MoSold'] = mydata['MoSold'].astype(str)"
   ]
  },
  {
   "cell_type": "code",
   "execution_count": 3,
   "metadata": {
    "collapsed": true
   },
   "outputs": [],
   "source": [
    "def fill_missings(res):\n",
    "\n",
    "    res['Alley'] = res['Alley'].fillna('missing')\n",
    "    res['PoolQC'] = res['PoolQC'].fillna(res['PoolQC'].mode()[0])\n",
    "    res['MasVnrType'] = res['MasVnrType'].fillna('None')\n",
    "    res['BsmtQual'] = res['BsmtQual'].fillna(res['BsmtQual'].mode()[0])\n",
    "    res['BsmtCond'] = res['BsmtCond'].fillna(res['BsmtCond'].mode()[0])\n",
    "    res['FireplaceQu'] = res['FireplaceQu'].fillna(res['FireplaceQu'].mode()[0])\n",
    "    res['GarageType'] = res['GarageType'].fillna('missing')\n",
    "    res['GarageFinish'] = res['GarageFinish'].fillna(res['GarageFinish'].mode()[0])\n",
    "    res['GarageQual'] = res['GarageQual'].fillna(res['GarageQual'].mode()[0])\n",
    "    res['GarageCond'] = res['GarageCond'].fillna('missing')\n",
    "    res['Fence'] = res['Fence'].fillna('missing')\n",
    "    res['Street'] = res['Street'].fillna('missing')\n",
    "    res['LotShape'] = res['LotShape'].fillna('missing')\n",
    "    res['LandContour'] = res['LandContour'].fillna('missing')\n",
    "    res['BsmtExposure'] = res['BsmtExposure'].fillna(res['BsmtExposure'].mode()[0])\n",
    "    res['BsmtFinType1'] = res['BsmtFinType1'].fillna('missing')\n",
    "    res['BsmtFinType2'] = res['BsmtFinType2'].fillna('missing')\n",
    "    res['CentralAir'] = res['CentralAir'].fillna('missing')\n",
    "    res['Electrical'] = res['Electrical'].fillna(res['Electrical'].mode()[0])\n",
    "    res['MiscFeature'] = res['MiscFeature'].fillna('missing')\n",
    "    res['MSZoning'] = res['MSZoning'].fillna(res['MSZoning'].mode()[0])    \n",
    "    res['Utilities'] = res['Utilities'].fillna('missing')\n",
    "    res['Exterior1st'] = res['Exterior1st'].fillna(res['Exterior1st'].mode()[0])\n",
    "    res['Exterior2nd'] = res['Exterior2nd'].fillna(res['Exterior2nd'].mode()[0])    \n",
    "    res['KitchenQual'] = res['KitchenQual'].fillna(res['KitchenQual'].mode()[0])\n",
    "    res[\"Functional\"] = res[\"Functional\"].fillna(\"Typ\")\n",
    "    res['SaleType'] = res['SaleType'].fillna(res['SaleType'].mode()[0])\n",
    "    res['SaleCondition'] = res['SaleCondition'].fillna('missing')\n",
    "    \n",
    "    flist = ['LotFrontage','LotArea','MasVnrArea','BsmtFinSF1','BsmtFinSF2','BsmtUnfSF',\n",
    "                     'TotalBsmtSF','1stFlrSF','2ndFlrSF','LowQualFinSF','GrLivArea',\n",
    "                     'BsmtFullBath','BsmtHalfBath','FullBath','HalfBath','BedroomAbvGr','KitchenAbvGr',\n",
    "                     'TotRmsAbvGrd','Fireplaces','GarageCars','GarageArea','WoodDeckSF','OpenPorchSF',\n",
    "                     'EnclosedPorch','3SsnPorch','ScreenPorch','PoolArea','MiscVal']\n",
    "    for fl in flist:\n",
    "        res[fl] = res[fl].fillna(0)\n",
    "        \n",
    "    res['TotalBsmtSF'] = res['TotalBsmtSF'].apply(lambda x: np.exp(6) if x <= 0.0 else x)\n",
    "    res['2ndFlrSF'] = res['2ndFlrSF'].apply(lambda x: np.exp(6.5) if x <= 0.0 else x)\n",
    "    res['GarageArea'] = res['GarageArea'].apply(lambda x: np.exp(6) if x <= 0.0 else x)\n",
    "    res['GarageCars'] = res['GarageCars'].apply(lambda x: 0 if x <= 0.0 else x)\n",
    "    res['LotFrontage'] = res['LotFrontage'].apply(lambda x: np.exp(4.2) if x <= 0.0 else x)\n",
    "    res['MasVnrArea'] = res['MasVnrArea'].apply(lambda x: np.exp(4) if x <= 0.0 else x)\n",
    "    res['BsmtFinSF1'] = res['BsmtFinSF1'].apply(lambda x: np.exp(6.5) if x <= 0.0 else x)\n",
    "    \n",
    "      \n",
    "    return res"
   ]
  },
  {
   "cell_type": "code",
   "execution_count": 4,
   "metadata": {
    "collapsed": true
   },
   "outputs": [],
   "source": [
    "# Running function to fill in missings\n",
    "mydata = fill_missings(mydata)\n",
    "mydata['TotalSF'] = mydata['TotalBsmtSF'] + mydata['1stFlrSF'] + mydata['2ndFlrSF']\n",
    "\n",
    "# Working with ordinal predictors\n",
    "def QualToInt(x):\n",
    "    if(x=='Ex'):\n",
    "        r = 0\n",
    "    elif(x=='Gd'):\n",
    "        r = 1\n",
    "    elif(x=='TA'):\n",
    "        r = 2\n",
    "    elif(x=='Fa'):\n",
    "        r = 3\n",
    "    elif(x=='missing'):\n",
    "        r = 4\n",
    "    else:\n",
    "        r = 5\n",
    "    return r\n",
    "\n",
    "mydata['ExterQual'] = mydata['ExterQual'].apply(QualToInt)\n",
    "mydata['ExterCond'] = mydata['ExterCond'].apply(QualToInt)\n",
    "mydata['KitchenQual'] = mydata['KitchenQual'].apply(QualToInt)\n",
    "mydata['HeatingQC'] = mydata['HeatingQC'].apply(QualToInt)\n",
    "mydata['BsmtQual'] = mydata['BsmtQual'].apply(QualToInt)\n",
    "mydata['BsmtCond'] = mydata['BsmtCond'].apply(QualToInt)\n",
    "mydata['FireplaceQu'] = mydata['FireplaceQu'].apply(QualToInt)\n",
    "mydata['GarageQual'] = mydata['GarageQual'].apply(QualToInt)\n",
    "mydata['PoolQC'] = mydata['PoolQC'].apply(QualToInt)\n",
    "\n",
    "def SlopeToInt(x):\n",
    "    if(x=='Gtl'):\n",
    "        r = 0\n",
    "    elif(x=='Mod'):\n",
    "        r = 1\n",
    "    elif(x=='Sev'):\n",
    "        r = 2\n",
    "    else:\n",
    "        r = 3\n",
    "    return r\n",
    "\n",
    "mydata['LandSlope'] = mydata['LandSlope'].apply(SlopeToInt)\n",
    "mydata['CentralAir'] = mydata['CentralAir'].apply( lambda x: 0 if x == 'N' else 1) \n",
    "mydata['Street'] = mydata['Street'].apply( lambda x: 0 if x == 'Pave' else 1) \n",
    "mydata['PavedDrive'] = mydata['PavedDrive'].apply( lambda x: 0 if x == 'Y' else 1)\n",
    "\n",
    "def GFinishToInt(x):\n",
    "    if(x=='Fin'):\n",
    "        r = 0\n",
    "    elif(x=='RFn'):\n",
    "        r = 1\n",
    "    elif(x=='Unf'):\n",
    "        r = 2\n",
    "    else:\n",
    "        r = 3\n",
    "    return r\n",
    "\n",
    "mydata['GarageFinish'] = mydata['GarageFinish'].apply(GFinishToInt)\n",
    "\n",
    "def BsmtExposureToInt(x):\n",
    "    if(x=='Gd'):\n",
    "        r = 0\n",
    "    elif(x=='Av'):\n",
    "        r = 1\n",
    "    elif(x=='Mn'):\n",
    "        r = 2\n",
    "    elif(x=='No'):\n",
    "        r = 3\n",
    "    else:\n",
    "        r = 4\n",
    "    return r\n",
    "mydata['BsmtExposure'] = mydata['BsmtExposure'].apply(BsmtExposureToInt)\n",
    "\n",
    "def FunctionalToInt(x):\n",
    "    if(x=='Typ'):\n",
    "        r = 0\n",
    "    elif(x=='Min1'):\n",
    "        r = 1\n",
    "    elif(x=='Min2'):\n",
    "        r = 1\n",
    "    else:\n",
    "        r = 2\n",
    "    return r\n",
    "\n",
    "mydata['Functional_int'] = mydata['Functional'].apply(FunctionalToInt)\n",
    "\n",
    "\n",
    "def HouseStyleToInt(x):\n",
    "    if(x=='1.5Unf'):\n",
    "        r = 0\n",
    "    elif(x=='SFoyer'):\n",
    "        r = 1\n",
    "    elif(x=='1.5Fin'):\n",
    "        r = 2\n",
    "    elif(x=='2.5Unf'):\n",
    "        r = 3\n",
    "    elif(x=='SLvl'):\n",
    "        r = 4\n",
    "    elif(x=='1Story'):\n",
    "        r = 5\n",
    "    elif(x=='2Story'):\n",
    "        r = 6  \n",
    "    elif(x==' 2.5Fin'):\n",
    "        r = 7          \n",
    "    else:\n",
    "        r = 8\n",
    "    return r\n",
    "\n",
    "mydata['HouseStyle_int'] = mydata['HouseStyle'].apply(HouseStyleToInt)\n",
    "mydata['HouseStyle_1st'] = 1*(mydata['HouseStyle'] == '1Story')\n",
    "mydata['HouseStyle_2st'] = 1*(mydata['HouseStyle'] == '2Story')\n",
    "mydata['HouseStyle_15st'] = 1*(mydata['HouseStyle'] == '1.5Fin')\n",
    "\n",
    "def FoundationToInt(x):\n",
    "    if(x=='PConc'):\n",
    "        r = 3\n",
    "    elif(x=='CBlock'):\n",
    "        r = 2\n",
    "    elif(x=='BrkTil'):\n",
    "        r = 1        \n",
    "    else:\n",
    "        r = 0\n",
    "    return r\n",
    "\n",
    "mydata['Foundation_int'] = mydata['Foundation'].apply(FoundationToInt)\n",
    "\n",
    "def MasVnrTypeToInt(x):\n",
    "    if(x=='Stone'):\n",
    "        r = 3\n",
    "    elif(x=='BrkFace'):\n",
    "        r = 2\n",
    "    elif(x=='BrkCmn'):\n",
    "        r = 1        \n",
    "    else:\n",
    "        r = 0\n",
    "    return r\n",
    "\n",
    "mydata['MasVnrType_int'] = mydata['MasVnrType'].apply(MasVnrTypeToInt)\n",
    "\n",
    "def BsmtFinType1ToInt(x):\n",
    "    if(x=='GLQ'):\n",
    "        r = 6\n",
    "    elif(x=='ALQ'):\n",
    "        r = 5\n",
    "    elif(x=='BLQ'):\n",
    "        r = 4\n",
    "    elif(x=='Rec'):\n",
    "        r = 3   \n",
    "    elif(x=='LwQ'):\n",
    "        r = 2\n",
    "    elif(x=='Unf'):\n",
    "        r = 1        \n",
    "    else:\n",
    "        r = 0\n",
    "    return r\n",
    "\n",
    "mydata['BsmtFinType1_int'] = mydata['BsmtFinType1'].apply(BsmtFinType1ToInt)\n",
    "mydata['BsmtFinType1_Unf'] = 1*(mydata['BsmtFinType1'] == 'Unf')\n",
    "mydata['HasWoodDeck'] = (mydata['WoodDeckSF'] == 0) * 1\n",
    "mydata['HasOpenPorch'] = (mydata['OpenPorchSF'] == 0) * 1\n",
    "mydata['HasEnclosedPorch'] = (mydata['EnclosedPorch'] == 0) * 1\n",
    "mydata['Has3SsnPorch'] = (mydata['3SsnPorch'] == 0) * 1\n",
    "mydata['HasScreenPorch'] = (mydata['ScreenPorch'] == 0) * 1\n",
    "mydata['YearsSinceRemodel'] = mydata['YrSold'].astype(int) - mydata['YearRemodAdd'].astype(int)\n",
    "mydata['Total_Home_Quality'] = mydata['OverallQual'] + mydata['OverallCond']"
   ]
  },
  {
   "cell_type": "code",
   "execution_count": 5,
   "metadata": {
    "collapsed": true
   },
   "outputs": [],
   "source": [
    "def addlogs(res, ls):\n",
    "    m = res.shape[1]\n",
    "    for l in ls:\n",
    "        res = res.assign(newcol=pd.Series(np.log(1.01+res[l])).values)   \n",
    "        res.columns.values[m] = l + '_log'\n",
    "        m += 1\n",
    "    return res\n",
    "\n",
    "loglist = ['LotFrontage','LotArea','MasVnrArea','BsmtFinSF1','BsmtFinSF2','BsmtUnfSF',\n",
    "                 'TotalBsmtSF','1stFlrSF','2ndFlrSF','LowQualFinSF','GrLivArea',\n",
    "                 'BsmtFullBath','BsmtHalfBath','FullBath','HalfBath','BedroomAbvGr','KitchenAbvGr',\n",
    "                 'TotRmsAbvGrd','Fireplaces','GarageCars','GarageArea','WoodDeckSF','OpenPorchSF',\n",
    "                 'EnclosedPorch','3SsnPorch','ScreenPorch','PoolArea','MiscVal','YearRemodAdd','TotalSF']\n",
    "\n",
    "mydata = addlogs(mydata, loglist)"
   ]
  },
  {
   "cell_type": "code",
   "execution_count": 6,
   "metadata": {},
   "outputs": [
    {
     "name": "stderr",
     "output_type": "stream",
     "text": [
      "C:\\Users\\ok\\Anaconda3\\lib\\site-packages\\sklearn\\preprocessing\\_encoders.py:363: FutureWarning: The handling of integer data will change in version 0.22. Currently, the categories are determined based on the range [0, max(values)], while in the future they will be determined based on the unique values.\n",
      "If you want the future behaviour and silence this warning, you can specify \"categories='auto'\".\n",
      "In case you used a LabelEncoder before this OneHotEncoder to convert the categories to integers, then you can now use the OneHotEncoder directly.\n",
      "  warnings.warn(msg, FutureWarning)\n",
      "C:\\Users\\ok\\Anaconda3\\lib\\site-packages\\sklearn\\preprocessing\\_encoders.py:363: FutureWarning: The handling of integer data will change in version 0.22. Currently, the categories are determined based on the range [0, max(values)], while in the future they will be determined based on the unique values.\n",
      "If you want the future behaviour and silence this warning, you can specify \"categories='auto'\".\n",
      "In case you used a LabelEncoder before this OneHotEncoder to convert the categories to integers, then you can now use the OneHotEncoder directly.\n",
      "  warnings.warn(msg, FutureWarning)\n",
      "C:\\Users\\ok\\Anaconda3\\lib\\site-packages\\sklearn\\preprocessing\\_encoders.py:363: FutureWarning: The handling of integer data will change in version 0.22. Currently, the categories are determined based on the range [0, max(values)], while in the future they will be determined based on the unique values.\n",
      "If you want the future behaviour and silence this warning, you can specify \"categories='auto'\".\n",
      "In case you used a LabelEncoder before this OneHotEncoder to convert the categories to integers, then you can now use the OneHotEncoder directly.\n",
      "  warnings.warn(msg, FutureWarning)\n",
      "C:\\Users\\ok\\Anaconda3\\lib\\site-packages\\sklearn\\preprocessing\\_encoders.py:363: FutureWarning: The handling of integer data will change in version 0.22. Currently, the categories are determined based on the range [0, max(values)], while in the future they will be determined based on the unique values.\n",
      "If you want the future behaviour and silence this warning, you can specify \"categories='auto'\".\n",
      "In case you used a LabelEncoder before this OneHotEncoder to convert the categories to integers, then you can now use the OneHotEncoder directly.\n",
      "  warnings.warn(msg, FutureWarning)\n",
      "C:\\Users\\ok\\Anaconda3\\lib\\site-packages\\sklearn\\preprocessing\\_encoders.py:363: FutureWarning: The handling of integer data will change in version 0.22. Currently, the categories are determined based on the range [0, max(values)], while in the future they will be determined based on the unique values.\n",
      "If you want the future behaviour and silence this warning, you can specify \"categories='auto'\".\n",
      "In case you used a LabelEncoder before this OneHotEncoder to convert the categories to integers, then you can now use the OneHotEncoder directly.\n",
      "  warnings.warn(msg, FutureWarning)\n",
      "C:\\Users\\ok\\Anaconda3\\lib\\site-packages\\sklearn\\preprocessing\\_encoders.py:363: FutureWarning: The handling of integer data will change in version 0.22. Currently, the categories are determined based on the range [0, max(values)], while in the future they will be determined based on the unique values.\n",
      "If you want the future behaviour and silence this warning, you can specify \"categories='auto'\".\n",
      "In case you used a LabelEncoder before this OneHotEncoder to convert the categories to integers, then you can now use the OneHotEncoder directly.\n",
      "  warnings.warn(msg, FutureWarning)\n",
      "C:\\Users\\ok\\Anaconda3\\lib\\site-packages\\sklearn\\preprocessing\\_encoders.py:363: FutureWarning: The handling of integer data will change in version 0.22. Currently, the categories are determined based on the range [0, max(values)], while in the future they will be determined based on the unique values.\n",
      "If you want the future behaviour and silence this warning, you can specify \"categories='auto'\".\n",
      "In case you used a LabelEncoder before this OneHotEncoder to convert the categories to integers, then you can now use the OneHotEncoder directly.\n",
      "  warnings.warn(msg, FutureWarning)\n",
      "C:\\Users\\ok\\Anaconda3\\lib\\site-packages\\sklearn\\preprocessing\\_encoders.py:363: FutureWarning: The handling of integer data will change in version 0.22. Currently, the categories are determined based on the range [0, max(values)], while in the future they will be determined based on the unique values.\n",
      "If you want the future behaviour and silence this warning, you can specify \"categories='auto'\".\n",
      "In case you used a LabelEncoder before this OneHotEncoder to convert the categories to integers, then you can now use the OneHotEncoder directly.\n",
      "  warnings.warn(msg, FutureWarning)\n",
      "C:\\Users\\ok\\Anaconda3\\lib\\site-packages\\sklearn\\preprocessing\\_encoders.py:363: FutureWarning: The handling of integer data will change in version 0.22. Currently, the categories are determined based on the range [0, max(values)], while in the future they will be determined based on the unique values.\n",
      "If you want the future behaviour and silence this warning, you can specify \"categories='auto'\".\n",
      "In case you used a LabelEncoder before this OneHotEncoder to convert the categories to integers, then you can now use the OneHotEncoder directly.\n",
      "  warnings.warn(msg, FutureWarning)\n",
      "C:\\Users\\ok\\Anaconda3\\lib\\site-packages\\sklearn\\preprocessing\\_encoders.py:363: FutureWarning: The handling of integer data will change in version 0.22. Currently, the categories are determined based on the range [0, max(values)], while in the future they will be determined based on the unique values.\n",
      "If you want the future behaviour and silence this warning, you can specify \"categories='auto'\".\n",
      "In case you used a LabelEncoder before this OneHotEncoder to convert the categories to integers, then you can now use the OneHotEncoder directly.\n",
      "  warnings.warn(msg, FutureWarning)\n",
      "C:\\Users\\ok\\Anaconda3\\lib\\site-packages\\sklearn\\preprocessing\\_encoders.py:363: FutureWarning: The handling of integer data will change in version 0.22. Currently, the categories are determined based on the range [0, max(values)], while in the future they will be determined based on the unique values.\n",
      "If you want the future behaviour and silence this warning, you can specify \"categories='auto'\".\n",
      "In case you used a LabelEncoder before this OneHotEncoder to convert the categories to integers, then you can now use the OneHotEncoder directly.\n",
      "  warnings.warn(msg, FutureWarning)\n",
      "C:\\Users\\ok\\Anaconda3\\lib\\site-packages\\sklearn\\preprocessing\\_encoders.py:363: FutureWarning: The handling of integer data will change in version 0.22. Currently, the categories are determined based on the range [0, max(values)], while in the future they will be determined based on the unique values.\n",
      "If you want the future behaviour and silence this warning, you can specify \"categories='auto'\".\n",
      "In case you used a LabelEncoder before this OneHotEncoder to convert the categories to integers, then you can now use the OneHotEncoder directly.\n",
      "  warnings.warn(msg, FutureWarning)\n",
      "C:\\Users\\ok\\Anaconda3\\lib\\site-packages\\sklearn\\preprocessing\\_encoders.py:363: FutureWarning: The handling of integer data will change in version 0.22. Currently, the categories are determined based on the range [0, max(values)], while in the future they will be determined based on the unique values.\n",
      "If you want the future behaviour and silence this warning, you can specify \"categories='auto'\".\n",
      "In case you used a LabelEncoder before this OneHotEncoder to convert the categories to integers, then you can now use the OneHotEncoder directly.\n",
      "  warnings.warn(msg, FutureWarning)\n",
      "C:\\Users\\ok\\Anaconda3\\lib\\site-packages\\sklearn\\preprocessing\\_encoders.py:363: FutureWarning: The handling of integer data will change in version 0.22. Currently, the categories are determined based on the range [0, max(values)], while in the future they will be determined based on the unique values.\n",
      "If you want the future behaviour and silence this warning, you can specify \"categories='auto'\".\n",
      "In case you used a LabelEncoder before this OneHotEncoder to convert the categories to integers, then you can now use the OneHotEncoder directly.\n",
      "  warnings.warn(msg, FutureWarning)\n",
      "C:\\Users\\ok\\Anaconda3\\lib\\site-packages\\sklearn\\preprocessing\\_encoders.py:363: FutureWarning: The handling of integer data will change in version 0.22. Currently, the categories are determined based on the range [0, max(values)], while in the future they will be determined based on the unique values.\n",
      "If you want the future behaviour and silence this warning, you can specify \"categories='auto'\".\n",
      "In case you used a LabelEncoder before this OneHotEncoder to convert the categories to integers, then you can now use the OneHotEncoder directly.\n",
      "  warnings.warn(msg, FutureWarning)\n",
      "C:\\Users\\ok\\Anaconda3\\lib\\site-packages\\sklearn\\preprocessing\\_encoders.py:363: FutureWarning: The handling of integer data will change in version 0.22. Currently, the categories are determined based on the range [0, max(values)], while in the future they will be determined based on the unique values.\n",
      "If you want the future behaviour and silence this warning, you can specify \"categories='auto'\".\n",
      "In case you used a LabelEncoder before this OneHotEncoder to convert the categories to integers, then you can now use the OneHotEncoder directly.\n",
      "  warnings.warn(msg, FutureWarning)\n",
      "C:\\Users\\ok\\Anaconda3\\lib\\site-packages\\sklearn\\preprocessing\\_encoders.py:363: FutureWarning: The handling of integer data will change in version 0.22. Currently, the categories are determined based on the range [0, max(values)], while in the future they will be determined based on the unique values.\n",
      "If you want the future behaviour and silence this warning, you can specify \"categories='auto'\".\n",
      "In case you used a LabelEncoder before this OneHotEncoder to convert the categories to integers, then you can now use the OneHotEncoder directly.\n",
      "  warnings.warn(msg, FutureWarning)\n",
      "C:\\Users\\ok\\Anaconda3\\lib\\site-packages\\sklearn\\preprocessing\\_encoders.py:363: FutureWarning: The handling of integer data will change in version 0.22. Currently, the categories are determined based on the range [0, max(values)], while in the future they will be determined based on the unique values.\n",
      "If you want the future behaviour and silence this warning, you can specify \"categories='auto'\".\n",
      "In case you used a LabelEncoder before this OneHotEncoder to convert the categories to integers, then you can now use the OneHotEncoder directly.\n",
      "  warnings.warn(msg, FutureWarning)\n",
      "C:\\Users\\ok\\Anaconda3\\lib\\site-packages\\sklearn\\preprocessing\\_encoders.py:363: FutureWarning: The handling of integer data will change in version 0.22. Currently, the categories are determined based on the range [0, max(values)], while in the future they will be determined based on the unique values.\n",
      "If you want the future behaviour and silence this warning, you can specify \"categories='auto'\".\n",
      "In case you used a LabelEncoder before this OneHotEncoder to convert the categories to integers, then you can now use the OneHotEncoder directly.\n",
      "  warnings.warn(msg, FutureWarning)\n",
      "C:\\Users\\ok\\Anaconda3\\lib\\site-packages\\sklearn\\preprocessing\\_encoders.py:363: FutureWarning: The handling of integer data will change in version 0.22. Currently, the categories are determined based on the range [0, max(values)], while in the future they will be determined based on the unique values.\n",
      "If you want the future behaviour and silence this warning, you can specify \"categories='auto'\".\n",
      "In case you used a LabelEncoder before this OneHotEncoder to convert the categories to integers, then you can now use the OneHotEncoder directly.\n",
      "  warnings.warn(msg, FutureWarning)\n",
      "C:\\Users\\ok\\Anaconda3\\lib\\site-packages\\sklearn\\preprocessing\\_encoders.py:363: FutureWarning: The handling of integer data will change in version 0.22. Currently, the categories are determined based on the range [0, max(values)], while in the future they will be determined based on the unique values.\n",
      "If you want the future behaviour and silence this warning, you can specify \"categories='auto'\".\n",
      "In case you used a LabelEncoder before this OneHotEncoder to convert the categories to integers, then you can now use the OneHotEncoder directly.\n",
      "  warnings.warn(msg, FutureWarning)\n",
      "C:\\Users\\ok\\Anaconda3\\lib\\site-packages\\sklearn\\preprocessing\\_encoders.py:363: FutureWarning: The handling of integer data will change in version 0.22. Currently, the categories are determined based on the range [0, max(values)], while in the future they will be determined based on the unique values.\n",
      "If you want the future behaviour and silence this warning, you can specify \"categories='auto'\".\n",
      "In case you used a LabelEncoder before this OneHotEncoder to convert the categories to integers, then you can now use the OneHotEncoder directly.\n",
      "  warnings.warn(msg, FutureWarning)\n",
      "C:\\Users\\ok\\Anaconda3\\lib\\site-packages\\sklearn\\preprocessing\\_encoders.py:363: FutureWarning: The handling of integer data will change in version 0.22. Currently, the categories are determined based on the range [0, max(values)], while in the future they will be determined based on the unique values.\n",
      "If you want the future behaviour and silence this warning, you can specify \"categories='auto'\".\n",
      "In case you used a LabelEncoder before this OneHotEncoder to convert the categories to integers, then you can now use the OneHotEncoder directly.\n",
      "  warnings.warn(msg, FutureWarning)\n",
      "C:\\Users\\ok\\Anaconda3\\lib\\site-packages\\sklearn\\preprocessing\\_encoders.py:363: FutureWarning: The handling of integer data will change in version 0.22. Currently, the categories are determined based on the range [0, max(values)], while in the future they will be determined based on the unique values.\n",
      "If you want the future behaviour and silence this warning, you can specify \"categories='auto'\".\n",
      "In case you used a LabelEncoder before this OneHotEncoder to convert the categories to integers, then you can now use the OneHotEncoder directly.\n",
      "  warnings.warn(msg, FutureWarning)\n",
      "C:\\Users\\ok\\Anaconda3\\lib\\site-packages\\sklearn\\preprocessing\\_encoders.py:363: FutureWarning: The handling of integer data will change in version 0.22. Currently, the categories are determined based on the range [0, max(values)], while in the future they will be determined based on the unique values.\n",
      "If you want the future behaviour and silence this warning, you can specify \"categories='auto'\".\n",
      "In case you used a LabelEncoder before this OneHotEncoder to convert the categories to integers, then you can now use the OneHotEncoder directly.\n",
      "  warnings.warn(msg, FutureWarning)\n",
      "C:\\Users\\ok\\Anaconda3\\lib\\site-packages\\sklearn\\preprocessing\\_encoders.py:363: FutureWarning: The handling of integer data will change in version 0.22. Currently, the categories are determined based on the range [0, max(values)], while in the future they will be determined based on the unique values.\n",
      "If you want the future behaviour and silence this warning, you can specify \"categories='auto'\".\n",
      "In case you used a LabelEncoder before this OneHotEncoder to convert the categories to integers, then you can now use the OneHotEncoder directly.\n",
      "  warnings.warn(msg, FutureWarning)\n",
      "C:\\Users\\ok\\Anaconda3\\lib\\site-packages\\sklearn\\preprocessing\\_encoders.py:363: FutureWarning: The handling of integer data will change in version 0.22. Currently, the categories are determined based on the range [0, max(values)], while in the future they will be determined based on the unique values.\n",
      "If you want the future behaviour and silence this warning, you can specify \"categories='auto'\".\n",
      "In case you used a LabelEncoder before this OneHotEncoder to convert the categories to integers, then you can now use the OneHotEncoder directly.\n",
      "  warnings.warn(msg, FutureWarning)\n"
     ]
    },
    {
     "name": "stderr",
     "output_type": "stream",
     "text": [
      "C:\\Users\\ok\\Anaconda3\\lib\\site-packages\\sklearn\\preprocessing\\_encoders.py:363: FutureWarning: The handling of integer data will change in version 0.22. Currently, the categories are determined based on the range [0, max(values)], while in the future they will be determined based on the unique values.\n",
      "If you want the future behaviour and silence this warning, you can specify \"categories='auto'\".\n",
      "In case you used a LabelEncoder before this OneHotEncoder to convert the categories to integers, then you can now use the OneHotEncoder directly.\n",
      "  warnings.warn(msg, FutureWarning)\n",
      "C:\\Users\\ok\\Anaconda3\\lib\\site-packages\\sklearn\\preprocessing\\_encoders.py:363: FutureWarning: The handling of integer data will change in version 0.22. Currently, the categories are determined based on the range [0, max(values)], while in the future they will be determined based on the unique values.\n",
      "If you want the future behaviour and silence this warning, you can specify \"categories='auto'\".\n",
      "In case you used a LabelEncoder before this OneHotEncoder to convert the categories to integers, then you can now use the OneHotEncoder directly.\n",
      "  warnings.warn(msg, FutureWarning)\n",
      "C:\\Users\\ok\\Anaconda3\\lib\\site-packages\\sklearn\\preprocessing\\_encoders.py:363: FutureWarning: The handling of integer data will change in version 0.22. Currently, the categories are determined based on the range [0, max(values)], while in the future they will be determined based on the unique values.\n",
      "If you want the future behaviour and silence this warning, you can specify \"categories='auto'\".\n",
      "In case you used a LabelEncoder before this OneHotEncoder to convert the categories to integers, then you can now use the OneHotEncoder directly.\n",
      "  warnings.warn(msg, FutureWarning)\n",
      "C:\\Users\\ok\\Anaconda3\\lib\\site-packages\\sklearn\\preprocessing\\_encoders.py:363: FutureWarning: The handling of integer data will change in version 0.22. Currently, the categories are determined based on the range [0, max(values)], while in the future they will be determined based on the unique values.\n",
      "If you want the future behaviour and silence this warning, you can specify \"categories='auto'\".\n",
      "In case you used a LabelEncoder before this OneHotEncoder to convert the categories to integers, then you can now use the OneHotEncoder directly.\n",
      "  warnings.warn(msg, FutureWarning)\n",
      "C:\\Users\\ok\\Anaconda3\\lib\\site-packages\\sklearn\\preprocessing\\_encoders.py:363: FutureWarning: The handling of integer data will change in version 0.22. Currently, the categories are determined based on the range [0, max(values)], while in the future they will be determined based on the unique values.\n",
      "If you want the future behaviour and silence this warning, you can specify \"categories='auto'\".\n",
      "In case you used a LabelEncoder before this OneHotEncoder to convert the categories to integers, then you can now use the OneHotEncoder directly.\n",
      "  warnings.warn(msg, FutureWarning)\n",
      "C:\\Users\\ok\\Anaconda3\\lib\\site-packages\\sklearn\\preprocessing\\_encoders.py:363: FutureWarning: The handling of integer data will change in version 0.22. Currently, the categories are determined based on the range [0, max(values)], while in the future they will be determined based on the unique values.\n",
      "If you want the future behaviour and silence this warning, you can specify \"categories='auto'\".\n",
      "In case you used a LabelEncoder before this OneHotEncoder to convert the categories to integers, then you can now use the OneHotEncoder directly.\n",
      "  warnings.warn(msg, FutureWarning)\n",
      "C:\\Users\\ok\\Anaconda3\\lib\\site-packages\\sklearn\\preprocessing\\_encoders.py:363: FutureWarning: The handling of integer data will change in version 0.22. Currently, the categories are determined based on the range [0, max(values)], while in the future they will be determined based on the unique values.\n",
      "If you want the future behaviour and silence this warning, you can specify \"categories='auto'\".\n",
      "In case you used a LabelEncoder before this OneHotEncoder to convert the categories to integers, then you can now use the OneHotEncoder directly.\n",
      "  warnings.warn(msg, FutureWarning)\n"
     ]
    }
   ],
   "source": [
    "def getdummies(res, ls):\n",
    "    def encode(encode_df):\n",
    "        encode_df = np.array(encode_df)\n",
    "        enc = OneHotEncoder()\n",
    "        le = LabelEncoder()\n",
    "        le.fit(encode_df)\n",
    "        res1 = le.transform(encode_df).reshape(-1, 1)\n",
    "        enc.fit(res1)\n",
    "        return pd.DataFrame(enc.transform(res1).toarray()), le, enc\n",
    "\n",
    "    decoder = []\n",
    "    outres = pd.DataFrame({'A' : []})\n",
    "\n",
    "    for l in ls:\n",
    "        cat, le, enc = encode(res[l])\n",
    "        cat.columns = [l+str(x) for x in cat.columns]\n",
    "        outres.reset_index(drop=True, inplace=True)\n",
    "        outres = pd.concat([outres, cat], axis = 1)\n",
    "        decoder.append([le,enc])     \n",
    "    \n",
    "    return (outres, decoder)\n",
    "catpredlist = ['MSSubClass','MSZoning','LotShape','LandContour','LotConfig',\n",
    "               'Neighborhood','Condition1','Condition2','BldgType',\n",
    "               'RoofStyle','RoofMatl','Exterior1st','Exterior2nd',\n",
    "               'BsmtFinType2','Heating','HouseStyle','Foundation','MasVnrType','BsmtFinType1',\n",
    "               'Electrical','Functional','GarageType','Alley','Utilities',\n",
    "               'GarageCond','Fence','MiscFeature','SaleType','SaleCondition','LandSlope','CentralAir',\n",
    "               'GarageFinish','BsmtExposure','Street']\n",
    "\n",
    "# Applying function to get dummies\n",
    "# Saving decoder - function which can be used to transform new data  \n",
    "res = getdummies(mydata[catpredlist],catpredlist)\n",
    "df = res[0]\n",
    "decoder = res[1]\n",
    "\n",
    "# Adding real valued features\n",
    "floatpredlist = ['LotFrontage_log',\n",
    "                 'LotArea_log',\n",
    "                 'MasVnrArea_log','BsmtFinSF1_log','BsmtFinSF2_log','BsmtUnfSF_log',\n",
    "                 'TotalBsmtSF_log','1stFlrSF_log','2ndFlrSF_log','LowQualFinSF_log','GrLivArea_log',\n",
    "                 'BsmtFullBath_log','BsmtHalfBath_log','FullBath_log','HalfBath_log','BedroomAbvGr_log','KitchenAbvGr_log',\n",
    "                 'TotRmsAbvGrd_log','Fireplaces_log','GarageCars_log','GarageArea_log',\n",
    "                 'PoolArea_log','MiscVal_log',\n",
    "                 'YearRemodAdd','TotalSF_log','OverallQual','OverallCond','ExterQual','ExterCond','KitchenQual',\n",
    "                 'HeatingQC','BsmtQual','BsmtCond','FireplaceQu','GarageQual','PoolQC','PavedDrive',\n",
    "                 'HasWoodDeck', 'HasOpenPorch','HasEnclosedPorch', 'Has3SsnPorch', 'HasScreenPorch']\n",
    "df = pd.concat([df,mydata[floatpredlist]],axis=1)"
   ]
  },
  {
   "cell_type": "code",
   "execution_count": 7,
   "metadata": {
    "collapsed": true
   },
   "outputs": [],
   "source": [
    "def addSquared(res, ls):\n",
    "    m = res.shape[1]\n",
    "    for l in ls:\n",
    "        res = res.assign(newcol=pd.Series(res[l]*res[l]).values)   \n",
    "        res.columns.values[m] = l + '_sq'\n",
    "        m += 1\n",
    "    return res \n",
    "\n",
    "sqpredlist = ['YearRemodAdd', 'LotFrontage_log', \n",
    "              'TotalBsmtSF_log', '1stFlrSF_log', '2ndFlrSF_log', 'GrLivArea_log',\n",
    "              'GarageCars_log', 'GarageArea_log',\n",
    "              'OverallQual','ExterQual','BsmtQual','GarageQual','FireplaceQu','KitchenQual']\n",
    "df = addSquared(df, sqpredlist)"
   ]
  },
  {
   "cell_type": "code",
   "execution_count": 8,
   "metadata": {
    "collapsed": true
   },
   "outputs": [],
   "source": [
    "X = np.array(df)\n",
    "X = np.delete(X, 0, axis=1)\n",
    "y = np.log(1+np.array(mydata['SalePrice']))"
   ]
  },
  {
   "cell_type": "code",
   "execution_count": 9,
   "metadata": {},
   "outputs": [
    {
     "name": "stdout",
     "output_type": "stream",
     "text": [
      "fold:  1\n",
      "fold:  2\n"
     ]
    },
    {
     "name": "stderr",
     "output_type": "stream",
     "text": [
      "C:\\Users\\ok\\Anaconda3\\lib\\site-packages\\sklearn\\linear_model\\coordinate_descent.py:491: ConvergenceWarning: Objective did not converge. You might want to increase the number of iterations. Fitting data with very small alpha may cause precision problems.\n",
      "  ConvergenceWarning)\n"
     ]
    },
    {
     "name": "stdout",
     "output_type": "stream",
     "text": [
      "fold:  3\n",
      "fold:  4\n",
      "fold:  5\n",
      "fold:  6\n",
      "fold:  7\n",
      "fold:  8\n"
     ]
    },
    {
     "name": "stderr",
     "output_type": "stream",
     "text": [
      "C:\\Users\\ok\\Anaconda3\\lib\\site-packages\\sklearn\\linear_model\\coordinate_descent.py:491: ConvergenceWarning: Objective did not converge. You might want to increase the number of iterations. Fitting data with very small alpha may cause precision problems.\n",
      "  ConvergenceWarning)\n"
     ]
    },
    {
     "name": "stdout",
     "output_type": "stream",
     "text": [
      "fold:  9\n",
      "fold:  10\n"
     ]
    },
    {
     "name": "stderr",
     "output_type": "stream",
     "text": [
      "C:\\Users\\ok\\Anaconda3\\lib\\site-packages\\sklearn\\linear_model\\coordinate_descent.py:491: ConvergenceWarning: Objective did not converge. You might want to increase the number of iterations. Fitting data with very small alpha may cause precision problems.\n",
      "  ConvergenceWarning)\n"
     ]
    },
    {
     "name": "stdout",
     "output_type": "stream",
     "text": [
      "fold:  11\n",
      "fold:  12\n",
      "fold:  13\n",
      "fold:  14\n"
     ]
    },
    {
     "name": "stderr",
     "output_type": "stream",
     "text": [
      "C:\\Users\\ok\\Anaconda3\\lib\\site-packages\\sklearn\\linear_model\\coordinate_descent.py:491: ConvergenceWarning: Objective did not converge. You might want to increase the number of iterations. Fitting data with very small alpha may cause precision problems.\n",
      "  ConvergenceWarning)\n"
     ]
    },
    {
     "name": "stdout",
     "output_type": "stream",
     "text": [
      "fold:  15\n",
      "fold:  16\n",
      "fold:  17\n",
      "fold:  18\n"
     ]
    },
    {
     "name": "stderr",
     "output_type": "stream",
     "text": [
      "C:\\Users\\ok\\Anaconda3\\lib\\site-packages\\sklearn\\linear_model\\coordinate_descent.py:491: ConvergenceWarning: Objective did not converge. You might want to increase the number of iterations. Fitting data with very small alpha may cause precision problems.\n",
      "  ConvergenceWarning)\n"
     ]
    },
    {
     "name": "stdout",
     "output_type": "stream",
     "text": [
      "fold:  19\n",
      "fold:  20\n"
     ]
    }
   ],
   "source": [
    "nF = 20\n",
    "\n",
    "kf = KFold(n_splits=nF, random_state=241, shuffle=True)\n",
    "\n",
    "test_errors_l2 = []\n",
    "train_errors_l2 = []\n",
    "test_errors_l1 = []\n",
    "train_errors_l1 = []\n",
    "test_errors_GBR = []\n",
    "train_errors_GBR = []\n",
    "test_errors_ENet = []\n",
    "test_errors_LGB = []\n",
    "test_errors_stack = []\n",
    "test_errors_ens = []\n",
    "train_errors_ens = []\n",
    "\n",
    "models = []\n",
    "\n",
    "pred_all = []\n",
    "\n",
    "ifold = 1\n",
    "\n",
    "for train_index, test_index in kf.split(X):\n",
    "    print('fold: ',ifold)\n",
    "    ifold = ifold + 1\n",
    "    X_train, X_test = X[train_index], X[test_index]\n",
    "    y_train, y_test = y[train_index], y[test_index]\n",
    "    \n",
    "    # ridge\n",
    "    l2Regr = Ridge(alpha=9.0, fit_intercept = True)\n",
    "    l2Regr.fit(X_train, y_train)\n",
    "    pred_train_l2 = l2Regr.predict(X_train)\n",
    "    pred_test_l2 = l2Regr.predict(X_test)\n",
    "    \n",
    "    # lasso\n",
    "    l1Regr = make_pipeline(RobustScaler(), Lasso(alpha = 0.0003, random_state=1, max_iter=50000))\n",
    "    l1Regr.fit(X_train, y_train)\n",
    "    pred_train_l1 = l1Regr.predict(X_train)\n",
    "    pred_test_l1 = l1Regr.predict(X_test)\n",
    "    \n",
    "    # GBR      \n",
    "    myGBR = GradientBoostingRegressor(n_estimators=3000, learning_rate=0.02,\n",
    "                                      max_depth=4, max_features='sqrt',\n",
    "                                      min_samples_leaf=15, min_samples_split=50,\n",
    "                                      loss='huber', random_state = 5) \n",
    "    \n",
    "    myGBR.fit(X_train,y_train)\n",
    "    pred_train_GBR = myGBR.predict(X_train)\n",
    "    pred_test_GBR = myGBR.predict(X_test)\n",
    "    \n",
    "    # ENet\n",
    "    ENet = make_pipeline(RobustScaler(), ElasticNet(alpha=4.0, l1_ratio=0.005, random_state=3))\n",
    "    ENet.fit(X_train, y_train)\n",
    "    pred_train_ENet = ENet.predict(X_train)\n",
    "    pred_test_ENet = ENet.predict(X_test) \n",
    "    \n",
    "    # LGB\n",
    "    myLGB = lgb.LGBMRegressor(objective='regression',num_leaves=5,\n",
    "                              learning_rate=0.05, n_estimators=600,\n",
    "                              max_bin = 50, bagging_fraction = 0.6,\n",
    "                              bagging_freq = 5, feature_fraction = 0.25,\n",
    "                              feature_fraction_seed=9, bagging_seed=9,\n",
    "                              min_data_in_leaf = 6, min_sum_hessian_in_leaf = 11)\n",
    "    myLGB.fit(X_train, y_train)\n",
    "    pred_train_LGB = myLGB.predict(X_train)\n",
    "    pred_test_LGB = myLGB.predict(X_test)      \n",
    "    \n",
    "    # Stacking\n",
    "    stackedset = pd.DataFrame({'A' : []})\n",
    "    stackedset = pd.concat([stackedset,pd.DataFrame(pred_test_l2)],axis=1)\n",
    "    stackedset = pd.concat([stackedset,pd.DataFrame(pred_test_l1)],axis=1)\n",
    "    stackedset = pd.concat([stackedset,pd.DataFrame(pred_test_GBR)],axis=1)\n",
    "    stackedset = pd.concat([stackedset,pd.DataFrame(pred_test_ENet)],axis=1)\n",
    "    stackedset = pd.concat([stackedset,pd.DataFrame(pred_test_LGB)],axis=1)\n",
    "    prod = (pred_test_l2*pred_test_l1*pred_test_GBR*pred_test_ENet*pred_test_LGB) ** (1.0/5.0)\n",
    "    stackedset = pd.concat([stackedset,pd.DataFrame(prod)],axis=1)\n",
    "    Xstack = np.array(stackedset)\n",
    "    Xstack = np.delete(Xstack, 0, axis=1)\n",
    "    l1_staked = Lasso(alpha = 0.0001,fit_intercept = True)\n",
    "    l1_staked.fit(Xstack, y_test)\n",
    "    pred_test_stack = l1_staked.predict(Xstack)\n",
    "    \n",
    "    models.append([l2Regr,l1Regr,myGBR,ENet,myLGB,l1_staked])\n",
    "    \n",
    "    test_errors_l2.append(np.square(pred_test_l2 - y_test).mean() ** 0.5)\n",
    "    test_errors_l1.append(np.square(pred_test_l1 - y_test).mean() ** 0.5)\n",
    "    test_errors_GBR.append(np.square(pred_test_GBR - y_test).mean() ** 0.5)\n",
    "    test_errors_ENet.append(np.square(pred_test_ENet - y_test).mean() ** 0.5)\n",
    "    test_errors_LGB.append(np.square(pred_test_LGB - y_test).mean() ** 0.5)\n",
    "    test_errors_stack.append(np.square(pred_test_stack - y_test).mean() ** 0.5)  \n",
    "    "
   ]
  },
  {
   "cell_type": "code",
   "execution_count": 10,
   "metadata": {},
   "outputs": [
    {
     "name": "stdout",
     "output_type": "stream",
     "text": [
      "0.10914198827966903\n",
      "0.10890105888453805\n",
      "0.11083814784431376\n",
      "0.21631250938730026\n",
      "0.11658068641611444\n",
      "0.0980558610995099\n"
     ]
    }
   ],
   "source": [
    "print(np.mean(test_errors_l2))\n",
    "print(np.mean(test_errors_l1))\n",
    "print(np.mean(test_errors_GBR))\n",
    "print(np.mean(test_errors_ENet))\n",
    "print(np.mean(test_errors_LGB))\n",
    "print(np.mean(test_errors_stack))"
   ]
  },
  {
   "cell_type": "code",
   "execution_count": 11,
   "metadata": {
    "collapsed": true
   },
   "outputs": [],
   "source": [
    "# reading data\n",
    "scoredata = pd.read_csv('test.csv')\n",
    "\n",
    "scoredata['MSSubClass'] = scoredata['MSSubClass'].apply(str)\n",
    "scoredata['YrSold'] = scoredata['YrSold'].astype(str)\n",
    "scoredata['MoSold'] = scoredata['MoSold'].astype(str)"
   ]
  },
  {
   "cell_type": "code",
   "execution_count": 12,
   "metadata": {
    "collapsed": true
   },
   "outputs": [],
   "source": [
    "scoredata = fill_missings(scoredata)\n",
    "\n",
    "scoredata['ExterQual'] = scoredata['ExterQual'].apply(QualToInt)\n",
    "scoredata['ExterCond'] = scoredata['ExterCond'].apply(QualToInt)\n",
    "scoredata['KitchenQual'] = scoredata['KitchenQual'].apply(QualToInt)\n",
    "scoredata['HeatingQC'] = scoredata['HeatingQC'].apply(QualToInt)\n",
    "scoredata['BsmtQual'] = scoredata['BsmtQual'].apply(QualToInt)\n",
    "scoredata['BsmtCond'] = scoredata['BsmtCond'].apply(QualToInt)\n",
    "scoredata['FireplaceQu'] = scoredata['FireplaceQu'].apply(QualToInt)\n",
    "scoredata['GarageQual'] = scoredata['GarageQual'].apply(QualToInt)\n",
    "scoredata['PoolQC'] = scoredata['PoolQC'].apply(QualToInt)\n",
    "scoredata['LandSlope'] = scoredata['LandSlope'].apply(SlopeToInt)\n",
    "scoredata['CentralAir'] = scoredata['CentralAir'].apply( lambda x: 0 if x == 'N' else 1) \n",
    "scoredata['Street'] = scoredata['Street'].apply( lambda x: 0 if x == 'Grvl' else 1) \n",
    "scoredata['GarageFinish'] = scoredata['GarageFinish'].apply(GFinishToInt)\n",
    "scoredata['BsmtExposure'] = scoredata['BsmtExposure'].apply(BsmtExposureToInt)\n",
    "\n",
    "scoredata['TotalSF'] = scoredata['TotalBsmtSF'] + scoredata['1stFlrSF'] + scoredata['2ndFlrSF']\n",
    "scoredata['TotalSF'] = scoredata['TotalSF'].fillna(0)\n",
    "\n",
    "scoredata['Functional_int'] = scoredata['Functional'].apply(FunctionalToInt)\n",
    "scoredata['HouseStyle_int'] = scoredata['HouseStyle'].apply(HouseStyleToInt)\n",
    "scoredata['HouseStyle_1st'] = 1*(scoredata['HouseStyle'] == '1Story')\n",
    "scoredata['HouseStyle_2st'] = 1*(scoredata['HouseStyle'] == '2Story')\n",
    "scoredata['HouseStyle_15st'] = 1*(scoredata['HouseStyle'] == '1.5Fin')\n",
    "scoredata['Foundation_int'] = scoredata['Foundation'].apply(FoundationToInt)\n",
    "scoredata['MasVnrType_int'] = scoredata['MasVnrType'].apply(MasVnrTypeToInt)\n",
    "scoredata['BsmtFinType1_int'] = scoredata['BsmtFinType1'].apply(BsmtFinType1ToInt)\n",
    "scoredata['BsmtFinType1_Unf'] = 1*(scoredata['BsmtFinType1'] == 'Unf')\n",
    "scoredata['PavedDrive'] = scoredata['PavedDrive'].apply( lambda x: 0 if x == 'Y' else 1)\n",
    "\n",
    "scoredata['HasWoodDeck'] = (scoredata['WoodDeckSF'] == 0) * 1\n",
    "scoredata['HasOpenPorch'] = (scoredata['OpenPorchSF'] == 0) * 1\n",
    "scoredata['HasEnclosedPorch'] = (scoredata['EnclosedPorch'] == 0) * 1\n",
    "scoredata['Has3SsnPorch'] = (scoredata['3SsnPorch'] == 0) * 1\n",
    "scoredata['HasScreenPorch'] = (scoredata['ScreenPorch'] == 0) * 1\n",
    "scoredata['Total_Home_Quality'] = scoredata['OverallQual'] + scoredata['OverallCond']"
   ]
  },
  {
   "cell_type": "code",
   "execution_count": 13,
   "metadata": {
    "collapsed": true
   },
   "outputs": [],
   "source": [
    "scoredata['MSSubClass'] = scoredata['MSSubClass'].apply(lambda x: '20' if x == '150' else x)\n",
    "scoredata['MSZoning'] = scoredata['MSZoning'].apply(lambda x: 'RL' if x == 'missing' else x)\n",
    "scoredata['Utilities'] = scoredata['Utilities'].apply(lambda x: 'AllPub' if x == 'missing' else x)\n",
    "scoredata['Exterior1st'] = scoredata['Exterior1st'].apply(lambda x: 'VinylSd' if x == 'missing' else x)\n",
    "scoredata['Exterior2nd'] = scoredata['Exterior2nd'].apply(lambda x: 'VinylSd' if x == 'missing' else x)\n",
    "scoredata['Functional'] = scoredata['Functional'].apply(lambda x: 'Typ' if x == 'missing' else x)\n",
    "scoredata['SaleType'] = scoredata['SaleType'].apply(lambda x: 'WD' if x == 'missing' else x)\n",
    "scoredata['SaleCondition'] = scoredata['SaleCondition'].apply(lambda x: 'Normal' if x == 'missing' else x)"
   ]
  },
  {
   "cell_type": "code",
   "execution_count": 14,
   "metadata": {
    "collapsed": true
   },
   "outputs": [],
   "source": [
    "scoredata = addlogs(scoredata, loglist)"
   ]
  },
  {
   "cell_type": "code",
   "execution_count": 15,
   "metadata": {
    "collapsed": true
   },
   "outputs": [],
   "source": [
    "def getdummies_transform(res, ls, decoder):\n",
    "    def encode(encode_df, le_df, enc_df):\n",
    "        encode_df = np.array(encode_df)\n",
    "        res1 = le_df.transform(encode_df).reshape(-1, 1)\n",
    "        return pd.DataFrame(enc_df.transform(res1).toarray())\n",
    "    \n",
    "    L = len(ls)\n",
    "    outres = pd.DataFrame({'A' : []})\n",
    "\n",
    "    for j in range(L):\n",
    "        l = ls[j]\n",
    "        le = decoder[j][0]\n",
    "        enc = decoder[j][1]\n",
    "        cat = encode(res[l], le, enc)\n",
    "        cat.columns = [l+str(x) for x in cat.columns]\n",
    "        outres.reset_index(drop=True, inplace=True)\n",
    "        outres = pd.concat([outres, cat], axis = 1)\n",
    "    \n",
    "    return outres\n",
    "\n",
    "df_scores = getdummies_transform(scoredata, catpredlist, decoder)\n",
    "df_scores = pd.concat([df_scores,scoredata[floatpredlist]],axis=1)\n",
    "df_scores = addSquared(df_scores, sqpredlist)"
   ]
  },
  {
   "cell_type": "code",
   "execution_count": 16,
   "metadata": {
    "collapsed": true
   },
   "outputs": [],
   "source": [
    "X_score = np.array(df_scores)\n",
    "X_score = np.delete(X_score, 0, axis=1)"
   ]
  },
  {
   "cell_type": "code",
   "execution_count": 17,
   "metadata": {
    "collapsed": true
   },
   "outputs": [],
   "source": [
    "M = X_score.shape[0]\n",
    "scores_fin = 1+np.zeros(M)\n",
    "\n",
    "for md in models:\n",
    "    l2 = md[0]\n",
    "    l1 = md[1]\n",
    "    GBR = md[2]\n",
    "    ENet = md[3]\n",
    "    LGB = md[4]\n",
    "    l1_stacked = md[5]\n",
    "    \n",
    "    l2_scores = l2.predict(X_score)\n",
    "    l1_scores = l1.predict(X_score)\n",
    "    GBR_scores = GBR.predict(X_score)\n",
    "    ENet_scores = ENet.predict(X_score)\n",
    "    LGB_scores = LGB.predict(X_score)\n",
    "    \n",
    "    stackedsets = pd.DataFrame({'A' : []})\n",
    "    stackedsets = pd.concat([stackedsets,pd.DataFrame(l2_scores)],axis=1)\n",
    "    stackedsets = pd.concat([stackedsets,pd.DataFrame(l1_scores)],axis=1)\n",
    "    stackedsets = pd.concat([stackedsets,pd.DataFrame(GBR_scores)],axis=1)\n",
    "    stackedsets = pd.concat([stackedsets,pd.DataFrame(ENet_scores)],axis=1)\n",
    "    stackedsets = pd.concat([stackedsets,pd.DataFrame(LGB_scores)],axis=1)\n",
    "    prod = (l2_scores*l1_scores*GBR_scores*ENet_scores*LGB_scores) ** (1.0/5.0)\n",
    "    stackedsets = pd.concat([stackedsets,pd.DataFrame(prod)],axis=1) \n",
    "    Xstacks = np.array(stackedsets)\n",
    "    Xstacks = np.delete(Xstacks, 0, axis=1)\n",
    "    scores_fin = scores_fin * l1_stacked.predict(Xstacks)\n",
    "scores_fin = scores_fin ** (1/nF)"
   ]
  },
  {
   "cell_type": "code",
   "execution_count": 18,
   "metadata": {
    "collapsed": true
   },
   "outputs": [],
   "source": [
    "svm_solution = pd.read_csv('C:/Users/ok/Downloads/svm_solution_32.csv')\n",
    "svm_solution_ln = np.log(svm_solution['SalePrice'])\n",
    "\n",
    "# Averaging stacked and SVM predictions\n",
    "fin_score = np.sqrt(scores_fin * svm_solution_ln)\n",
    "\n",
    "Id = scoredata['Id']\n",
    "fin_score = pd.DataFrame({'SalePrice': np.exp(fin_score)-1})\n",
    "fin_data = pd.concat([Id,fin_score],axis=1)"
   ]
  },
  {
   "cell_type": "code",
   "execution_count": 19,
   "metadata": {
    "collapsed": true
   },
   "outputs": [],
   "source": [
    "q1 = fin_data['SalePrice'].quantile(0.0042)\n",
    "q2 = fin_data['SalePrice'].quantile(0.99)\n",
    "\n",
    "fin_data['SalePrice'] = fin_data['SalePrice'].apply(lambda x: x if x > q1 else x*0.77)\n",
    "fin_data['SalePrice'] = fin_data['SalePrice'].apply(lambda x: x if x < q2 else x*1.1)"
   ]
  },
  {
   "cell_type": "code",
   "execution_count": 20,
   "metadata": {
    "collapsed": true
   },
   "outputs": [],
   "source": [
    "fin_data.to_csv('House_Prices_submitfinal.csv', sep=',', index = False)"
   ]
  },
  {
   "cell_type": "markdown",
   "metadata": {},
   "source": [
    "<p style=\"font-family: Arial; font-size:1.75em;color:#2462C0; font-style:bold\"><br>\n",
    "\n",
    "2-Apprentissage du modèle\n",
    "</p>\n"
   ]
  },
  {
   "cell_type": "markdown",
   "metadata": {},
   "source": [
    "<h2>Regression linéaire</h2>"
   ]
  },
  {
   "cell_type": "code",
   "execution_count": 92,
   "metadata": {
    "collapsed": true
   },
   "outputs": [],
   "source": [
    "lr = linear_model.LinearRegression()"
   ]
  },
  {
   "cell_type": "code",
   "execution_count": 93,
   "metadata": {},
   "outputs": [
    {
     "name": "stdout",
     "output_type": "stream",
     "text": [
      "0.8995521728337799\n"
     ]
    }
   ],
   "source": [
    "# Compute 5-fold cross-validation scores: cv_scores\n",
    "cv_scores = cross_val_score(lr , X, y, cv=5)\n",
    "cv1=np.square(cv_scores)\n",
    "cv1=np.mean(cv_scores)\n",
    "print(cv1)"
   ]
  },
  {
   "cell_type": "code",
   "execution_count": 94,
   "metadata": {},
   "outputs": [
    {
     "name": "stdout",
     "output_type": "stream",
     "text": [
      "[0.90262989 0.91373509 0.88767581 0.90635768 0.88736239]\n"
     ]
    }
   ],
   "source": [
    "print(cv_scores)"
   ]
  },
  {
   "cell_type": "code",
   "execution_count": 95,
   "metadata": {},
   "outputs": [
    {
     "name": "stdout",
     "output_type": "stream",
     "text": [
      "Average 5-Fold CV Score: 0.8995521728337799\n"
     ]
    }
   ],
   "source": [
    "# Print the average 5-fold cross-validation score\n",
    "print(\"Average 5-Fold CV Score: {}\".format(np.mean(cv_scores)))"
   ]
  },
  {
   "cell_type": "code",
   "execution_count": 96,
   "metadata": {
    "collapsed": true
   },
   "outputs": [],
   "source": [
    "model = lr.fit(X, y)"
   ]
  },
  {
   "cell_type": "code",
   "execution_count": 97,
   "metadata": {},
   "outputs": [
    {
     "name": "stdout",
     "output_type": "stream",
     "text": [
      "precision est 0.9158460409654541\n"
     ]
    }
   ],
   "source": [
    "print(\"precision est\", model.score(X_test, y_test))"
   ]
  },
  {
   "cell_type": "code",
   "execution_count": 98,
   "metadata": {
    "collapsed": true
   },
   "outputs": [],
   "source": [
    "predictions = model.predict(X_test)"
   ]
  },
  {
   "cell_type": "code",
   "execution_count": 99,
   "metadata": {
    "collapsed": true
   },
   "outputs": [],
   "source": [
    "rmse1= mean_squared_error(y_test, predictions)"
   ]
  },
  {
   "cell_type": "code",
   "execution_count": 100,
   "metadata": {},
   "outputs": [
    {
     "name": "stdout",
     "output_type": "stream",
     "text": [
      "RMSE est 0.013189475284636092\n"
     ]
    }
   ],
   "source": [
    "print('RMSE est',rmse1)"
   ]
  },
  {
   "cell_type": "code",
   "execution_count": 101,
   "metadata": {},
   "outputs": [
    {
     "data": {
      "image/png": "[encoded data removed]",
      "text/plain": [
       "<Figure size 720x432 with 1 Axes>"
      ]
     },
     "metadata": {},
     "output_type": "display_data"
    }
   ],
   "source": [
    "actual_values = y_test\n",
    "plt.scatter(predictions, actual_values, alpha=.75,\n",
    "            color=['orange','red'])  # alpha helps to show overlapping data\n",
    "plt.xlabel('les prix prédis')\n",
    "plt.ylabel('Les prix actuels')\n",
    "plt.title('Régression linéaire')\n",
    "plt.show()"
   ]
  },
  {
   "cell_type": "markdown",
   "metadata": {},
   "source": [
    "<h2>SVR</h2>"
   ]
  },
  {
   "cell_type": "code",
   "execution_count": 102,
   "metadata": {},
   "outputs": [
    {
     "data": {
      "text/plain": [
       "SVR(C=100.0, cache_size=200, coef0=0.0, degree=3, epsilon=0.2, gamma='scale',\n",
       "  kernel='rbf', max_iter=-1, shrinking=True, tol=0.001, verbose=False)"
      ]
     },
     "execution_count": 102,
     "metadata": {},
     "output_type": "execute_result"
    }
   ],
   "source": [
    "clf = SVR(gamma='scale', C=100.0, epsilon=0.2, shrinking=True,kernel='rbf')\n",
    "clf.fit(X, y) "
   ]
  },
  {
   "cell_type": "code",
   "execution_count": 103,
   "metadata": {},
   "outputs": [
    {
     "name": "stdout",
     "output_type": "stream",
     "text": [
      "0.1680099393703413\n"
     ]
    }
   ],
   "source": [
    "# Compute 5-fold cross-validation scores: cv_scores\n",
    "cv_scores = cross_val_score(clf , X, y, cv=5)\n",
    "cv2=np.square(cv_scores)\n",
    "cv2=np.mean(cv_scores)\n",
    "print(cv2)"
   ]
  },
  {
   "cell_type": "code",
   "execution_count": 104,
   "metadata": {},
   "outputs": [
    {
     "name": "stdout",
     "output_type": "stream",
     "text": [
      "[0.18940794 0.16417827 0.15535137 0.1602142  0.17089791]\n"
     ]
    }
   ],
   "source": [
    "print(cv_scores)"
   ]
  },
  {
   "cell_type": "code",
   "execution_count": 105,
   "metadata": {},
   "outputs": [
    {
     "name": "stdout",
     "output_type": "stream",
     "text": [
      "Average 5-Fold CV Score: 0.1680099393703413\n"
     ]
    }
   ],
   "source": [
    "# Print the average 5-fold cross-validation score\n",
    "print(\"Average 5-Fold CV Score: {}\".format(np.mean(cv_scores)))"
   ]
  },
  {
   "cell_type": "code",
   "execution_count": 106,
   "metadata": {},
   "outputs": [
    {
     "name": "stdout",
     "output_type": "stream",
     "text": [
      "precision est  0.8318880597433745\n"
     ]
    }
   ],
   "source": [
    "print(\"precision est \", clf.score(X_test, y_test))"
   ]
  },
  {
   "cell_type": "code",
   "execution_count": 107,
   "metadata": {
    "collapsed": true
   },
   "outputs": [],
   "source": [
    "predictions = clf.predict(X_test)"
   ]
  },
  {
   "cell_type": "code",
   "execution_count": 108,
   "metadata": {
    "collapsed": true
   },
   "outputs": [],
   "source": [
    "rmse2=mean_squared_error(y_test, predictions)"
   ]
  },
  {
   "cell_type": "code",
   "execution_count": 109,
   "metadata": {},
   "outputs": [
    {
     "name": "stdout",
     "output_type": "stream",
     "text": [
      "RMSE est 0.026348234907840263\n"
     ]
    }
   ],
   "source": [
    "print('RMSE est',rmse2)"
   ]
  },
  {
   "cell_type": "code",
   "execution_count": 110,
   "metadata": {},
   "outputs": [
    {
     "data": {
      "image/png": "[encoded data removed]",
      "text/plain": [
       "<Figure size 720x432 with 1 Axes>"
      ]
     },
     "metadata": {},
     "output_type": "display_data"
    }
   ],
   "source": [
    "actual_values = y_test\n",
    "plt.scatter(predictions, actual_values, alpha=.75,\n",
    "            color=['orange','red'])  # alpha helps to show overlapping data\n",
    "plt.xlabel('les prix prédis')\n",
    "plt.ylabel('Les prix actuels')\n",
    "plt.title('SVR')\n",
    "plt.show()"
   ]
  },
  {
   "cell_type": "markdown",
   "metadata": {},
   "source": [
    "<h2>La regression avec KNN </h2>"
   ]
  },
  {
   "cell_type": "code",
   "execution_count": 111,
   "metadata": {
    "collapsed": true
   },
   "outputs": [],
   "source": [
    "neigh = KNeighborsRegressor(n_neighbors=2)"
   ]
  },
  {
   "cell_type": "code",
   "execution_count": 112,
   "metadata": {},
   "outputs": [
    {
     "name": "stdout",
     "output_type": "stream",
     "text": [
      "0.6264316021997537\n"
     ]
    }
   ],
   "source": [
    "# Compute 5-fold cross-validation scores: cv_scores\n",
    "cv_scores = cross_val_score(neigh , X, y, cv=5)\n",
    "cv3=np.mean(cv_scores)\n",
    "print(cv3)"
   ]
  },
  {
   "cell_type": "code",
   "execution_count": 113,
   "metadata": {},
   "outputs": [
    {
     "name": "stdout",
     "output_type": "stream",
     "text": [
      "Average 5-Fold CV Score: 0.6264316021997537\n"
     ]
    }
   ],
   "source": [
    "# Print the average 5-fold cross-validation score\n",
    "print(\"Average 5-Fold CV Score: {}\".format(np.mean(cv_scores)))"
   ]
  },
  {
   "cell_type": "code",
   "execution_count": 114,
   "metadata": {},
   "outputs": [
    {
     "data": {
      "text/plain": [
       "KNeighborsRegressor(algorithm='auto', leaf_size=30, metric='minkowski',\n",
       "          metric_params=None, n_jobs=None, n_neighbors=2, p=2,\n",
       "          weights='uniform')"
      ]
     },
     "execution_count": 114,
     "metadata": {},
     "output_type": "execute_result"
    }
   ],
   "source": [
    "neigh.fit(X, y) "
   ]
  },
  {
   "cell_type": "code",
   "execution_count": 115,
   "metadata": {},
   "outputs": [
    {
     "name": "stdout",
     "output_type": "stream",
     "text": [
      "precision est 0.8813849516151727\n"
     ]
    }
   ],
   "source": [
    "print(\"precision est\", neigh.score(X_test, y_test))"
   ]
  },
  {
   "cell_type": "code",
   "execution_count": 116,
   "metadata": {
    "collapsed": true
   },
   "outputs": [],
   "source": [
    "predictions = neigh.predict(X_test)"
   ]
  },
  {
   "cell_type": "code",
   "execution_count": 117,
   "metadata": {
    "collapsed": true
   },
   "outputs": [],
   "source": [
    "rmse3=mean_squared_error(y_test, predictions)"
   ]
  },
  {
   "cell_type": "code",
   "execution_count": 118,
   "metadata": {},
   "outputs": [
    {
     "name": "stdout",
     "output_type": "stream",
     "text": [
      "RMSE est 0.018590572172788287\n"
     ]
    }
   ],
   "source": [
    "print('RMSE est',rmse3)"
   ]
  },
  {
   "cell_type": "code",
   "execution_count": 119,
   "metadata": {},
   "outputs": [
    {
     "data": {
      "image/png": "[encoded data removed]",
      "text/plain": [
       "<Figure size 720x432 with 1 Axes>"
      ]
     },
     "metadata": {},
     "output_type": "display_data"
    }
   ],
   "source": [
    "actual_values = y_test\n",
    "plt.scatter(predictions, actual_values, alpha=.75,\n",
    "            color=['orange','red'])  # alpha helps to show overlapping data\n",
    "plt.xlabel('les prix prédis')\n",
    "plt.ylabel('Les prix actuels')\n",
    "plt.title('knn')\n",
    "plt.show()"
   ]
  },
  {
   "cell_type": "markdown",
   "metadata": {},
   "source": [
    "<h2>La regression logistique </h2>"
   ]
  },
  {
   "cell_type": "code",
   "execution_count": 120,
   "metadata": {
    "collapsed": true
   },
   "outputs": [],
   "source": [
    "lab_enc = preprocessing.LabelEncoder()"
   ]
  },
  {
   "cell_type": "code",
   "execution_count": 121,
   "metadata": {
    "collapsed": true
   },
   "outputs": [],
   "source": [
    "training_scores_encoded = lab_enc.fit_transform(y)"
   ]
  },
  {
   "cell_type": "code",
   "execution_count": 122,
   "metadata": {
    "collapsed": true
   },
   "outputs": [],
   "source": [
    "LogReg = LogisticRegression()\n"
   ]
  },
  {
   "cell_type": "code",
   "execution_count": 123,
   "metadata": {},
   "outputs": [
    {
     "name": "stdout",
     "output_type": "stream",
     "text": [
      "Average 5-Fold CV Score: 0.6264316021997537\n"
     ]
    }
   ],
   "source": [
    "# Print the average 5-fold cross-validation score\n",
    "print(\"Average 5-Fold CV Score: {}\".format(np.mean(cv_scores)))"
   ]
  },
  {
   "cell_type": "code",
   "execution_count": 124,
   "metadata": {},
   "outputs": [
    {
     "name": "stderr",
     "output_type": "stream",
     "text": [
      "C:\\Users\\ok\\Anaconda3\\lib\\site-packages\\sklearn\\linear_model\\logistic.py:432: FutureWarning: Default solver will be changed to 'lbfgs' in 0.22. Specify a solver to silence this warning.\n",
      "  FutureWarning)\n",
      "C:\\Users\\ok\\Anaconda3\\lib\\site-packages\\sklearn\\linear_model\\logistic.py:459: FutureWarning: Default multi_class will be changed to 'auto' in 0.22. Specify the multi_class option to silence this warning.\n",
      "  \"this warning.\", FutureWarning)\n",
      "C:\\Users\\ok\\Anaconda3\\lib\\site-packages\\sklearn\\svm\\base.py:922: ConvergenceWarning: Liblinear failed to converge, increase the number of iterations.\n",
      "  \"the number of iterations.\", ConvergenceWarning)\n"
     ]
    },
    {
     "data": {
      "text/plain": [
       "LogisticRegression(C=1.0, class_weight=None, dual=False, fit_intercept=True,\n",
       "          intercept_scaling=1, max_iter=100, multi_class='warn',\n",
       "          n_jobs=None, penalty='l2', random_state=None, solver='warn',\n",
       "          tol=0.0001, verbose=0, warm_start=False)"
      ]
     },
     "execution_count": 124,
     "metadata": {},
     "output_type": "execute_result"
    }
   ],
   "source": [
    "LogReg.fit(X,training_scores_encoded)"
   ]
  },
  {
   "cell_type": "code",
   "execution_count": 125,
   "metadata": {
    "collapsed": true
   },
   "outputs": [],
   "source": [
    "predictions = LogReg.predict(X_test)"
   ]
  },
  {
   "cell_type": "code",
   "execution_count": 126,
   "metadata": {
    "collapsed": true
   },
   "outputs": [],
   "source": [
    "rmse4=mean_squared_error(y_test, predictions)"
   ]
  },
  {
   "cell_type": "code",
   "execution_count": 127,
   "metadata": {},
   "outputs": [
    {
     "name": "stdout",
     "output_type": "stream",
     "text": [
      "RMSE eST 103000.89172092093\n"
     ]
    }
   ],
   "source": [
    "print('RMSE eST',rmse4)"
   ]
  },
  {
   "cell_type": "code",
   "execution_count": 128,
   "metadata": {},
   "outputs": [
    {
     "data": {
      "image/png": "[encoded data removed]",
      "text/plain": [
       "<Figure size 720x432 with 1 Axes>"
      ]
     },
     "metadata": {},
     "output_type": "display_data"
    }
   ],
   "source": [
    "actual_values = y_test\n",
    "plt.scatter(predictions, actual_values, alpha=.75,\n",
    "            color=['orange','red'])  # alpha helps to show overlapping data\n",
    "plt.xlabel('les prix prédis')\n",
    "plt.ylabel('Les prix actuels')\n",
    "plt.title('Régression logistique')\n",
    "plt.show()"
   ]
  },
  {
   "cell_type": "markdown",
   "metadata": {},
   "source": [
    "<h2>La regression Lasso </h2>"
   ]
  },
  {
   "cell_type": "code",
   "execution_count": 129,
   "metadata": {
    "collapsed": true
   },
   "outputs": [],
   "source": [
    "clf = linear_model.Lasso(alpha=0.1)"
   ]
  },
  {
   "cell_type": "code",
   "execution_count": 130,
   "metadata": {},
   "outputs": [
    {
     "name": "stdout",
     "output_type": "stream",
     "text": [
      "0.8414854022175946\n"
     ]
    }
   ],
   "source": [
    "# Compute 5-fold cross-validation scores: cv_scores\n",
    "cv_scores = cross_val_score(clf , X, y, cv=5)\n",
    "cv6=np.mean(cv_scores)\n",
    "print(cv6)"
   ]
  },
  {
   "cell_type": "code",
   "execution_count": 131,
   "metadata": {
    "collapsed": true
   },
   "outputs": [],
   "source": [
    "cv5=np.mean(cv_scores)"
   ]
  },
  {
   "cell_type": "code",
   "execution_count": 132,
   "metadata": {},
   "outputs": [
    {
     "name": "stdout",
     "output_type": "stream",
     "text": [
      "0.8414854022175946\n"
     ]
    }
   ],
   "source": [
    "print(cv5)"
   ]
  },
  {
   "cell_type": "code",
   "execution_count": 133,
   "metadata": {},
   "outputs": [
    {
     "name": "stdout",
     "output_type": "stream",
     "text": [
      "Average 5-Fold CV Score: 0.8414854022175946\n"
     ]
    }
   ],
   "source": [
    "# Print the average 5-fold cross-validation score\n",
    "print(\"Average 5-Fold CV Score: {}\".format(np.mean(cv_scores)))"
   ]
  },
  {
   "cell_type": "code",
   "execution_count": 134,
   "metadata": {},
   "outputs": [
    {
     "data": {
      "text/plain": [
       "Lasso(alpha=0.1, copy_X=True, fit_intercept=True, max_iter=1000,\n",
       "   normalize=False, positive=False, precompute=False, random_state=None,\n",
       "   selection='cyclic', tol=0.0001, warm_start=False)"
      ]
     },
     "execution_count": 134,
     "metadata": {},
     "output_type": "execute_result"
    }
   ],
   "source": [
    "clf.fit(X, y) "
   ]
  },
  {
   "cell_type": "code",
   "execution_count": 135,
   "metadata": {},
   "outputs": [
    {
     "name": "stdout",
     "output_type": "stream",
     "text": [
      "precision est 0.8571688794742025\n"
     ]
    }
   ],
   "source": [
    "print(\"precision est\", clf.score(X_test, y_test))"
   ]
  },
  {
   "cell_type": "code",
   "execution_count": 136,
   "metadata": {
    "collapsed": true
   },
   "outputs": [],
   "source": [
    "predictions = clf.predict(X_test)"
   ]
  },
  {
   "cell_type": "code",
   "execution_count": 137,
   "metadata": {
    "collapsed": true
   },
   "outputs": [],
   "source": [
    "rmse5= mean_squared_error(y_test, predictions)"
   ]
  },
  {
   "cell_type": "code",
   "execution_count": 138,
   "metadata": {},
   "outputs": [
    {
     "name": "stdout",
     "output_type": "stream",
     "text": [
      "RMSE est: 0.02238596443547645\n"
     ]
    }
   ],
   "source": [
    "print('RMSE est:',rmse5)"
   ]
  },
  {
   "cell_type": "code",
   "execution_count": 139,
   "metadata": {},
   "outputs": [
    {
     "data": {
      "image/png": "[encoded data removed]",
      "text/plain": [
       "<Figure size 720x432 with 1 Axes>"
      ]
     },
     "metadata": {},
     "output_type": "display_data"
    }
   ],
   "source": [
    "actual_values = y_test\n",
    "plt.scatter(predictions, actual_values, alpha=.75,\n",
    "            color=['orange','red'])  # alpha helps to show overlapping data\n",
    "plt.xlabel('les prix prédis')\n",
    "plt.ylabel('Les prix actuels')\n",
    "plt.title('LASSO')\n",
    "plt.show()"
   ]
  },
  {
   "cell_type": "markdown",
   "metadata": {
    "collapsed": true
   },
   "source": [
    "<h2>La regression avec les methodes d'arbre' </h2>"
   ]
  },
  {
   "cell_type": "code",
   "execution_count": 140,
   "metadata": {
    "collapsed": true
   },
   "outputs": [],
   "source": [
    "regr_1 = DecisionTreeRegressor(max_depth=20)"
   ]
  },
  {
   "cell_type": "code",
   "execution_count": 141,
   "metadata": {},
   "outputs": [
    {
     "name": "stdout",
     "output_type": "stream",
     "text": [
      "0.7296514322308485\n"
     ]
    }
   ],
   "source": [
    "# Compute 5-fold cross-validation scores: cv_scores\n",
    "cv_scores = cross_val_score(regr_1 , X, y, cv=5)\n",
    "cv6=np.mean(cv_scores)\n",
    "print(cv6)"
   ]
  },
  {
   "cell_type": "code",
   "execution_count": 142,
   "metadata": {},
   "outputs": [
    {
     "data": {
      "text/plain": [
       "DecisionTreeRegressor(criterion='mse', max_depth=20, max_features=None,\n",
       "           max_leaf_nodes=None, min_impurity_decrease=0.0,\n",
       "           min_impurity_split=None, min_samples_leaf=1,\n",
       "           min_samples_split=2, min_weight_fraction_leaf=0.0,\n",
       "           presort=False, random_state=None, splitter='best')"
      ]
     },
     "execution_count": 142,
     "metadata": {},
     "output_type": "execute_result"
    }
   ],
   "source": [
    "regr_1.fit(X, y) "
   ]
  },
  {
   "cell_type": "code",
   "execution_count": 143,
   "metadata": {},
   "outputs": [
    {
     "name": "stdout",
     "output_type": "stream",
     "text": [
      "precision est 0.9999989948524061\n"
     ]
    }
   ],
   "source": [
    "print(\"precision est\", regr_1.score(X_test, y_test))"
   ]
  },
  {
   "cell_type": "code",
   "execution_count": 144,
   "metadata": {
    "collapsed": true
   },
   "outputs": [],
   "source": [
    "predictions = regr_1.predict(X_test)"
   ]
  },
  {
   "cell_type": "code",
   "execution_count": 145,
   "metadata": {
    "collapsed": true
   },
   "outputs": [],
   "source": [
    "rmse6= mean_squared_error(y_test, predictions)"
   ]
  },
  {
   "cell_type": "code",
   "execution_count": 146,
   "metadata": {},
   "outputs": [
    {
     "name": "stdout",
     "output_type": "stream",
     "text": [
      "RMSE est: 1.5753708440393355e-07\n"
     ]
    }
   ],
   "source": [
    "print('RMSE est:',rmse6)"
   ]
  },
  {
   "cell_type": "code",
   "execution_count": 147,
   "metadata": {},
   "outputs": [
    {
     "data": {
      "image/png": "[encoded data removed]",
      "text/plain": [
       "<Figure size 720x432 with 1 Axes>"
      ]
     },
     "metadata": {},
     "output_type": "display_data"
    }
   ],
   "source": [
    "actual_values = y_test\n",
    "plt.scatter(predictions, actual_values, alpha=.75,\n",
    "            color=['orange','red'])  # alpha helps to show overlapping data\n",
    "plt.xlabel('les prix prédis')\n",
    "plt.ylabel('Les prix actuels')\n",
    "plt.title('Decision tree regressor')\n",
    "plt.show()"
   ]
  },
  {
   "cell_type": "markdown",
   "metadata": {},
   "source": [
    "<h2>La regression avec RIDGE </h2>"
   ]
  },
  {
   "cell_type": "code",
   "execution_count": 148,
   "metadata": {
    "collapsed": true
   },
   "outputs": [],
   "source": [
    "regr_2 = Ridge(alpha=1.0)\n"
   ]
  },
  {
   "cell_type": "code",
   "execution_count": 149,
   "metadata": {},
   "outputs": [
    {
     "name": "stdout",
     "output_type": "stream",
     "text": [
      "0.9028929350101293\n"
     ]
    }
   ],
   "source": [
    "# Compute 5-fold cross-validation scores: cv_scores\n",
    "cv_scores = cross_val_score(regr_2 , X, y, cv=5)\n",
    "cv6=np.mean(cv_scores)\n",
    "print(cv6)"
   ]
  },
  {
   "cell_type": "code",
   "execution_count": 150,
   "metadata": {},
   "outputs": [
    {
     "data": {
      "text/plain": [
       "Ridge(alpha=1.0, copy_X=True, fit_intercept=True, max_iter=None,\n",
       "   normalize=False, random_state=None, solver='auto', tol=0.001)"
      ]
     },
     "execution_count": 150,
     "metadata": {},
     "output_type": "execute_result"
    }
   ],
   "source": [
    "regr_2.fit(X, y) "
   ]
  },
  {
   "cell_type": "code",
   "execution_count": 151,
   "metadata": {},
   "outputs": [
    {
     "name": "stdout",
     "output_type": "stream",
     "text": [
      "precision est 0.9155718859904926\n"
     ]
    }
   ],
   "source": [
    "print(\"precision est\", regr_2.score(X_test, y_test))"
   ]
  },
  {
   "cell_type": "code",
   "execution_count": 152,
   "metadata": {
    "collapsed": true
   },
   "outputs": [],
   "source": [
    "predictions = regr_2.predict(X_test)"
   ]
  },
  {
   "cell_type": "code",
   "execution_count": 153,
   "metadata": {},
   "outputs": [
    {
     "name": "stdout",
     "output_type": "stream",
     "text": [
      "0.018590572172788287\n"
     ]
    }
   ],
   "source": [
    "rmse6= mean_squared_error(y_test, predictions)\n",
    "print(rmse3)"
   ]
  },
  {
   "cell_type": "code",
   "execution_count": 154,
   "metadata": {},
   "outputs": [
    {
     "data": {
      "image/png": "[encoded data removed]",
      "text/plain": [
       "<Figure size 720x432 with 1 Axes>"
      ]
     },
     "metadata": {},
     "output_type": "display_data"
    }
   ],
   "source": [
    "actual_values = y_test\n",
    "plt.scatter(predictions, actual_values, alpha=.75,\n",
    "            color=['orange','red'])  # alpha helps to show overlapping data\n",
    "plt.xlabel('les prix prédis')\n",
    "plt.ylabel('Les prix actuels')\n",
    "plt.title('ridge regression')\n",
    "plt.show()"
   ]
  },
  {
   "cell_type": "markdown",
   "metadata": {},
   "source": [
    "<h2>La regression avec Xgboost </h2>"
   ]
  },
  {
   "cell_type": "code",
   "execution_count": 155,
   "metadata": {
    "collapsed": true
   },
   "outputs": [],
   "source": [
    "xg_reg = xgb.XGBRegressor(objective ='reg:linear', colsample_bytree = 0.3, learning_rate = 0.1,\n",
    "                max_depth = 5, alpha = 10, n_estimators = 10)\n"
   ]
  },
  {
   "cell_type": "code",
   "execution_count": 156,
   "metadata": {
    "collapsed": true
   },
   "outputs": [],
   "source": [
    "xg_reg.fit(X, y) \n",
    "\n",
    "\n",
    "preds = xg_reg.predict(X_test)"
   ]
  },
  {
   "cell_type": "markdown",
   "metadata": {
    "collapsed": true
   },
   "source": [
    "<p style=\"font-family: Arial; font-size:1.9em;color:red; font-style:bold\"><br>\n",
    "Tableau comparatif\n",
    "<br><br></p>"
   ]
  },
  {
   "cell_type": "markdown",
   "metadata": {},
   "source": [
    "<h2>Holdout</h2>"
   ]
  },
  {
   "cell_type": "code",
   "execution_count": 157,
   "metadata": {},
   "outputs": [
    {
     "name": "stdout",
     "output_type": "stream",
     "text": [
      "Regression linéaire 0.013189475284636092\n",
      "SVR 0.026348234907840263\n",
      "K-NN 0.018590572172788287\n",
      "R.Logistique 103000.89172092093\n",
      "Lasso 0.02238596443547645\n",
      "Arbre de cision 0.013232443676235267\n"
     ]
    }
   ],
   "source": [
    "print(\"Regression linéaire\",rmse1)\n",
    "print(\"SVR\",rmse2)\n",
    "print(\"K-NN\",rmse3)\n",
    "print(\"R.Logistique\",rmse4)\n",
    "print(\"Lasso\",rmse5)\n",
    "print(\"Arbre de cision\",rmse6)"
   ]
  },
  {
   "cell_type": "markdown",
   "metadata": {},
   "source": [
    "<h2> K-fold CrossValidation</h2>"
   ]
  },
  {
   "cell_type": "code",
   "execution_count": 158,
   "metadata": {},
   "outputs": [
    {
     "name": "stdout",
     "output_type": "stream",
     "text": [
      "Regression linéaire 0.8995521728337799\n",
      "SVR 0.1680099393703413\n",
      "K-NN 0.6264316021997537\n",
      "R.Logistique 0.6264316021997537\n",
      "Lasso 0.8414854022175946\n",
      "Arbre de cision 0.9028929350101293\n"
     ]
    }
   ],
   "source": [
    "print(\"Regression linéaire\",cv1)\n",
    "print(\"SVR\",cv2)\n",
    "print(\"K-NN\",cv3)\n",
    "print(\"R.Logistique\",cv3)\n",
    "print(\"Lasso\",cv5)\n",
    "print(\"Arbre de cision\",cv6)"
   ]
  },
  {
   "cell_type": "markdown",
   "metadata": {
    "collapsed": true
   },
   "source": [
    "<h2> Submition </h2>"
   ]
  },
  {
   "cell_type": "code",
   "execution_count": 268,
   "metadata": {},
   "outputs": [
    {
     "name": "stdout",
     "output_type": "stream",
     "text": [
      "28 \n",
      "\n",
      "Original predictions are: \n",
      " [11.59806989 11.97743714 12.09489805 12.20813439 12.15863738 12.06362164\n",
      " 12.08126013 12.01774818 12.15407081 11.64620367] \n",
      "\n",
      "Final predictions are: \n",
      " [108887.43123708 159123.69662647 178956.50294247 200412.77490011\n",
      " 190734.4405353  173446.00767887 176532.47537147 165669.17839327\n",
      " 189865.42502435 114256.78257377]\n",
      "29 \n",
      "\n",
      "     Id      SalePrice\n",
      "0  1461  108887.431237\n",
      "1  1462  159123.696626\n",
      "2  1463  178956.502942\n",
      "3  1464  200412.774900\n",
      "4  1465  190734.440535\n",
      "\n",
      " Finish\n"
     ]
    }
   ],
   "source": [
    "# create a csv that contains the predicted SalePrice for each observation in the test.csv dataset.\n",
    "submission = pd.DataFrame()\n",
    "# The first column must the contain the ID from the test data.\n",
    "submission['Id'] = test.Id\n",
    "\n",
    "# select the features from the test data for the model as we did above.\n",
    "feats = test.select_dtypes(\n",
    "    include=[np.number]).drop(['Id'], axis=1).interpolate()\n",
    "\n",
    "# generate predictions\n",
    "predictions = model.predict(feats)\n",
    "\n",
    "# transform the predictions to the correct form\n",
    "# apply np.exp() to our predictions becasuse we have taken the logarithm(np.log()) previously.\n",
    "final_predictions = np.exp(predictions)\n",
    "\n",
    "print(\"28 \\n\")\n",
    "\n",
    "# check the difference\n",
    "print(\"Original predictions are: \\n\", predictions[:10], \"\\n\")\n",
    "print(\"Final predictions are: \\n\", final_predictions[:10])\n",
    "\n",
    "print(\"29 \\n\")\n",
    "# assign these predictions and check\n",
    "submission['SalePrice'] = final_predictions\n",
    "# submission.head()\n",
    "print(submission.head())\n",
    "\n",
    "# export to a .csv file as Kaggle expects.\n",
    "# pass index=False because Pandas otherwise would create a new index for us.\n",
    "submission.to_csv('submission1.csv', index=False)\n",
    "\n",
    "\n",
    "print(\"\\n Finish\")"
   ]
  },
  {
   "cell_type": "code",
   "execution_count": null,
   "metadata": {
    "collapsed": true
   },
   "outputs": [],
   "source": [
    "predictions"
   ]
  },
  {
   "cell_type": "code",
   "execution_count": 287,
   "metadata": {},
   "outputs": [
    {
     "name": "stdout",
     "output_type": "stream",
     "text": [
      "28 \n",
      "\n",
      "Original predictions are: \n",
      " [12.05737245 12.06294383 12.06158416 12.06960244 11.97037562 12.06597885\n",
      " 12.06266768 11.90308333 12.06002544 11.97472123] \n",
      "\n",
      "Final predictions are: \n",
      " [172365.49200861 173328.48487577 173092.97548357 174486.46354808\n",
      " 158003.99905686 173855.33933101 173280.62773505 147721.39792374\n",
      " 172823.38221793 158692.1157709 ]\n",
      "29 \n",
      "\n",
      "     Id      SalePrice\n",
      "0  1461  172365.492009\n",
      "1  1462  173328.484876\n",
      "2  1463  173092.975484\n",
      "3  1464  174486.463548\n",
      "4  1465  158003.999057\n",
      "\n",
      " Finish\n"
     ]
    }
   ],
   "source": [
    "# create a csv that contains the predicted SalePrice for each observation in the test.csv dataset.\n",
    "submission = pd.DataFrame()\n",
    "# The first column must the contain the ID from the test data.\n",
    "submission['Id'] = test.Id\n",
    "\n",
    "# select the features from the test data for the model as we did above.\n",
    "feats = test.select_dtypes(\n",
    "    include=[np.number]).drop(['Id'], axis=1).interpolate()\n",
    "\n",
    "# generate predictions\n",
    "predictions = clf.predict(feats)\n",
    "\n",
    "# transform the predictions to the correct form\n",
    "# apply np.exp() to our predictions becasuse we have taken the logarithm(np.log()) previously.\n",
    "final_predictions = np.exp(predictions)\n",
    "\n",
    "print(\"28 \\n\")\n",
    "\n",
    "# check the difference\n",
    "print(\"Original predictions are: \\n\", predictions[:10], \"\\n\")\n",
    "print(\"Final predictions are: \\n\", final_predictions[:10])\n",
    "\n",
    "print(\"29 \\n\")\n",
    "# assign these predictions and check\n",
    "submission['SalePrice'] = final_predictions\n",
    "# submission.head()\n",
    "print(submission.head())\n",
    "\n",
    "# export to a .csv file as Kaggle expects.\n",
    "# pass index=False because Pandas otherwise would create a new index for us.\n",
    "submission.to_csv('submission2.csv', index=False)\n",
    "\n",
    "\n",
    "print(\"\\n Finish\")"
   ]
  },
  {
   "cell_type": "code",
   "execution_count": 296,
   "metadata": {},
   "outputs": [
    {
     "name": "stdout",
     "output_type": "stream",
     "text": [
      "28 \n",
      "\n",
      "Original predictions are: \n",
      " [11.91170158 11.9511804  12.16525065 12.08953883 12.27139211 12.14419724\n",
      " 12.06104687 12.11833373 12.02718519 11.6195352 ] \n",
      "\n",
      "Final predictions are: \n",
      " [149000. 155000. 192000. 178000. 213500. 188000. 173000. 183200. 167240.\n",
      " 111250.]\n",
      "29 \n",
      "\n",
      "     Id  SalePrice\n",
      "0  1461   149000.0\n",
      "1  1462   155000.0\n",
      "2  1463   192000.0\n",
      "3  1464   178000.0\n",
      "4  1465   213500.0\n",
      "\n",
      " Finish\n"
     ]
    }
   ],
   "source": [
    "# create a csv that contains the predicted SalePrice for each observation in the test.csv dataset.\n",
    "submission = pd.DataFrame()\n",
    "# The first column must the contain the ID from the test data.\n",
    "submission['Id'] = test.Id\n",
    "\n",
    "# select the features from the test data for the model as we did above.\n",
    "feats = test.select_dtypes(\n",
    "    include=[np.number]).drop(['Id'], axis=1).interpolate()\n",
    "\n",
    "# generate predictions\n",
    "predictions = regr_1.predict(feats)\n",
    "\n",
    "# transform the predictions to the correct form\n",
    "# apply np.exp() to our predictions becasuse we have taken the logarithm(np.log()) previously.\n",
    "final_predictions = np.exp(predictions)\n",
    "\n",
    "print(\"28 \\n\")\n",
    "\n",
    "# check the difference\n",
    "print(\"Original predictions are: \\n\", predictions[:10], \"\\n\")\n",
    "print(\"Final predictions are: \\n\", final_predictions[:10])\n",
    "\n",
    "print(\"29 \\n\")\n",
    "# assign these predictions and check\n",
    "submission['SalePrice'] = final_predictions\n",
    "# submission.head()\n",
    "print(submission.head())\n",
    "\n",
    "# export to a .csv file as Kaggle expects.\n",
    "# pass index=False because Pandas otherwise would create a new index for us.\n",
    "submission.to_csv('submission3.csv', index=False)\n",
    "\n",
    "\n",
    "print(\"\\n Finish\")"
   ]
  },
  {
   "cell_type": "code",
   "execution_count": 307,
   "metadata": {},
   "outputs": [
    {
     "name": "stdout",
     "output_type": "stream",
     "text": [
      "28 \n",
      "\n",
      "Original predictions are: \n",
      " [11.59684644 11.97750205 12.09578102 12.20993005 12.15752461 12.06457507\n",
      " 12.08360931 12.01917195 12.15423517 11.64561591] \n",
      "\n",
      "Final predictions are: \n",
      " [108754.29440567 159134.02488779 179114.5841802  200772.97021539\n",
      " 190522.31489978 173611.45543643 176947.66830073 165905.22086637\n",
      " 189896.63358315 114189.64639534]\n",
      "29 \n",
      "\n",
      "     Id      SalePrice\n",
      "0  1461  108754.294406\n",
      "1  1462  159134.024888\n",
      "2  1463  179114.584180\n",
      "3  1464  200772.970215\n",
      "4  1465  190522.314900\n",
      "\n",
      " Finish\n"
     ]
    }
   ],
   "source": [
    "# create a csv that contains the predicted SalePrice for each observation in the test.csv dataset.\n",
    "submission = pd.DataFrame()\n",
    "# The first column must the contain the ID from the test data.\n",
    "submission['Id'] = test.Id\n",
    "\n",
    "# select the features from the test data for the model as we did above.\n",
    "feats = test.select_dtypes(\n",
    "    include=[np.number]).drop(['Id'], axis=1).interpolate()\n",
    "\n",
    "# generate predictions\n",
    "predictions = regr_2.predict(feats)\n",
    "\n",
    "# transform the predictions to the correct form\n",
    "# apply np.exp() to our predictions becasuse we have taken the logarithm(np.log()) previously.\n",
    "final_predictions = np.exp(predictions)\n",
    "\n",
    "print(\"28 \\n\")\n",
    "\n",
    "# check the difference\n",
    "print(\"Original predictions are: \\n\", predictions[:10], \"\\n\")\n",
    "print(\"Final predictions are: \\n\", final_predictions[:10])\n",
    "\n",
    "print(\"29 \\n\")\n",
    "# assign these predictions and check\n",
    "submission['SalePrice'] = final_predictions\n",
    "# submission.head()\n",
    "print(submission.head())\n",
    "\n",
    "# export to a .csv file as Kaggle expects.\n",
    "# pass index=False because Pandas otherwise would create a new index for us.\n",
    "submission.to_csv('submission4.csv', index=False)\n",
    "\n",
    "\n",
    "print(\"\\n Finish\")"
   ]
  },
  {
   "cell_type": "code",
   "execution_count": 97,
   "metadata": {},
   "outputs": [
    {
     "name": "stdout",
     "output_type": "stream",
     "text": [
      "28 \n",
      "\n",
      "Original predictions are: \n",
      " [7.86005   7.900352  8.031848  8.031848  8.071892  8.031848  7.9831786\n",
      " 7.991914  8.025145  7.903463 ] \n",
      "\n",
      "Final predictions are: \n",
      " [2591.6504 2698.232  3077.4233 3077.4233 3203.1558 3077.4233 2931.2336\n",
      " 2956.9504 3056.8633 2706.639 ]\n",
      "29 \n",
      "\n",
      "     Id    SalePrice\n",
      "0  1461  2591.650391\n",
      "1  1462  2698.231934\n",
      "2  1463  3077.423340\n",
      "3  1464  3077.423340\n",
      "4  1465  3203.155762\n",
      "\n",
      " Finish\n"
     ]
    }
   ],
   "source": [
    "# create a csv that contains the predicted SalePrice for each observation in the test.csv dataset.\n",
    "submission = pd.DataFrame()\n",
    "# The first column must the contain the ID from the test data.\n",
    "submission['Id'] = test.Id\n",
    "\n",
    "# select the features from the test data for the model as we did above.\n",
    "feats = test.select_dtypes(\n",
    "    include=[np.number]).drop(['Id'], axis=1).interpolate()\n",
    "\n",
    "# generate predictions\n",
    "predictions = xg_reg.predict(feats)\n",
    "\n",
    "# transform the predictions to the correct form\n",
    "# apply np.exp() to our predictions becasuse we have taken the logarithm(np.log()) previously.\n",
    "final_predictions = np.exp(predictions)\n",
    "\n",
    "print(\"28 \\n\")\n",
    "\n",
    "# check the difference\n",
    "print(\"Original predictions are: \\n\", predictions[:10], \"\\n\")\n",
    "print(\"Final predictions are: \\n\", final_predictions[:10])\n",
    "\n",
    "print(\"29 \\n\")\n",
    "# assign these predictions and check\n",
    "submission['SalePrice'] = final_predictions\n",
    "# submission.head()\n",
    "print(submission.head())\n",
    "\n",
    "# export to a .csv file as Kaggle expects.\n",
    "# pass index=False because Pandas otherwise would create a new index for us.\n",
    "submission.to_csv('submission5.csv', index=False)\n",
    "\n",
    "\n",
    "print(\"\\n Finish\")"
   ]
  },
  {
   "cell_type": "code",
   "execution_count": 107,
   "metadata": {},
   "outputs": [
    {
     "name": "stdout",
     "output_type": "stream",
     "text": [
      "28 \n",
      "\n",
      "Original predictions are: \n",
      " [12.05737245 12.06294383 12.06158416 12.06960244 11.97037562 12.06597885\n",
      " 12.06266768 11.90308333 12.06002544 11.97472123] \n",
      "\n",
      "Final predictions are: \n",
      " [172365.49200861 173328.48487577 173092.97548357 174486.46354808\n",
      " 158003.99905686 173855.33933101 173280.62773505 147721.39792374\n",
      " 172823.38221793 158692.1157709 ]\n",
      "29 \n",
      "\n",
      "     Id      SalePrice\n",
      "0  1461  172365.492009\n",
      "1  1462  173328.484876\n",
      "2  1463  173092.975484\n",
      "3  1464  174486.463548\n",
      "4  1465  158003.999057\n",
      "\n",
      " Finish\n"
     ]
    }
   ],
   "source": [
    "# create a csv that contains the predicted SalePrice for each observation in the test.csv dataset.\n",
    "submission = pd.DataFrame()\n",
    "# The first column must the contain the ID from the test data.\n",
    "submission['Id'] = test.Id\n",
    "\n",
    "# select the features from the test data for the model as we did above.\n",
    "feats = test.select_dtypes(\n",
    "    include=[np.number]).drop(['Id'], axis=1).interpolate()\n",
    "\n",
    "# generate predictions\n",
    "predictions = clf.predict(feats)\n",
    "\n",
    "# transform the predictions to the correct form\n",
    "# apply np.exp() to our predictions becasuse we have taken the logarithm(np.log()) previously.\n",
    "final_predictions = np.exp(predictions)\n",
    "\n",
    "print(\"28 \\n\")\n",
    "\n",
    "# check the difference\n",
    "print(\"Original predictions are: \\n\", predictions[:10], \"\\n\")\n",
    "print(\"Final predictions are: \\n\", final_predictions[:10])\n",
    "\n",
    "print(\"29 \\n\")\n",
    "# assign these predictions and check\n",
    "submission['SalePrice'] = final_predictions\n",
    "# submission.head()\n",
    "print(submission.head())\n",
    "\n",
    "# export to a .csv file as Kaggle expects.\n",
    "# pass index=False because Pandas otherwise would create a new index for us.\n",
    "submission.to_csv('submission6.csv', index=False)\n",
    "\n",
    "\n",
    "print(\"\\n Finish\")"
   ]
  },
  {
   "cell_type": "code",
   "execution_count": 122,
   "metadata": {},
   "outputs": [
    {
     "name": "stdout",
     "output_type": "stream",
     "text": [
      "28 \n",
      "\n",
      "Original predictions are: \n",
      " [208 156 314 425 272 323 377 317 314 151] \n",
      "\n",
      "Final predictions are: \n",
      " [2.15403242e+090 5.62262575e+067 2.33597030e+136 3.75971399e+184\n",
      " 1.34307133e+118 1.89285634e+140 5.35820935e+163 4.69192178e+137\n",
      " 2.33597030e+136 3.78849543e+065]\n",
      "29 \n",
      "\n",
      "     Id      SalePrice\n",
      "0  1461   2.154032e+90\n",
      "1  1462   5.622626e+67\n",
      "2  1463  2.335970e+136\n",
      "3  1464  3.759714e+184\n",
      "4  1465  1.343071e+118\n",
      "\n",
      " Finish\n"
     ]
    }
   ],
   "source": [
    "# create a csv that contains the predicted SalePrice for each observation in the test.csv dataset.\n",
    "submission = pd.DataFrame()\n",
    "# The first column must the contain the ID from the test data.\n",
    "submission['Id'] = test.Id\n",
    "\n",
    "# select the features from the test data for the model as we did above.\n",
    "feats = test.select_dtypes(\n",
    "    include=[np.number]).drop(['Id'], axis=1).interpolate()\n",
    "\n",
    "# generate predictions\n",
    "predictions =LogReg.predict(feats)\n",
    "\n",
    "# transform the predictions to the correct form\n",
    "# apply np.exp() to our predictions becasuse we have taken the logarithm(np.log()) previously.\n",
    "final_predictions = np.exp(predictions)\n",
    "\n",
    "print(\"28 \\n\")\n",
    "\n",
    "# check the difference\n",
    "print(\"Original predictions are: \\n\", predictions[:10], \"\\n\")\n",
    "print(\"Final predictions are: \\n\", final_predictions[:10])\n",
    "\n",
    "print(\"29 \\n\")\n",
    "# assign these predictions and check\n",
    "submission['SalePrice'] = final_predictions\n",
    "# submission.head()\n",
    "print(submission.head())\n",
    "\n",
    "# export to a .csv file as Kaggle expects.\n",
    "# pass index=False because Pandas otherwise would create a new index for us.\n",
    "submission.to_csv('submission7.csv', index=False)\n",
    "\n",
    "\n",
    "print(\"\\n Finish\")"
   ]
  },
  {
   "cell_type": "code",
   "execution_count": 135,
   "metadata": {},
   "outputs": [
    {
     "name": "stdout",
     "output_type": "stream",
     "text": [
      "28 \n",
      "\n",
      "Original predictions are: \n",
      " [11.78007007 11.89025687 12.22897198 12.20281026 12.04863896 12.08772637\n",
      " 12.13012922 12.01643303 12.11067381 11.78005065] \n",
      "\n",
      "Final predictions are: \n",
      " [130622.93255693 145838.75403897 204632.70793372 199348.5852847\n",
      " 170866.69364593 177677.67517539 185373.72862562 165451.44155013\n",
      " 181802.06387342 130620.39480962]\n",
      "29 \n",
      "\n",
      "     Id      SalePrice\n",
      "0  1461  130622.932557\n",
      "1  1462  145838.754039\n",
      "2  1463  204632.707934\n",
      "3  1464  199348.585285\n",
      "4  1465  170866.693646\n",
      "\n",
      " Finish\n"
     ]
    }
   ],
   "source": [
    "# create a csv that contains the predicted SalePrice for each observation in the test.csv dataset.\n",
    "submission = pd.DataFrame()\n",
    "# The first column must the contain the ID from the test data.\n",
    "submission['Id'] = test.Id\n",
    "\n",
    "# select the features from the test data for the model as we did above.\n",
    "feats = test.select_dtypes(\n",
    "    include=[np.number]).drop(['Id'], axis=1).interpolate()\n",
    "\n",
    "# generate predictions\n",
    "predictions =clf.predict(feats)\n",
    "\n",
    "# transform the predictions to the correct form\n",
    "# apply np.exp() to our predictions becasuse we have taken the logarithm(np.log()) previously.\n",
    "final_predictions = np.exp(predictions)\n",
    "\n",
    "print(\"28 \\n\")\n",
    "\n",
    "# check the difference\n",
    "print(\"Original predictions are: \\n\", predictions[:10], \"\\n\")\n",
    "print(\"Final predictions are: \\n\", final_predictions[:10])\n",
    "\n",
    "print(\"29 \\n\")\n",
    "# assign these predictions and check\n",
    "submission['SalePrice'] = final_predictions\n",
    "# submission.head()\n",
    "print(submission.head())\n",
    "\n",
    "# export to a .csv file as Kaggle expects.\n",
    "# pass index=False because Pandas otherwise would create a new index for us.\n",
    "submission.to_csv('submission8.csv', index=False)\n",
    "\n",
    "\n",
    "print(\"\\n Finish\")"
   ]
  },
  {
   "cell_type": "markdown",
   "metadata": {
    "collapsed": true
   },
   "source": [
    "<h2>Réseau de neurone</h2>"
   ]
  },
  {
   "cell_type": "code",
   "execution_count": 95,
   "metadata": {},
   "outputs": [
    {
     "name": "stderr",
     "output_type": "stream",
     "text": [
      "Using TensorFlow backend.\n"
     ]
    }
   ],
   "source": [
    "import keras\n",
    "from keras.layers import Dense\n",
    "from keras.models import Sequential"
   ]
  },
  {
   "cell_type": "code",
   "execution_count": 96,
   "metadata": {
    "collapsed": true
   },
   "outputs": [],
   "source": [
    "import numpy as np"
   ]
  },
  {
   "cell_type": "code",
   "execution_count": 97,
   "metadata": {
    "collapsed": true
   },
   "outputs": [],
   "source": [
    "y = np.log(train.SalePrice)"
   ]
  },
  {
   "cell_type": "code",
   "execution_count": 98,
   "metadata": {
    "collapsed": true
   },
   "outputs": [],
   "source": [
    "features =X"
   ]
  },
  {
   "cell_type": "code",
   "execution_count": 99,
   "metadata": {},
   "outputs": [
    {
     "data": {
      "text/plain": [
       "79"
      ]
     },
     "execution_count": 99,
     "metadata": {},
     "output_type": "execute_result"
    }
   ],
   "source": [
    "n_cols = X.shape[1]\n",
    "n_cols"
   ]
  },
  {
   "cell_type": "code",
   "execution_count": 100,
   "metadata": {
    "collapsed": true
   },
   "outputs": [],
   "source": [
    "model = Sequential()"
   ]
  },
  {
   "cell_type": "code",
   "execution_count": 101,
   "metadata": {
    "collapsed": true
   },
   "outputs": [],
   "source": [
    "model.add(Dense(100, activation='relu', input_shape = (n_cols,)))\n",
    "model.add(Dense(100, activation='relu'))\n",
    "model.add(Dense(100, activation='relu'))\n",
    "model.add(Dense(100, activation='relu'))\n",
    "model.add(Dense(100, activation='relu'))\n",
    "model.add(Dense(1,))"
   ]
  },
  {
   "cell_type": "code",
   "execution_count": 102,
   "metadata": {
    "collapsed": true
   },
   "outputs": [],
   "source": [
    "model.compile(optimizer='adam', loss='mse')"
   ]
  },
  {
   "cell_type": "code",
   "execution_count": 103,
   "metadata": {},
   "outputs": [
    {
     "data": {
      "text/plain": [
       "0       12.247694\n",
       "1       12.109011\n",
       "2       12.317167\n",
       "3       11.849398\n",
       "4       12.429216\n",
       "5       11.870600\n",
       "6       12.634603\n",
       "7       12.206073\n",
       "8       11.774520\n",
       "9       11.678440\n",
       "10      11.771436\n",
       "11      12.751300\n",
       "12      11.877569\n",
       "13      12.540758\n",
       "14      11.964001\n",
       "15      11.790557\n",
       "16      11.911702\n",
       "17      11.407565\n",
       "18      11.976659\n",
       "19      11.842229\n",
       "20      12.692503\n",
       "21      11.845103\n",
       "22      12.345835\n",
       "23      11.774520\n",
       "24      11.944708\n",
       "25      12.454104\n",
       "26      11.811547\n",
       "27      12.631340\n",
       "28      12.242887\n",
       "29      11.134589\n",
       "          ...    \n",
       "1430    12.165980\n",
       "1431    11.875831\n",
       "1432    11.074421\n",
       "1433    12.136187\n",
       "1434    11.982929\n",
       "1435    12.066811\n",
       "1436    11.699405\n",
       "1437    12.885671\n",
       "1438    11.916389\n",
       "1439    12.190959\n",
       "1440    12.160029\n",
       "1441    11.913713\n",
       "1442    12.644328\n",
       "1443    11.703546\n",
       "1444    12.098487\n",
       "1445    11.767568\n",
       "1446    11.969717\n",
       "1447    12.388394\n",
       "1448    11.626254\n",
       "1449    11.429544\n",
       "1450    11.820410\n",
       "1451    12.567551\n",
       "1452    11.884489\n",
       "1453    11.344507\n",
       "1454    12.128111\n",
       "1455    12.072541\n",
       "1456    12.254863\n",
       "1457    12.493130\n",
       "1458    11.864462\n",
       "1459    11.901583\n",
       "Name: SalePrice, Length: 1460, dtype: float64"
      ]
     },
     "execution_count": 103,
     "metadata": {},
     "output_type": "execute_result"
    }
   ],
   "source": [
    "target"
   ]
  },
  {
   "cell_type": "code",
   "execution_count": 104,
   "metadata": {},
   "outputs": [
    {
     "name": "stdout",
     "output_type": "stream",
     "text": [
      "Train on 1015 samples, validate on 436 samples\n",
      "Epoch 1/10\n",
      "1015/1015 [==============================] - 2s 2ms/step - loss: 7494.2230 - val_loss: 665.7444\n",
      "Epoch 2/10\n",
      "1015/1015 [==============================] - 0s 84us/step - loss: 417.5333 - val_loss: 45.6879\n",
      "Epoch 3/10\n",
      "1015/1015 [==============================] - 0s 78us/step - loss: 128.1211 - val_loss: 32.0979\n",
      "Epoch 4/10\n",
      "1015/1015 [==============================] - 0s 84us/step - loss: 22.1702 - val_loss: 17.6915\n",
      "Epoch 5/10\n",
      "1015/1015 [==============================] - 0s 81us/step - loss: 13.0165 - val_loss: 16.5660\n",
      "Epoch 6/10\n",
      "1015/1015 [==============================] - 0s 84us/step - loss: 19.5945 - val_loss: 31.7761\n",
      "Epoch 7/10\n",
      "1015/1015 [==============================] - 0s 84us/step - loss: 20.6218 - val_loss: 38.7684\n",
      "Epoch 8/10\n",
      "1015/1015 [==============================] - 0s 87us/step - loss: 17.2835 - val_loss: 15.3787\n",
      "Epoch 9/10\n",
      "1015/1015 [==============================] - 0s 78us/step - loss: 16.3388 - val_loss: 26.0437\n",
      "Epoch 10/10\n",
      "1015/1015 [==============================] - 0s 82us/step - loss: 33.5883 - val_loss: 18.3868\n"
     ]
    },
    {
     "data": {
      "text/plain": [
       "<keras.callbacks.History at 0x1ca19dba400>"
      ]
     },
     "execution_count": 104,
     "metadata": {},
     "output_type": "execute_result"
    }
   ],
   "source": [
    "model.fit(X, y, validation_split=0.3, epochs=10)"
   ]
  },
  {
   "cell_type": "code",
   "execution_count": 105,
   "metadata": {},
   "outputs": [
    {
     "name": "stdout",
     "output_type": "stream",
     "text": [
      "Train on 1015 samples, validate on 436 samples\n",
      "Epoch 1/30\n",
      "1015/1015 [==============================] - 0s 84us/step - loss: 9.0996 - val_loss: 10.1704\n",
      "Epoch 2/30\n",
      "1015/1015 [==============================] - 0s 77us/step - loss: 22.8133 - val_loss: 31.3731\n",
      "Epoch 3/30\n",
      "1015/1015 [==============================] - 0s 85us/step - loss: 13.2165 - val_loss: 12.0151\n"
     ]
    },
    {
     "data": {
      "text/plain": [
       "<keras.callbacks.History at 0x1ca1a49eac8>"
      ]
     },
     "execution_count": 105,
     "metadata": {},
     "output_type": "execute_result"
    }
   ],
   "source": [
    "# Import EarlyStopping\n",
    "from keras.callbacks import EarlyStopping\n",
    "\n",
    "# Define early_stopping_monitor\n",
    "early_stopping_monitor = EarlyStopping(patience=2)\n",
    "\n",
    "# Fit the model\n",
    "model.fit(X, y, validation_split=0.3, epochs=30, callbacks=[early_stopping_monitor])"
   ]
  },
  {
   "cell_type": "code",
   "execution_count": 106,
   "metadata": {},
   "outputs": [
    {
     "name": "stdout",
     "output_type": "stream",
     "text": [
      "28 \n",
      "\n",
      "Original predictions are: \n",
      " [[14.528922]\n",
      " [30.408758]\n",
      " [14.790704]\n",
      " [12.792907]\n",
      " [13.562213]\n",
      " [14.877395]\n",
      " [12.529406]\n",
      " [12.415484]\n",
      " [11.669471]\n",
      " [13.36102 ]] \n",
      "\n",
      "Final predictions are: \n",
      " [[2.04094212e+06]\n",
      " [1.60825858e+13]\n",
      " [2.65167950e+06]\n",
      " [3.59657250e+05]\n",
      " [7.76236812e+05]\n",
      " [2.89181450e+06]\n",
      " [2.76345062e+05]\n",
      " [2.46590516e+05]\n",
      " [1.16946375e+05]\n",
      " [6.34771312e+05]]\n",
      "29 \n",
      "\n",
      "     Id     SalePrice\n",
      "0  1461  2.040942e+06\n",
      "1  1462  1.608259e+13\n",
      "2  1463  2.651680e+06\n",
      "3  1464  3.596572e+05\n",
      "4  1465  7.762368e+05\n",
      "\n",
      " Finish\n"
     ]
    }
   ],
   "source": [
    "# create a csv that contains the predicted SalePrice for each observation in the test.csv dataset.\n",
    "submission = pd.DataFrame()\n",
    "# The first column must the contain the ID from the test data.\n",
    "submission['Id'] = test.Id\n",
    "\n",
    "# select the features from the test data for the model as we did above.\n",
    "feats = test.select_dtypes(\n",
    "    include=[np.number]).drop(['Id'], axis=1).interpolate()\n",
    "\n",
    "# generate predictions\n",
    "predictions =model.predict(feats)\n",
    "\n",
    "# transform the predictions to the correct form\n",
    "# apply np.exp() to our predictions becasuse we have taken the logarithm(np.log()) previously.\n",
    "final_predictions = np.exp(predictions)\n",
    "\n",
    "print(\"28 \\n\")\n",
    "\n",
    "# check the difference\n",
    "print(\"Original predictions are: \\n\", predictions[:10], \"\\n\")\n",
    "print(\"Final predictions are: \\n\", final_predictions[:10])\n",
    "\n",
    "print(\"29 \\n\")\n",
    "# assign these predictions and check\n",
    "submission['SalePrice'] = final_predictions\n",
    "# submission.head()\n",
    "print(submission.head())\n",
    "\n",
    "# export to a .csv file as Kaggle expects.\n",
    "# pass index=False because Pandas otherwise would create a new index for us.\n",
    "submission.to_csv('submission18.csv', index=False)\n",
    "\n",
    "\n",
    "print(\"\\n Finish\")"
   ]
  },
  {
   "cell_type": "code",
   "execution_count": null,
   "metadata": {
    "collapsed": true
   },
   "outputs": [],
   "source": []
  }
 ],
 "metadata": {
  "kernelspec": {
   "display_name": "Python 3",
   "language": "python",
   "name": "python3"
  },
  "language_info": {
   "codemirror_mode": {
    "name": "ipython",
    "version": 3
   },
   "file_extension": ".py",
   "mimetype": "text/x-python",
   "name": "python",
   "nbconvert_exporter": "python",
   "pygments_lexer": "ipython3",
   "version": "3.6.3"
  }
 },
 "nbformat": 4,
 "nbformat_minor": 2
}
